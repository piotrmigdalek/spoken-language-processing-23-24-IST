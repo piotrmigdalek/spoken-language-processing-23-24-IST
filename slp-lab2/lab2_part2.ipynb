{
 "cells": [
  {
   "cell_type": "markdown",
   "metadata": {},
   "source": [
    "<!-- # <span style=\"color:red\">UNDER CONSTRUCTION!!!!</span> -->\n",
    "\n",
    "# Spoken Language Processing - Instituto Superior Técnico\n",
    "## Laboratory Assignment 2 - Native Language Identification challenge\n",
    "\n",
    "# PART 2 - Using pre-trained models\n",
    "\n",
    "\n",
    "This notebook contains the guide and code cells that permit implementing two advanced systems for native language identification based on:\n",
    "- speaker representations (utterance-based) obtained with an x-vector model; \n",
    "- speech representations (frame-based) obtained with a self-supervised learning (SSL) pre-trained model. \n",
    "\n",
    "Besides, the notebook will show how to obtain predictions and score the systems on the development set."
   ]
  },
  {
   "cell_type": "markdown",
   "metadata": {},
   "source": [
    "## Before starting\n",
    "\n",
    "Let's import some modules and make some definitions:"
   ]
  },
  {
   "cell_type": "code",
   "execution_count": 1,
   "metadata": {},
   "outputs": [
    {
     "name": "stderr",
     "output_type": "stream",
     "text": [
      "c:\\Users\\Piotr\\Desktop\\spoken-language-processing-23-24-IST\\.venv\\Lib\\site-packages\\tqdm\\auto.py:21: TqdmWarning: IProgress not found. Please update jupyter and ipywidgets. See https://ipywidgets.readthedocs.io/en/stable/user_install.html\n",
      "  from .autonotebook import tqdm as notebook_tqdm\n",
      "torchvision is not available - cannot save figures\n"
     ]
    }
   ],
   "source": [
    "import os \n",
    "import csv \n",
    "import time\n",
    "import pickle\n",
    "import numpy as np\n",
    "\n",
    "from pf_tools import CheckThisCell, ETS\n",
    "from speechbrain.inference.classifiers import EncoderClassifier\n",
    "from speechbrain.utils.data_utils import split_path\n",
    "from sklearn.svm import LinearSVC\n",
    "from sklearn.metrics import classification_report, accuracy_score, confusion_matrix\n",
    "import matplotlib.pyplot as plt\n",
    "\n",
    "LANGUAGES = ('CHI',  'GER',  'HIN',  'ITA')\n",
    "LANG2ID = {'CHI':1, 'GER':2, 'HIN':3, 'ITA':4}\n",
    "ID2LANG = dict((LANG2ID[k],k)for k in LANG2ID)"
   ]
  },
  {
   "cell_type": "markdown",
   "metadata": {},
   "source": [
    "Like in the previous Notebooks, you need to mount Google drive if you are working on Google Colab. Otherwise, you should skip or delete the following code cell:"
   ]
  },
  {
   "cell_type": "code",
   "execution_count": null,
   "metadata": {},
   "outputs": [],
   "source": [
    "\n",
    "raise CheckThisCell ## <---- Remove this torun this cell if you are on Google Colab\n",
    "from google.colab import drive\n",
    "drive.mount('/content/drive')"
   ]
  },
  {
   "cell_type": "markdown",
   "metadata": {},
   "source": [
    "\n",
    "Like in Part1, the audio data is expected to be in a folder with the following format:\n",
    "\n",
    "```\n",
    "ets_data/\n",
    "├── train/\n",
    "│   └── audio/\n",
    "│       └──wav files\n",
    "│   └── key.lst \n",
    "│\n",
    "└── train100/\n",
    "    └── audio/\n",
    "        └──wav files\n",
    "    └── key.lst\n",
    "... \n",
    "```\n",
    "\n",
    "You must already have this from part 1, so you can set-up your data directory:"
   ]
  },
  {
   "cell_type": "code",
   "execution_count": 2,
   "metadata": {},
   "outputs": [
    {
     "name": "stdout",
     "output_type": "stream",
     "text": [
      "Your ETS data should be in this folder c:\\Users\\Piotr\\Desktop\\spoken-language-processing-23-24-IST\\slp-lab2/ets_data/\n"
     ]
    }
   ],
   "source": [
    "\n",
    "#raise CheckThisCell ## <---- Remove this after completing/checking this cell\n",
    "\n",
    "CWD = os.getcwd()\n",
    "DATADIR = f'{CWD}/ets_data/' # <--- Change this variable to your working directory containig the ETS data\n",
    "if not os.path.isdir(DATADIR):\n",
    "    os.mkdir(DATADIR)\n",
    "    print(f'WARNING: Your data is not in the folder {DATADIR}')\n",
    "\n",
    "os.chdir(CWD)\n",
    "print(f'Your ETS data should be in this folder {DATADIR}')\n"
   ]
  },
  {
   "cell_type": "markdown",
   "metadata": {},
   "source": [
    "If you need to download again the data, you can run the following cell:"
   ]
  },
  {
   "cell_type": "code",
   "execution_count": null,
   "metadata": {},
   "outputs": [],
   "source": [
    "raise CheckThisCell\n",
    "\n",
    "os.chdir(DATADIR)\n",
    "\n",
    "# download train\n",
    "!wget http://groups.tecnico.ulisboa.pt/speechproc/pf24/lab2/train.tgz\n",
    "!tar -xzvf train.tgz\n",
    "\n",
    "#download train100\n",
    "!wget http://groups.tecnico.ulisboa.pt/speechproc/pf24/lab2/train100.tgz\n",
    "!tar -xzvf train100.tgz\n",
    "\n",
    "#download dev\n",
    "!wget http://groups.tecnico.ulisboa.pt/speechproc/pf24/lab2/dev.tgz\n",
    "!tar -xzvf dev.tgz\n",
    "\n",
    "#download evl\n",
    "!wget http://groups.tecnico.ulisboa.pt/speechproc/pf24/lab2/evl.tgz\n",
    "!tar -xzvf evl.tgz\n",
    "\n",
    "os.chdir(CWD)"
   ]
  },
  {
   "cell_type": "markdown",
   "metadata": {},
   "source": [
    "## 2.1 Using pre-trained speaker embeddings (x-vectors)\n",
    "\n",
    "The goal of this part of the lab is to get familiar with and show how to use pre-trained speaker embedings (a.k.a. x-vectors) for speech classification tasks.\n",
    "\n",
    "There exist plenty of resources and pre-trained models that can be  useful for our task. In particular, x-vectors are the current state of the art approach to obtain speech embeddings that characterize very efficiently speaker or language, among others. X-vectors are neural models typically trained for speaker identification in a supervised way, but also in some cases for other related tasks, like language recognition. Once trained, they can be used to obtain a single embedding vector of fixed dimension for each audio input. This vector corresponds to the activations of one of the layers after the pooling layer. \n",
    "\n",
    "The following are examples of x-vector models available in the `speechbrain` module: \n",
    "\n",
    "- `speechbrain/spkrec-ecapa-voxceleb`: trained using a large speaker corpus for speaker verification: https://huggingface.co/speechbrain/spkrec-ecapa-voxceleb\n",
    "\n",
    "- `speechbrain/lang-id-voxlingua107-ecapa`: trained using a large corpus of 107 languages for language identification: https://huggingface.co/speechbrain/lang-id-voxlingua107-ecapa\n",
    "\n",
    "- `speechbrain/lang-id-commonlanguage_ecapa`: trained using a large corpus of 45 languages for language identification: https://huggingface.co/speechbrain/lang-id-commonlanguage_ecapa\n"
   ]
  },
  {
   "cell_type": "markdown",
   "metadata": {},
   "source": [
    "The following code cell shows how to import one of those models to obtain an embedding vector:"
   ]
  },
  {
   "cell_type": "code",
   "execution_count": 3,
   "metadata": {},
   "outputs": [],
   "source": [
    "\n",
    "xvector_model = EncoderClassifier.from_hparams(source=f\"{CWD}/tmp\", savedir=f\"{CWD}/tmp\")\n",
    "\n",
    "signal = xvector_model.load_audio(f'{DATADIR}/train100/audio/train_0005.wav')\n",
    "emb =  xvector_model.encode_batch(signal, normalize=True)\n"
   ]
  },
  {
   "cell_type": "markdown",
   "metadata": {},
   "source": [
    "These (very informative) embedding vectors can be used to train simple models for several speech classification tasks, achieving excellent results. In particular, in this lab assignment, we will train a simple linear SVM on top of these x-vectors. "
   ]
  },
  {
   "cell_type": "markdown",
   "metadata": {},
   "source": [
    "### 2.1.1 Extracting x-vectors for the ETS datasets\n",
    "\n",
    "Just like in Part1, we will code the feature transformation to process all data and obtain x-vectors. In this case, the function should receive as arguments the audio filename and an instance of `EncoderClassifier` (the x-vector model) and return the numpy array with the features. You must complete the following code using the previous example:"
   ]
  },
  {
   "cell_type": "code",
   "execution_count": 13,
   "metadata": {},
   "outputs": [
    {
     "data": {
      "text/plain": [
       "((1, 192), numpy.ndarray)"
      ]
     },
     "execution_count": 13,
     "metadata": {},
     "output_type": "execute_result"
    }
   ],
   "source": [
    "\n",
    "#raise CheckThisCell ## <---- Remove this after completing/checking this cell\n",
    "\n",
    "# This function receives a filename and one encoder model \n",
    "# (for instance, xvector_model object in previous cell example) and returns \n",
    "# the extracted x-vectors as a numpy array of shape (1, embedding_dimension).\n",
    "# Notice that the encoder extractor module generates a softlink to each audio \n",
    "# file. To avoid generating \"junk\", you can delete this link also in the\n",
    "# function \n",
    "\n",
    "def extract_xvec(filename, emb_model):\n",
    "    \n",
    "    signal = xvector_model.load_audio(filename)\n",
    "    embedding = emb_model.encode_batch(signal)\n",
    "\n",
    "    # Remove the \"annoying\" soft-link\n",
    "    _, fl = split_path(filename)\n",
    "    if os.path.islink(fl):\n",
    "        os.remove(fl)\n",
    "\n",
    "    return embedding.squeeze().numpy().reshape(1,-1)\n",
    "\n",
    "# This must return a numpy array of shape (1,256). \n",
    "# The 256 may depend on the specific model\n",
    "emb = extract_xvec(f'{DATADIR}/train100/audio/train_0005.wav' , xvector_model)\n",
    "\n",
    "# Check that this shape and type\n",
    "emb.shape, type(emb)"
   ]
  },
  {
   "cell_type": "markdown",
   "metadata": {},
   "source": [
    "Let's generate the x-vectors for all our data sets using the ETS class and store in disk. Like in Part 1, we can keep different transformation configurations in a dictionary for later usage. In this assignment, you can try to different x-vector models."
   ]
  },
  {
   "cell_type": "code",
   "execution_count": 15,
   "metadata": {},
   "outputs": [
    {
     "name": "stderr",
     "output_type": "stream",
     "text": [
      "  0%|          | 0.00/491M [00:00<?, ?B/s]"
     ]
    },
    {
     "name": "stderr",
     "output_type": "stream",
     "text": [
      "100%|██████████| 491M/491M [00:08<00:00, 61.9MB/s] \n",
      "100%|██████████| 400/400 [8:54:28<00:00, 80.17s/it]      \n",
      "100%|██████████| 217M/217M [00:16<00:00, 13.5MB/s] \n",
      "100%|██████████| 176/176 [16:28<00:00,  5.61s/it]\n",
      "100%|██████████| 209M/209M [00:18<00:00, 12.1MB/s] \n",
      "100%|██████████| 170/170 [17:13<00:00,  6.08s/it]\n"
     ]
    }
   ],
   "source": [
    "\n",
    "#raise CheckThisCell ## <---- Remove this after completing/checking this cell\n",
    "\n",
    "transform = { \n",
    "                'spkrec-ecapa-voxceleb' : # <--- You chan look for different models in speechbrain\n",
    "                {\n",
    "                    'audio_transform': \n",
    "                        lambda x : extract_xvec(x, \n",
    "                            emb_model = EncoderClassifier.from_hparams(\n",
    "                                        source=\"speechbrain/spkrec-ecapa-voxceleb\", # <--- You chan look for different models in speechbrain\n",
    "                                        savedir=f\"{CWD}/tmp/spkrec-ecapa-voxceleb\"\n",
    "                                        )\n",
    "                            ), ## <--- You need to modify this here\n",
    "                    'chunk_transform': None,\n",
    "                    'chunk_size': 0,\n",
    "                    'chunk_hop':0   \n",
    "                }\n",
    "            }\n",
    "\n",
    "transform['lang-id-voxlingua107-ecapa'] = {\n",
    "                    'audio_transform': \n",
    "                        lambda x : extract_xvec(x, \n",
    "                            emb_model = EncoderClassifier.from_hparams(\n",
    "                                        source=\"speechbrain/lang-id-voxlingua107-ecapa\", # <--- You chan look for different models in speechbrain\n",
    "                                        savedir=f\"{CWD}/tmp/lang-id-voxlingua107-ecapa\"\n",
    "                                        )\n",
    "                            ), ## <--- You need to modify this here\n",
    "                    'chunk_transform': None,\n",
    "                    'chunk_size': 0,\n",
    "                    'chunk_hop':0   \n",
    "                }\n",
    "\n",
    "# Download and feature extract\n",
    "trainset = 'train100'\n",
    "transform_id = 'spkrec-ecapa-voxceleb' \n",
    "\n",
    "train_ets = ETS(DATADIR, trainset, \n",
    "                 transform_id=transform_id, \n",
    "                 audio_transform=transform[transform_id]['audio_transform'], \n",
    "                 chunk_transform=transform[transform_id]['chunk_transform'],\n",
    "                 chunk_size=transform[transform_id]['chunk_size'], \n",
    "                 chunk_hop=transform[transform_id]['chunk_hop']\n",
    "                )\n",
    "\n",
    "dev_ets = ETS(DATADIR, 'dev', \n",
    "                 transform_id=transform_id, \n",
    "                 audio_transform=transform[transform_id]['audio_transform'], \n",
    "                 chunk_transform=transform[transform_id]['chunk_transform'],\n",
    "                 chunk_size=transform[transform_id]['chunk_size'], \n",
    "                 chunk_hop=transform[transform_id]['chunk_hop']\n",
    "                )\n",
    "\n",
    "evl_ets = ETS(DATADIR, 'evl', \n",
    "                 transform_id=transform_id, \n",
    "                 audio_transform=transform[transform_id]['audio_transform'], \n",
    "                 chunk_transform=transform[transform_id]['chunk_transform'],\n",
    "                 chunk_size=transform[transform_id]['chunk_size'], \n",
    "                 chunk_hop=transform[transform_id]['chunk_hop']\n",
    "                )"
   ]
  },
  {
   "cell_type": "markdown",
   "metadata": {},
   "source": [
    "### 2.1.2 Training the SVM model \n",
    "\n",
    "As mentioned before, our native language identification system will be a simple SVM model (4-classes) using x-vectors as features. Similarly to Part 1, we must iterate the ETS data instances to store the x-vectors and the labels in numpy arrays:"
   ]
  },
  {
   "cell_type": "code",
   "execution_count": 16,
   "metadata": {},
   "outputs": [
    {
     "name": "stdout",
     "output_type": "stream",
     "text": [
      "Finished reading all data in 2.146310567855835\n",
      "Finished reading all data in 1.358475923538208\n",
      "Finished reading all data in 1.2259979248046875\n"
     ]
    }
   ],
   "source": [
    "# Place train data and reference in a single array train_data and train_label  \n",
    "start = time.time()\n",
    "train_data = []\n",
    "train_labels = []\n",
    "for data, label, basename in train_ets:\n",
    "        train_data.append(data)\n",
    "        train_labels.append(np.full(data.shape[0], label)) \n",
    "\n",
    "train_data = np.concatenate(train_data)\n",
    "train_labels = np.concatenate(train_labels)\n",
    "\n",
    "print(f'Finished reading all data in {time.time() - start}')\n",
    "\n",
    "# Place dev data and reference in a single array dev_data and dev_label\n",
    "start = time.time()\n",
    "dev_data = []\n",
    "dev_labels = []\n",
    "dev_filenames = []\n",
    "for data, label, basename in dev_ets:\n",
    "        dev_data.append(data)\n",
    "        dev_labels.append(np.full(data.shape[0], label)) \n",
    "        dev_filenames.append(basename)\n",
    "\n",
    "dev_data = np.concatenate(dev_data)\n",
    "dev_labels = np.concatenate(dev_labels)\n",
    "\n",
    "print(f'Finished reading all data in {time.time() - start}')\n",
    "\n",
    "# Place evl data and reference in a single array evl_data\n",
    "start = time.time()\n",
    "evl_data = []\n",
    "evl_filenames = []\n",
    "for data, label, basename in evl_ets:\n",
    "        evl_data.append(data)\n",
    "        evl_filenames.append(basename)\n",
    "\n",
    "evl_data = np.concatenate(evl_data)\n",
    "\n",
    "print(f'Finished reading all data in {time.time() - start}')"
   ]
  },
  {
   "cell_type": "code",
   "execution_count": 17,
   "metadata": {},
   "outputs": [
    {
     "data": {
      "text/plain": [
       "((400, 192), (176, 192), (170, 192))"
      ]
     },
     "execution_count": 17,
     "metadata": {},
     "output_type": "execute_result"
    }
   ],
   "source": [
    "train_data.shape, dev_data.shape, evl_data.shape"
   ]
  },
  {
   "cell_type": "markdown",
   "metadata": {},
   "source": [
    "Now, we will use `sklearn` linear SVM to train our classifier and save it for later use."
   ]
  },
  {
   "cell_type": "code",
   "execution_count": null,
   "metadata": {},
   "outputs": [],
   "source": [
    "model = LinearSVC() ### <---- a linear SVM\n",
    "model.fit(train_data, train_labels)  ## <---- train MODEL\n",
    "\n",
    "model_path = f'{DATADIR}/{trainset}/models/'\n",
    "if not os.path.isdir(model_path):\n",
    "    os.mkdir(model_path)\n",
    "    \n",
    "model_name = f'{model_path}/svm_{transform_id}'\n",
    "os.mkdir(f'{model_name}')\n",
    "\n",
    "pickle.dump(model, open(f'{model_name}/model.pkl', 'wb'))"
   ]
  },
  {
   "cell_type": "markdown",
   "metadata": {},
   "source": [
    "It should be extremely easy to experiment other models provided in the `sklearn` module, including SVMs with other kernels, Random Forests, etc.\n"
   ]
  },
  {
   "cell_type": "code",
   "execution_count": 18,
   "metadata": {},
   "outputs": [],
   "source": [
    "from sklearn.linear_model import LogisticRegression\n",
    "from sklearn.svm import SVC\n",
    "from sklearn.naive_bayes import MultinomialNB\n",
    "from sklearn.ensemble import RandomForestClassifier, StackingClassifier\n",
    "from sklearn.metrics import accuracy_score, confusion_matrix, ConfusionMatrixDisplay\n",
    "from sklearn.model_selection import GridSearchCV\n",
    "\n",
    "#!pip install lightgbm\n",
    "from lightgbm import LGBMClassifier\n",
    "\n",
    "best_model_results = []"
   ]
  },
  {
   "cell_type": "markdown",
   "metadata": {},
   "source": [
    "#### Logistic regression"
   ]
  },
  {
   "cell_type": "code",
   "execution_count": 19,
   "metadata": {},
   "outputs": [
    {
     "name": "stdout",
     "output_type": "stream",
     "text": [
      "Best hyperparameters:  {'C': 5, 'max_iter': 2000, 'penalty': 'l2', 'solver': 'saga'}\n",
      "Best score:  0.865\n",
      "Test Accuracy  : 87.50 %\n"
     ]
    }
   ],
   "source": [
    "param_grid_lr = {\n",
    "    'penalty': ['l2', 'l1'],\n",
    "    'C': [1, 5, 8, 10, 12],\n",
    "    'solver': ['saga', 'liblinear'],\n",
    "    'max_iter': [2000],\n",
    "}\n",
    "\n",
    "lr = LogisticRegression()\n",
    "\n",
    "grid_search_lr = GridSearchCV(lr, param_grid_lr, cv=5, n_jobs=-1)\n",
    "grid_search_lr.fit(train_data, train_labels)\n",
    "lr = grid_search_lr.best_estimator_\n",
    "\n",
    "print(\"Best hyperparameters: \", grid_search_lr.best_params_)\n",
    "print(\"Best score: \", grid_search_lr.best_score_)\n",
    "print(\"Test Accuracy  : {:.2f} %\".format(accuracy_score(lr.predict(dev_data), dev_labels)*100))\n",
    "\n",
    "best_model_results.append({'name': 'Logistic Regression',\n",
    "                           'best_gs_score': grid_search_lr.best_score_,\n",
    "                           'test_accuracy': accuracy_score(lr.predict(dev_data), dev_labels)})"
   ]
  },
  {
   "cell_type": "markdown",
   "metadata": {},
   "source": [
    "#### SVM"
   ]
  },
  {
   "cell_type": "code",
   "execution_count": 20,
   "metadata": {},
   "outputs": [
    {
     "name": "stdout",
     "output_type": "stream",
     "text": [
      "Best hyperparameters:  {'C': 5, 'degree': 2, 'gamma': 'scale', 'kernel': 'rbf'}\n",
      "Best score:  0.865\n",
      "Test Accuracy  : 84.66 %\n"
     ]
    }
   ],
   "source": [
    "param_grid_svc = {\n",
    "        'C': [0.1, 0.5, 1, 2, 5, 10],\n",
    "        'kernel': ['linear', 'rbf', 'poly'],\n",
    "        'degree': [2, 3, 4],\n",
    "        'gamma': ['scale', 'auto']\n",
    "}\n",
    "\n",
    "svc = SVC()\n",
    "grid_search_svc = GridSearchCV(svc, param_grid_svc, cv=5, n_jobs=-1)\n",
    "grid_search_svc.fit(train_data, train_labels)\n",
    "\n",
    "svc = SVC(**grid_search_svc.best_params_)\n",
    "svc.fit(train_data, train_labels)\n",
    "\n",
    "print(\"Best hyperparameters: \", grid_search_svc.best_params_)\n",
    "print(\"Best score: \", grid_search_svc.best_score_)\n",
    "print(\"Test Accuracy  : {:.2f} %\".format(accuracy_score(svc.predict(dev_data), dev_labels)*100))\n",
    "\n",
    "best_model_results.append({'name': 'SVM',\n",
    "                           'best_gs_score': grid_search_svc.best_score_,\n",
    "                           'test_accuracy': accuracy_score(svc.predict(dev_data), dev_labels)})"
   ]
  },
  {
   "cell_type": "code",
   "execution_count": 21,
   "metadata": {},
   "outputs": [
    {
     "name": "stdout",
     "output_type": "stream",
     "text": [
      "Best hyperparameters:  {'max_depth': 20, 'min_samples_leaf': 2, 'min_samples_split': 10, 'n_estimators': 200}\n",
      "Best score:  0.8025\n",
      "Test Accuracy  : 80.68 %\n"
     ]
    }
   ],
   "source": [
    "param_grid_rf = {\n",
    "    'n_estimators': [50, 100, 200, 500],\n",
    "    'max_depth': [10, 20, 30, 40, 50],\n",
    "    'min_samples_split': [2, 5, 10],\n",
    "    'min_samples_leaf': [1, 2, 4]\n",
    "}\n",
    "\n",
    "rf = RandomForestClassifier(random_state=42)\n",
    "\n",
    "grid_search_rf = GridSearchCV(rf, param_grid_rf, cv=5, n_jobs=-1)\n",
    "grid_search_rf.fit(train_data, train_labels)\n",
    "rf = grid_search_rf.best_estimator_\n",
    "\n",
    "print(\"Best hyperparameters: \", grid_search_rf.best_params_)\n",
    "print(\"Best score: \", grid_search_rf.best_score_)\n",
    "print(\"Test Accuracy  : {:.2f} %\".format(accuracy_score(rf.predict(dev_data), dev_labels)*100))\n",
    "\n",
    "best_model_results.append({'name': 'Random Forest',\n",
    "                           'best_gs_score': grid_search_rf.best_score_,\n",
    "                           'test_accuracy': accuracy_score(rf.predict(dev_data), dev_labels)})"
   ]
  },
  {
   "cell_type": "code",
   "execution_count": 23,
   "metadata": {},
   "outputs": [
    {
     "name": "stdout",
     "output_type": "stream",
     "text": [
      "Best hyperparameters:  {'alpha': 10, 'fit_prior': True}\n",
      "Best score:  0.8049999999999999\n",
      "Test Accuracy  : 85.23 %\n"
     ]
    }
   ],
   "source": [
    "from sklearn.preprocessing import MinMaxScaler #fixed import\n",
    "\n",
    "scaler = MinMaxScaler()\n",
    "nb_train = scaler.fit_transform(train_data)\n",
    "nb_dev = scaler.transform(dev_data)\n",
    "\n",
    "nb = MultinomialNB()\n",
    "param_grid_nb = {\n",
    "    'alpha': [0.1, 0.5, 1, 2, 5, 10],\n",
    "    'fit_prior': [True, False]\n",
    "}\n",
    "\n",
    "grid_search_nb = GridSearchCV(nb, param_grid_nb, cv=5, n_jobs=-1)\n",
    "grid_search_nb.fit(nb_train, train_labels)\n",
    "\n",
    "nb = MultinomialNB(**grid_search_nb.best_params_)\n",
    "nb.fit(nb_train, train_labels)\n",
    "\n",
    "print(\"Best hyperparameters: \", grid_search_nb.best_params_)\n",
    "print(\"Best score: \", grid_search_nb.best_score_)\n",
    "print(\"Test Accuracy  : {:.2f} %\".format(accuracy_score(nb.predict(nb_dev), dev_labels)*100))\n",
    "\n",
    "best_model_results.append({'name': 'Naive Bayes',\n",
    "                           'best_gs_score': grid_search_nb.best_score_,\n",
    "                           'test_accuracy': accuracy_score(nb.predict(nb_dev), dev_labels)})"
   ]
  },
  {
   "cell_type": "code",
   "execution_count": 24,
   "metadata": {},
   "outputs": [
    {
     "name": "stdout",
     "output_type": "stream",
     "text": [
      "[LightGBM] [Info] Auto-choosing col-wise multi-threading, the overhead of testing was 0.001634 seconds.\n",
      "You can set `force_col_wise=true` to remove the overhead.\n",
      "[LightGBM] [Info] Total Bins 25703\n",
      "[LightGBM] [Info] Number of data points in the train set: 400, number of used features: 192\n",
      "[LightGBM] [Info] Start training from score -1.386294\n",
      "[LightGBM] [Info] Start training from score -1.386294\n",
      "[LightGBM] [Info] Start training from score -1.386294\n",
      "[LightGBM] [Info] Start training from score -1.386294\n",
      "[LightGBM] [Warning] No further splits with positive gain, best gain: -inf\n",
      "[LightGBM] [Warning] No further splits with positive gain, best gain: -inf\n",
      "[LightGBM] [Warning] No further splits with positive gain, best gain: -inf\n",
      "[LightGBM] [Warning] No further splits with positive gain, best gain: -inf\n",
      "[LightGBM] [Warning] No further splits with positive gain, best gain: -inf\n",
      "[LightGBM] [Warning] No further splits with positive gain, best gain: -inf\n",
      "[LightGBM] [Warning] No further splits with positive gain, best gain: -inf\n",
      "[LightGBM] [Warning] No further splits with positive gain, best gain: -inf\n",
      "[LightGBM] [Warning] No further splits with positive gain, best gain: -inf\n",
      "[LightGBM] [Warning] No further splits with positive gain, best gain: -inf\n",
      "[LightGBM] [Warning] No further splits with positive gain, best gain: -inf\n",
      "[LightGBM] [Warning] No further splits with positive gain, best gain: -inf\n",
      "[LightGBM] [Warning] No further splits with positive gain, best gain: -inf\n",
      "[LightGBM] [Warning] No further splits with positive gain, best gain: -inf\n",
      "[LightGBM] [Warning] No further splits with positive gain, best gain: -inf\n",
      "[LightGBM] [Warning] No further splits with positive gain, best gain: -inf\n",
      "[LightGBM] [Warning] No further splits with positive gain, best gain: -inf\n",
      "[LightGBM] [Warning] No further splits with positive gain, best gain: -inf\n",
      "[LightGBM] [Warning] No further splits with positive gain, best gain: -inf\n",
      "[LightGBM] [Warning] No further splits with positive gain, best gain: -inf\n",
      "[LightGBM] [Warning] No further splits with positive gain, best gain: -inf\n",
      "[LightGBM] [Warning] No further splits with positive gain, best gain: -inf\n",
      "[LightGBM] [Warning] No further splits with positive gain, best gain: -inf\n",
      "[LightGBM] [Warning] No further splits with positive gain, best gain: -inf\n",
      "[LightGBM] [Warning] No further splits with positive gain, best gain: -inf\n",
      "[LightGBM] [Warning] No further splits with positive gain, best gain: -inf\n",
      "[LightGBM] [Warning] No further splits with positive gain, best gain: -inf\n",
      "[LightGBM] [Warning] No further splits with positive gain, best gain: -inf\n",
      "[LightGBM] [Warning] No further splits with positive gain, best gain: -inf\n",
      "[LightGBM] [Warning] No further splits with positive gain, best gain: -inf\n",
      "[LightGBM] [Warning] No further splits with positive gain, best gain: -inf\n",
      "[LightGBM] [Warning] No further splits with positive gain, best gain: -inf\n",
      "[LightGBM] [Warning] No further splits with positive gain, best gain: -inf\n",
      "[LightGBM] [Warning] No further splits with positive gain, best gain: -inf\n",
      "[LightGBM] [Warning] No further splits with positive gain, best gain: -inf\n",
      "[LightGBM] [Warning] No further splits with positive gain, best gain: -inf\n",
      "[LightGBM] [Warning] No further splits with positive gain, best gain: -inf\n",
      "[LightGBM] [Warning] No further splits with positive gain, best gain: -inf\n",
      "[LightGBM] [Warning] No further splits with positive gain, best gain: -inf\n",
      "[LightGBM] [Warning] No further splits with positive gain, best gain: -inf\n",
      "[LightGBM] [Warning] No further splits with positive gain, best gain: -inf\n",
      "[LightGBM] [Warning] No further splits with positive gain, best gain: -inf\n",
      "[LightGBM] [Warning] No further splits with positive gain, best gain: -inf\n",
      "[LightGBM] [Warning] No further splits with positive gain, best gain: -inf\n",
      "[LightGBM] [Warning] No further splits with positive gain, best gain: -inf\n",
      "[LightGBM] [Warning] No further splits with positive gain, best gain: -inf\n",
      "[LightGBM] [Warning] No further splits with positive gain, best gain: -inf\n",
      "[LightGBM] [Warning] No further splits with positive gain, best gain: -inf\n",
      "[LightGBM] [Warning] No further splits with positive gain, best gain: -inf\n",
      "[LightGBM] [Warning] No further splits with positive gain, best gain: -inf\n",
      "[LightGBM] [Warning] No further splits with positive gain, best gain: -inf\n",
      "[LightGBM] [Warning] No further splits with positive gain, best gain: -inf\n",
      "[LightGBM] [Warning] No further splits with positive gain, best gain: -inf\n",
      "[LightGBM] [Warning] No further splits with positive gain, best gain: -inf\n",
      "[LightGBM] [Warning] No further splits with positive gain, best gain: -inf\n",
      "[LightGBM] [Warning] No further splits with positive gain, best gain: -inf\n",
      "[LightGBM] [Warning] No further splits with positive gain, best gain: -inf\n",
      "[LightGBM] [Warning] No further splits with positive gain, best gain: -inf\n",
      "[LightGBM] [Warning] No further splits with positive gain, best gain: -inf\n",
      "[LightGBM] [Warning] No further splits with positive gain, best gain: -inf\n",
      "[LightGBM] [Warning] No further splits with positive gain, best gain: -inf\n",
      "[LightGBM] [Warning] No further splits with positive gain, best gain: -inf\n",
      "[LightGBM] [Warning] No further splits with positive gain, best gain: -inf\n",
      "[LightGBM] [Warning] No further splits with positive gain, best gain: -inf\n",
      "[LightGBM] [Warning] No further splits with positive gain, best gain: -inf\n",
      "[LightGBM] [Warning] No further splits with positive gain, best gain: -inf\n",
      "[LightGBM] [Warning] No further splits with positive gain, best gain: -inf\n",
      "[LightGBM] [Warning] No further splits with positive gain, best gain: -inf\n",
      "[LightGBM] [Warning] No further splits with positive gain, best gain: -inf\n",
      "[LightGBM] [Warning] No further splits with positive gain, best gain: -inf\n",
      "[LightGBM] [Warning] No further splits with positive gain, best gain: -inf\n",
      "[LightGBM] [Warning] No further splits with positive gain, best gain: -inf\n",
      "[LightGBM] [Warning] No further splits with positive gain, best gain: -inf\n",
      "[LightGBM] [Warning] No further splits with positive gain, best gain: -inf\n",
      "[LightGBM] [Warning] No further splits with positive gain, best gain: -inf\n",
      "[LightGBM] [Warning] No further splits with positive gain, best gain: -inf\n",
      "[LightGBM] [Warning] No further splits with positive gain, best gain: -inf\n",
      "[LightGBM] [Warning] No further splits with positive gain, best gain: -inf\n",
      "[LightGBM] [Warning] No further splits with positive gain, best gain: -inf\n",
      "[LightGBM] [Warning] No further splits with positive gain, best gain: -inf\n",
      "[LightGBM] [Warning] No further splits with positive gain, best gain: -inf\n",
      "[LightGBM] [Warning] No further splits with positive gain, best gain: -inf\n",
      "[LightGBM] [Warning] No further splits with positive gain, best gain: -inf\n",
      "[LightGBM] [Warning] No further splits with positive gain, best gain: -inf\n",
      "[LightGBM] [Warning] No further splits with positive gain, best gain: -inf\n",
      "[LightGBM] [Warning] No further splits with positive gain, best gain: -inf\n",
      "[LightGBM] [Warning] No further splits with positive gain, best gain: -inf\n",
      "[LightGBM] [Warning] No further splits with positive gain, best gain: -inf\n",
      "[LightGBM] [Warning] No further splits with positive gain, best gain: -inf\n",
      "[LightGBM] [Warning] No further splits with positive gain, best gain: -inf\n",
      "[LightGBM] [Warning] No further splits with positive gain, best gain: -inf\n",
      "[LightGBM] [Warning] No further splits with positive gain, best gain: -inf\n",
      "[LightGBM] [Warning] No further splits with positive gain, best gain: -inf\n",
      "[LightGBM] [Warning] No further splits with positive gain, best gain: -inf\n",
      "[LightGBM] [Warning] No further splits with positive gain, best gain: -inf\n",
      "[LightGBM] [Warning] No further splits with positive gain, best gain: -inf\n",
      "[LightGBM] [Warning] No further splits with positive gain, best gain: -inf\n",
      "[LightGBM] [Warning] No further splits with positive gain, best gain: -inf\n",
      "[LightGBM] [Warning] No further splits with positive gain, best gain: -inf\n",
      "[LightGBM] [Warning] No further splits with positive gain, best gain: -inf\n",
      "[LightGBM] [Warning] No further splits with positive gain, best gain: -inf\n",
      "[LightGBM] [Warning] No further splits with positive gain, best gain: -inf\n",
      "[LightGBM] [Warning] No further splits with positive gain, best gain: -inf\n",
      "[LightGBM] [Warning] No further splits with positive gain, best gain: -inf\n",
      "[LightGBM] [Warning] No further splits with positive gain, best gain: -inf\n",
      "[LightGBM] [Warning] No further splits with positive gain, best gain: -inf\n",
      "[LightGBM] [Warning] No further splits with positive gain, best gain: -inf\n",
      "[LightGBM] [Warning] No further splits with positive gain, best gain: -inf\n",
      "[LightGBM] [Warning] No further splits with positive gain, best gain: -inf\n",
      "[LightGBM] [Warning] No further splits with positive gain, best gain: -inf\n",
      "[LightGBM] [Warning] No further splits with positive gain, best gain: -inf\n",
      "[LightGBM] [Warning] No further splits with positive gain, best gain: -inf\n",
      "[LightGBM] [Warning] No further splits with positive gain, best gain: -inf\n",
      "[LightGBM] [Warning] No further splits with positive gain, best gain: -inf\n",
      "[LightGBM] [Warning] No further splits with positive gain, best gain: -inf\n",
      "[LightGBM] [Warning] No further splits with positive gain, best gain: -inf\n",
      "[LightGBM] [Warning] No further splits with positive gain, best gain: -inf\n",
      "[LightGBM] [Warning] No further splits with positive gain, best gain: -inf\n",
      "[LightGBM] [Warning] No further splits with positive gain, best gain: -inf\n",
      "[LightGBM] [Warning] No further splits with positive gain, best gain: -inf\n",
      "[LightGBM] [Warning] No further splits with positive gain, best gain: -inf\n",
      "[LightGBM] [Warning] No further splits with positive gain, best gain: -inf\n",
      "[LightGBM] [Warning] No further splits with positive gain, best gain: -inf\n",
      "[LightGBM] [Warning] No further splits with positive gain, best gain: -inf\n",
      "[LightGBM] [Warning] No further splits with positive gain, best gain: -inf\n",
      "[LightGBM] [Warning] No further splits with positive gain, best gain: -inf\n",
      "[LightGBM] [Warning] No further splits with positive gain, best gain: -inf\n",
      "[LightGBM] [Warning] No further splits with positive gain, best gain: -inf\n",
      "[LightGBM] [Warning] No further splits with positive gain, best gain: -inf\n",
      "[LightGBM] [Warning] No further splits with positive gain, best gain: -inf\n",
      "[LightGBM] [Warning] No further splits with positive gain, best gain: -inf\n",
      "[LightGBM] [Warning] No further splits with positive gain, best gain: -inf\n",
      "[LightGBM] [Warning] No further splits with positive gain, best gain: -inf\n",
      "[LightGBM] [Warning] No further splits with positive gain, best gain: -inf\n",
      "[LightGBM] [Warning] No further splits with positive gain, best gain: -inf\n",
      "[LightGBM] [Warning] No further splits with positive gain, best gain: -inf\n",
      "[LightGBM] [Warning] No further splits with positive gain, best gain: -inf\n",
      "[LightGBM] [Warning] No further splits with positive gain, best gain: -inf\n",
      "[LightGBM] [Warning] No further splits with positive gain, best gain: -inf\n",
      "[LightGBM] [Warning] No further splits with positive gain, best gain: -inf\n",
      "[LightGBM] [Warning] No further splits with positive gain, best gain: -inf\n",
      "[LightGBM] [Warning] No further splits with positive gain, best gain: -inf\n",
      "[LightGBM] [Warning] No further splits with positive gain, best gain: -inf\n",
      "[LightGBM] [Warning] No further splits with positive gain, best gain: -inf\n",
      "[LightGBM] [Warning] No further splits with positive gain, best gain: -inf\n",
      "[LightGBM] [Warning] No further splits with positive gain, best gain: -inf\n",
      "[LightGBM] [Warning] No further splits with positive gain, best gain: -inf\n",
      "[LightGBM] [Warning] No further splits with positive gain, best gain: -inf\n",
      "[LightGBM] [Warning] No further splits with positive gain, best gain: -inf\n",
      "[LightGBM] [Warning] No further splits with positive gain, best gain: -inf\n",
      "[LightGBM] [Warning] No further splits with positive gain, best gain: -inf\n",
      "[LightGBM] [Warning] No further splits with positive gain, best gain: -inf\n",
      "[LightGBM] [Warning] No further splits with positive gain, best gain: -inf\n",
      "[LightGBM] [Warning] No further splits with positive gain, best gain: -inf\n",
      "[LightGBM] [Warning] No further splits with positive gain, best gain: -inf\n",
      "[LightGBM] [Warning] No further splits with positive gain, best gain: -inf\n",
      "[LightGBM] [Warning] No further splits with positive gain, best gain: -inf\n",
      "[LightGBM] [Warning] No further splits with positive gain, best gain: -inf\n",
      "[LightGBM] [Warning] No further splits with positive gain, best gain: -inf\n",
      "[LightGBM] [Warning] No further splits with positive gain, best gain: -inf\n",
      "[LightGBM] [Warning] No further splits with positive gain, best gain: -inf\n",
      "[LightGBM] [Warning] No further splits with positive gain, best gain: -inf\n",
      "[LightGBM] [Warning] No further splits with positive gain, best gain: -inf\n",
      "[LightGBM] [Warning] No further splits with positive gain, best gain: -inf\n",
      "[LightGBM] [Warning] No further splits with positive gain, best gain: -inf\n",
      "[LightGBM] [Warning] No further splits with positive gain, best gain: -inf\n",
      "[LightGBM] [Warning] No further splits with positive gain, best gain: -inf\n",
      "[LightGBM] [Warning] No further splits with positive gain, best gain: -inf\n",
      "[LightGBM] [Warning] No further splits with positive gain, best gain: -inf\n",
      "[LightGBM] [Warning] No further splits with positive gain, best gain: -inf\n",
      "[LightGBM] [Warning] No further splits with positive gain, best gain: -inf\n",
      "[LightGBM] [Warning] No further splits with positive gain, best gain: -inf\n",
      "[LightGBM] [Warning] No further splits with positive gain, best gain: -inf\n",
      "[LightGBM] [Warning] No further splits with positive gain, best gain: -inf\n",
      "[LightGBM] [Warning] No further splits with positive gain, best gain: -inf\n",
      "[LightGBM] [Warning] No further splits with positive gain, best gain: -inf\n",
      "[LightGBM] [Warning] No further splits with positive gain, best gain: -inf\n",
      "[LightGBM] [Warning] No further splits with positive gain, best gain: -inf\n",
      "[LightGBM] [Warning] No further splits with positive gain, best gain: -inf\n",
      "[LightGBM] [Warning] No further splits with positive gain, best gain: -inf\n",
      "[LightGBM] [Warning] No further splits with positive gain, best gain: -inf\n",
      "[LightGBM] [Warning] No further splits with positive gain, best gain: -inf\n",
      "[LightGBM] [Warning] No further splits with positive gain, best gain: -inf\n",
      "[LightGBM] [Warning] No further splits with positive gain, best gain: -inf\n",
      "[LightGBM] [Warning] No further splits with positive gain, best gain: -inf\n",
      "[LightGBM] [Warning] No further splits with positive gain, best gain: -inf\n",
      "[LightGBM] [Warning] No further splits with positive gain, best gain: -inf\n",
      "[LightGBM] [Warning] No further splits with positive gain, best gain: -inf\n",
      "[LightGBM] [Warning] No further splits with positive gain, best gain: -inf\n",
      "[LightGBM] [Warning] No further splits with positive gain, best gain: -inf\n",
      "[LightGBM] [Warning] No further splits with positive gain, best gain: -inf\n",
      "[LightGBM] [Warning] No further splits with positive gain, best gain: -inf\n",
      "[LightGBM] [Warning] No further splits with positive gain, best gain: -inf\n",
      "[LightGBM] [Warning] No further splits with positive gain, best gain: -inf\n",
      "[LightGBM] [Warning] No further splits with positive gain, best gain: -inf\n",
      "[LightGBM] [Warning] No further splits with positive gain, best gain: -inf\n",
      "[LightGBM] [Warning] No further splits with positive gain, best gain: -inf\n",
      "[LightGBM] [Warning] No further splits with positive gain, best gain: -inf\n",
      "[LightGBM] [Warning] No further splits with positive gain, best gain: -inf\n",
      "[LightGBM] [Warning] No further splits with positive gain, best gain: -inf\n",
      "[LightGBM] [Warning] No further splits with positive gain, best gain: -inf\n",
      "[LightGBM] [Warning] No further splits with positive gain, best gain: -inf\n",
      "[LightGBM] [Warning] No further splits with positive gain, best gain: -inf\n",
      "[LightGBM] [Warning] No further splits with positive gain, best gain: -inf\n",
      "[LightGBM] [Warning] No further splits with positive gain, best gain: -inf\n",
      "[LightGBM] [Warning] No further splits with positive gain, best gain: -inf\n",
      "[LightGBM] [Warning] No further splits with positive gain, best gain: -inf\n",
      "[LightGBM] [Warning] No further splits with positive gain, best gain: -inf\n",
      "[LightGBM] [Warning] No further splits with positive gain, best gain: -inf\n",
      "[LightGBM] [Warning] No further splits with positive gain, best gain: -inf\n",
      "[LightGBM] [Warning] No further splits with positive gain, best gain: -inf\n",
      "[LightGBM] [Warning] No further splits with positive gain, best gain: -inf\n",
      "[LightGBM] [Warning] No further splits with positive gain, best gain: -inf\n",
      "[LightGBM] [Warning] No further splits with positive gain, best gain: -inf\n",
      "[LightGBM] [Warning] No further splits with positive gain, best gain: -inf\n",
      "[LightGBM] [Warning] No further splits with positive gain, best gain: -inf\n",
      "[LightGBM] [Warning] No further splits with positive gain, best gain: -inf\n",
      "[LightGBM] [Warning] No further splits with positive gain, best gain: -inf\n",
      "[LightGBM] [Warning] No further splits with positive gain, best gain: -inf\n",
      "[LightGBM] [Warning] No further splits with positive gain, best gain: -inf\n",
      "[LightGBM] [Warning] No further splits with positive gain, best gain: -inf\n",
      "[LightGBM] [Warning] No further splits with positive gain, best gain: -inf\n",
      "[LightGBM] [Warning] No further splits with positive gain, best gain: -inf\n",
      "[LightGBM] [Warning] No further splits with positive gain, best gain: -inf\n",
      "[LightGBM] [Warning] No further splits with positive gain, best gain: -inf\n",
      "[LightGBM] [Warning] No further splits with positive gain, best gain: -inf\n",
      "[LightGBM] [Warning] No further splits with positive gain, best gain: -inf\n",
      "[LightGBM] [Warning] No further splits with positive gain, best gain: -inf\n",
      "[LightGBM] [Warning] No further splits with positive gain, best gain: -inf\n",
      "[LightGBM] [Warning] No further splits with positive gain, best gain: -inf\n",
      "[LightGBM] [Warning] No further splits with positive gain, best gain: -inf\n",
      "[LightGBM] [Warning] No further splits with positive gain, best gain: -inf\n",
      "[LightGBM] [Warning] No further splits with positive gain, best gain: -inf\n",
      "[LightGBM] [Warning] No further splits with positive gain, best gain: -inf\n",
      "[LightGBM] [Warning] No further splits with positive gain, best gain: -inf\n",
      "[LightGBM] [Warning] No further splits with positive gain, best gain: -inf\n",
      "[LightGBM] [Warning] No further splits with positive gain, best gain: -inf\n",
      "[LightGBM] [Warning] No further splits with positive gain, best gain: -inf\n",
      "[LightGBM] [Warning] No further splits with positive gain, best gain: -inf\n",
      "[LightGBM] [Warning] No further splits with positive gain, best gain: -inf\n",
      "[LightGBM] [Warning] No further splits with positive gain, best gain: -inf\n",
      "[LightGBM] [Warning] No further splits with positive gain, best gain: -inf\n",
      "[LightGBM] [Warning] No further splits with positive gain, best gain: -inf\n",
      "[LightGBM] [Warning] No further splits with positive gain, best gain: -inf\n",
      "[LightGBM] [Warning] No further splits with positive gain, best gain: -inf\n",
      "[LightGBM] [Warning] No further splits with positive gain, best gain: -inf\n",
      "[LightGBM] [Warning] No further splits with positive gain, best gain: -inf\n",
      "[LightGBM] [Warning] No further splits with positive gain, best gain: -inf\n",
      "[LightGBM] [Warning] No further splits with positive gain, best gain: -inf\n",
      "[LightGBM] [Warning] No further splits with positive gain, best gain: -inf\n",
      "[LightGBM] [Warning] No further splits with positive gain, best gain: -inf\n",
      "[LightGBM] [Warning] No further splits with positive gain, best gain: -inf\n",
      "[LightGBM] [Warning] No further splits with positive gain, best gain: -inf\n",
      "[LightGBM] [Warning] No further splits with positive gain, best gain: -inf\n",
      "[LightGBM] [Warning] No further splits with positive gain, best gain: -inf\n",
      "[LightGBM] [Warning] No further splits with positive gain, best gain: -inf\n",
      "[LightGBM] [Warning] No further splits with positive gain, best gain: -inf\n",
      "[LightGBM] [Warning] No further splits with positive gain, best gain: -inf\n",
      "[LightGBM] [Warning] No further splits with positive gain, best gain: -inf\n",
      "[LightGBM] [Warning] No further splits with positive gain, best gain: -inf\n",
      "[LightGBM] [Warning] No further splits with positive gain, best gain: -inf\n",
      "[LightGBM] [Warning] No further splits with positive gain, best gain: -inf\n",
      "[LightGBM] [Warning] No further splits with positive gain, best gain: -inf\n",
      "[LightGBM] [Warning] No further splits with positive gain, best gain: -inf\n",
      "[LightGBM] [Warning] No further splits with positive gain, best gain: -inf\n",
      "[LightGBM] [Warning] No further splits with positive gain, best gain: -inf\n",
      "[LightGBM] [Warning] No further splits with positive gain, best gain: -inf\n",
      "[LightGBM] [Warning] No further splits with positive gain, best gain: -inf\n",
      "[LightGBM] [Warning] No further splits with positive gain, best gain: -inf\n",
      "[LightGBM] [Warning] No further splits with positive gain, best gain: -inf\n",
      "[LightGBM] [Warning] No further splits with positive gain, best gain: -inf\n",
      "[LightGBM] [Warning] No further splits with positive gain, best gain: -inf\n",
      "[LightGBM] [Warning] No further splits with positive gain, best gain: -inf\n",
      "[LightGBM] [Warning] No further splits with positive gain, best gain: -inf\n",
      "[LightGBM] [Warning] No further splits with positive gain, best gain: -inf\n",
      "[LightGBM] [Warning] No further splits with positive gain, best gain: -inf\n",
      "[LightGBM] [Warning] No further splits with positive gain, best gain: -inf\n",
      "[LightGBM] [Warning] No further splits with positive gain, best gain: -inf\n",
      "[LightGBM] [Warning] No further splits with positive gain, best gain: -inf\n",
      "[LightGBM] [Warning] No further splits with positive gain, best gain: -inf\n",
      "[LightGBM] [Warning] No further splits with positive gain, best gain: -inf\n",
      "[LightGBM] [Warning] No further splits with positive gain, best gain: -inf\n",
      "[LightGBM] [Warning] No further splits with positive gain, best gain: -inf\n",
      "[LightGBM] [Warning] No further splits with positive gain, best gain: -inf\n",
      "[LightGBM] [Warning] No further splits with positive gain, best gain: -inf\n",
      "[LightGBM] [Warning] No further splits with positive gain, best gain: -inf\n",
      "[LightGBM] [Warning] No further splits with positive gain, best gain: -inf\n",
      "[LightGBM] [Warning] No further splits with positive gain, best gain: -inf\n",
      "[LightGBM] [Warning] No further splits with positive gain, best gain: -inf\n",
      "[LightGBM] [Warning] No further splits with positive gain, best gain: -inf\n",
      "[LightGBM] [Warning] No further splits with positive gain, best gain: -inf\n",
      "[LightGBM] [Warning] No further splits with positive gain, best gain: -inf\n",
      "[LightGBM] [Warning] No further splits with positive gain, best gain: -inf\n",
      "[LightGBM] [Warning] No further splits with positive gain, best gain: -inf\n",
      "[LightGBM] [Warning] No further splits with positive gain, best gain: -inf\n",
      "[LightGBM] [Warning] No further splits with positive gain, best gain: -inf\n",
      "[LightGBM] [Warning] No further splits with positive gain, best gain: -inf\n",
      "[LightGBM] [Warning] No further splits with positive gain, best gain: -inf\n",
      "[LightGBM] [Warning] No further splits with positive gain, best gain: -inf\n",
      "[LightGBM] [Warning] No further splits with positive gain, best gain: -inf\n",
      "[LightGBM] [Warning] No further splits with positive gain, best gain: -inf\n",
      "[LightGBM] [Warning] No further splits with positive gain, best gain: -inf\n",
      "[LightGBM] [Warning] No further splits with positive gain, best gain: -inf\n",
      "[LightGBM] [Warning] No further splits with positive gain, best gain: -inf\n",
      "[LightGBM] [Warning] No further splits with positive gain, best gain: -inf\n",
      "[LightGBM] [Warning] No further splits with positive gain, best gain: -inf\n",
      "[LightGBM] [Warning] No further splits with positive gain, best gain: -inf\n",
      "[LightGBM] [Warning] No further splits with positive gain, best gain: -inf\n",
      "[LightGBM] [Warning] No further splits with positive gain, best gain: -inf\n",
      "[LightGBM] [Warning] No further splits with positive gain, best gain: -inf\n",
      "[LightGBM] [Warning] No further splits with positive gain, best gain: -inf\n",
      "[LightGBM] [Warning] No further splits with positive gain, best gain: -inf\n",
      "[LightGBM] [Warning] No further splits with positive gain, best gain: -inf\n",
      "[LightGBM] [Warning] No further splits with positive gain, best gain: -inf\n",
      "[LightGBM] [Warning] No further splits with positive gain, best gain: -inf\n",
      "[LightGBM] [Warning] No further splits with positive gain, best gain: -inf\n",
      "Best hyperparameters:  {'colsample_bytree': 0.7, 'learning_rate': 0.05, 'max_depth': 3, 'min_child_samples': 20, 'n_estimators': 100, 'num_leaves': 32, 'reg_alpha': 0, 'reg_lambda': 0.1}\n",
      "Best score:  0.7525000000000001\n",
      "Test Accuracy  : 78.41 %\n"
     ]
    }
   ],
   "source": [
    "param_grid_lgbm = {\n",
    "        'num_leaves': [32, 64, 128],\n",
    "        'max_depth': [3, 4, 5],\n",
    "        'n_estimators': [50, 100],\n",
    "        'learning_rate': [0.01, 0.05],\n",
    "        'min_child_samples': [10, 20],\n",
    "        'colsample_bytree': [0.5, 0.7],\n",
    "        'reg_alpha': [0, 0.1],\n",
    "        'reg_lambda': [0, 0.1]\n",
    "}\n",
    "\n",
    "lgbm = LGBMClassifier(random_state=42)\n",
    "\n",
    "grid_search_lgbm = GridSearchCV(lgbm, param_grid_lgbm, cv=5, n_jobs=-1)\n",
    "grid_search_lgbm.fit(train_data, train_labels)\n",
    "lgbm = grid_search_lgbm.best_estimator_\n",
    "\n",
    "print(\"Best hyperparameters: \", grid_search_lgbm.best_params_)\n",
    "print(\"Best score: \", grid_search_lgbm.best_score_)\n",
    "print(\"Test Accuracy  : {:.2f} %\".format(accuracy_score(lgbm.predict(dev_data), dev_labels)*100))\n",
    "\n",
    "best_model_results.append({'name': 'LightGBM',\n",
    "                           'best_gs_score': grid_search_lgbm.best_score_,\n",
    "                           'test_accuracy': accuracy_score(lgbm.predict(dev_data), dev_labels)})"
   ]
  },
  {
   "cell_type": "markdown",
   "metadata": {},
   "source": [
    "### 2.1.3 Prediction using the x-vector based model\n",
    "\n",
    "Finally, let's predict on both the dev and evl test sets:"
   ]
  },
  {
   "cell_type": "code",
   "execution_count": 25,
   "metadata": {},
   "outputs": [],
   "source": [
    "# LOAD THE RIGHT MODEL IF YOU NEED TO:\n",
    "# model_name = f'{DATADIR}/{trainset}/models//svm_{transform_id}'\n",
    "# model = pickle.load(open(f'{model_name}/model.pkl', 'rb'))\n",
    "\n",
    "model = lr\n",
    "\n",
    "dev_results = model.predict(dev_data) #  Predict dev\n",
    "evl_results = model.predict(evl_data) #  Predict test"
   ]
  },
  {
   "cell_type": "markdown",
   "metadata": {},
   "source": [
    "We can check the performance on the dev set:"
   ]
  },
  {
   "cell_type": "code",
   "execution_count": 26,
   "metadata": {},
   "outputs": [
    {
     "name": "stdout",
     "output_type": "stream",
     "text": [
      "              precision    recall  f1-score   support\n",
      "\n",
      "         CHI       0.89      0.87      0.88        39\n",
      "         GER       0.78      0.82      0.80        44\n",
      "         HIN       0.96      1.00      0.98        47\n",
      "         ITA       0.86      0.80      0.83        46\n",
      "\n",
      "    accuracy                           0.88       176\n",
      "   macro avg       0.87      0.87      0.87       176\n",
      "weighted avg       0.87      0.88      0.87       176\n",
      "\n",
      "0.875\n"
     ]
    }
   ],
   "source": [
    "ref, hyp = dev_labels, dev_results\n",
    "print(classification_report(ref, hyp, target_names=LANGUAGES))\n",
    "print(accuracy_score(ref, hyp))"
   ]
  },
  {
   "cell_type": "code",
   "execution_count": 27,
   "metadata": {},
   "outputs": [
    {
     "data": {
      "image/png": "[encoded data removed]",
      "text/plain": [
       "<Figure size 300x300 with 1 Axes>"
      ]
     },
     "metadata": {},
     "output_type": "display_data"
    }
   ],
   "source": [
    "conf_matrix = confusion_matrix(ref, hyp)\n",
    "\n",
    "fig, ax = plt.subplots(figsize=(3.0, 3.0))\n",
    "ax.matshow(conf_matrix, cmap=plt.cm.Blues, alpha=0.3)\n",
    "for i in range(conf_matrix.shape[0]):\n",
    "    for j in range(conf_matrix.shape[1]):\n",
    "        ax.text(x=j, y=i,s=conf_matrix[i, j], va='center', ha='center')\n",
    "\n",
    "plt.xlabel('Predictions', fontsize=12)\n",
    "plt.ylabel('Actuals', fontsize=12)\n",
    "plt.title(f'Confusion Matrix\\n(Accuracy {100*accuracy_score(ref, hyp):.2f})', fontsize=12)\n",
    "plt.show()"
   ]
  },
  {
   "cell_type": "markdown",
   "metadata": {},
   "source": [
    "If things went as expected, you should around 85% accuracy result!!\n",
    "\n",
    "At this point, you can explore different x-vector model configurations for feature extraction and alternative models to the linear SVM. Notice that it may be difficult to improve this strong system. Finally, you can generate the final prediction file and make a submission to the  [Kaggle competition](https://www.kaggle.com/t/312cd4200cfb4e138ea9372ce5bc33fd):"
   ]
  },
  {
   "cell_type": "code",
   "execution_count": 28,
   "metadata": {},
   "outputs": [],
   "source": [
    "trainset = 'train100' ## <--- CHANGE THIS ACCORDINGLY\n",
    "transform_id = 'spkrec-ecapa-voxceleb' ## <--- CHANGE THIS ACCORDINGLY\n",
    "\n",
    "group, system = '00', f'lr_{trainset}_{transform_id}'\n",
    "with open(f'{CWD}/g{group}_{system}.csv', 'w') as file:\n",
    "    csv_writer = csv.writer(file) # CSV writer\n",
    "    csv_writer.writerow(('fileId', 'Lang')) # Header of the CSV\n",
    "\n",
    "    # Save dev results\n",
    "    for lang, file in zip(dev_results, dev_filenames):\n",
    "        csv_writer.writerow((file, LANG2ID[lang]))\n",
    "    # Save evl results\n",
    "    for lang, file in zip(evl_results, evl_filenames):\n",
    "        csv_writer.writerow((file, LANG2ID[lang]))\n",
    "        "
   ]
  },
  {
   "cell_type": "markdown",
   "metadata": {},
   "source": [
    "## 2.2 Using self-supervised pre-trained models\n",
    "\n",
    "The goal of this part of the laboratory is to expose students to modern tools and methods for speech classification.\n",
    "In particular, we will use the [s3prl](https://github.com/s3prl/s3prl) toolkit to build a native language identification system based on self-supervised learning (SSL) models as feature extraction.\n",
    "\n",
    "[s3prl](https://github.com/s3prl/s3prl) is an open source toolkit, which stands for Self-Supervised Speech Pre-training and Representation Learning. Self-supervised speech pre-trained models are called upstream in this toolkit and are utilized in various downstream tasks.\n",
    "\n",
    "The toolkit permits pre-training upstream models, load already pre-trained upstream models and/or utilize these upstream models in lots of downstream tasks already defined.\n",
    "\n",
    "For this lab, the faculty team configured a downstream task and a simple model specifically for our native language identification task and data. The model consists of a projection layer, followed by an average pooling, and a linear output layer.\n",
    "\n",
    "In this part of the lab, students are  expected to *play* with the different upstream models to build the best possible native language identification system. \n",
    "In particular, students are encouraged to explore and discover which of the available SSL models can be a better candidate for their classification system. Note that using a large SSL model will make the training process very slow. So, you must choose wisely depending for instance on the reported performance in similar tasks.\n",
    "\n",
    "Besides playing with the different upstream models, interested students can try to modify some of the details of the \"expert\" downstream model. This can be done following some of the many examples already included in the toolkit as a starting point, but it may be challenging. \n",
    "\n",
    "**In contrast to the x-vector based system and the notebook of Part 1, for the SSL system, we will make use of some Python scripts that are part of the S3PRL framework. These are typically run in a terminal, so, some of the following steps may be simpler to run in a terminal, rather than as cell in the Notebook itself.**"
   ]
  },
  {
   "cell_type": "markdown",
   "metadata": {},
   "source": [
    "### 2.2.1 Installing the S3PRL toolkit\n",
    "Let's start by cloning the repository of the `s3prl` toolkit:"
   ]
  },
  {
   "cell_type": "code",
   "execution_count": 6,
   "metadata": {},
   "outputs": [
    {
     "name": "stderr",
     "output_type": "stream",
     "text": [
      "Cloning into 's3prl'...\n",
      "Updating files:  31% (305/975)\n",
      "Updating files:  32% (312/975)\n",
      "Updating files:  33% (322/975)\n",
      "Updating files:  34% (332/975)\n",
      "Updating files:  35% (342/975)\n",
      "Updating files:  36% (351/975)\n",
      "Updating files:  37% (361/975)\n",
      "Updating files:  38% (371/975)\n",
      "Updating files:  39% (381/975)\n",
      "Updating files:  40% (390/975)\n",
      "Updating files:  41% (400/975)\n",
      "Updating files:  42% (410/975)\n",
      "Updating files:  43% (420/975)\n",
      "Updating files:  44% (429/975)\n",
      "Updating files:  44% (435/975)\n",
      "Updating files:  45% (439/975)\n",
      "Updating files:  46% (449/975)\n",
      "Updating files:  47% (459/975)\n",
      "Updating files:  48% (468/975)\n",
      "Updating files:  49% (478/975)\n",
      "Updating files:  50% (488/975)\n",
      "Updating files:  51% (498/975)\n",
      "Updating files:  52% (507/975)\n",
      "Updating files:  53% (517/975)\n",
      "Updating files:  54% (527/975)\n",
      "Updating files:  55% (537/975)\n",
      "Updating files:  56% (546/975)\n",
      "Updating files:  57% (556/975)\n",
      "Updating files:  58% (566/975)\n",
      "Updating files:  59% (576/975)\n",
      "Updating files:  60% (585/975)\n",
      "Updating files:  61% (595/975)\n",
      "Updating files:  62% (605/975)\n",
      "Updating files:  63% (615/975)\n",
      "Updating files:  64% (624/975)\n",
      "Updating files:  65% (634/975)\n",
      "Updating files:  66% (644/975)\n",
      "Updating files:  67% (654/975)\n",
      "Updating files:  68% (663/975)\n",
      "Updating files:  69% (673/975)\n",
      "Updating files:  70% (683/975)\n",
      "Updating files:  71% (693/975)\n",
      "Updating files:  72% (702/975)\n",
      "Updating files:  73% (712/975)\n",
      "Updating files:  74% (722/975)\n",
      "Updating files:  75% (732/975)\n",
      "Updating files:  76% (741/975)\n",
      "Updating files:  77% (751/975)\n",
      "Updating files:  78% (761/975)\n",
      "Updating files:  79% (771/975)\n",
      "Updating files:  80% (780/975)\n",
      "Updating files:  81% (790/975)\n",
      "Updating files:  82% (800/975)\n",
      "Updating files:  83% (810/975)\n",
      "Updating files:  84% (819/975)\n",
      "Updating files:  85% (829/975)\n",
      "Updating files:  86% (839/975)\n",
      "Updating files:  87% (849/975)\n",
      "Updating files:  88% (858/975)\n",
      "Updating files:  89% (868/975)\n",
      "Updating files:  90% (878/975)\n",
      "Updating files:  91% (888/975)\n",
      "Updating files:  92% (897/975)\n",
      "Updating files:  93% (907/975)\n",
      "Updating files:  94% (917/975)\n",
      "Updating files:  95% (927/975)\n",
      "Updating files:  96% (936/975)\n",
      "Updating files:  97% (946/975)\n",
      "Updating files:  98% (956/975)\n",
      "Updating files:  99% (966/975)\n",
      "Updating files: 100% (975/975)\n",
      "Updating files: 100% (975/975), done.\n"
     ]
    }
   ],
   "source": [
    "!git clone https://github.com/s3prl/s3prl.git"
   ]
  },
  {
   "cell_type": "markdown",
   "metadata": {},
   "source": [
    "A new folder named  `s3prl/` with the contents of the toolkit has been created. We'll now install the toolkit itself."
   ]
  },
  {
   "cell_type": "code",
   "execution_count": 30,
   "metadata": {},
   "outputs": [],
   "source": [
    "S3PRLDIR = CWD + '/s3prl/'\n",
    "os.chdir(S3PRLDIR)\n",
    "#!pip install -e ."
   ]
  },
  {
   "cell_type": "markdown",
   "metadata": {},
   "source": [
    "### 2.2.2 Configuring the downstream task\n",
    "Let's create the downstream native language identification task. In the `s3prl/downstream/` there are plenty of examples. The faculty team took one of those as an example to create the configuration needed for this lab assignment. Let's download and copy it to the downstream folder: "
   ]
  },
  {
   "cell_type": "code",
   "execution_count": 33,
   "metadata": {},
   "outputs": [
    {
     "name": "stderr",
     "output_type": "stream",
     "text": [
      "Nie mo�na odnale�� okre�lonego pliku.\n"
     ]
    },
    {
     "name": "stderr",
     "output_type": "stream",
     "text": [
      "tar: Error opening archive: Failed to open 'nli_s3prl_downstream.tgz'\n"
     ]
    }
   ],
   "source": [
    "os.chdir(f'{S3PRLDIR}/s3prl/downstream/') #  change to the downstream folder\n",
    "!wget http://groups.tecnico.ulisboa.pt/speechproc/pf24/lab2/nli_s3prl_downstream.tgz # <--- download the lab specific downstream task\n",
    "!tar -xzvf nli_s3prl_downstream.tgz  #  unzip\n",
    "#!rm nli_s3prl_downstream.tgz\n",
    "os.chdir(S3PRLDIR)"
   ]
  },
  {
   "cell_type": "markdown",
   "metadata": {},
   "source": [
    "Have a look to the contents of the folder `s3prl/downstream/native_language_identification/`. There are some important files that help to define the task:\n",
    "- `dataset.py`: this file provides the class that permits loading the ETS data. Something similar to the ETS class used in previously, but following the formatting rules of the s3prl toolkit. **You don't need to change anything here**.\n",
    "- `expert.py`: this file defines the expert downstream task. In this case, the expert takes the output of the upstream model (configurable), applies a projection layer, and then a classification model (configurable) to obtain the final predictions. **You don't need to change anything here**.\n",
    "- `model.py`: this file contains the definitions of the model after the projection. We could include several configurations that can later be selected when we run the actual experiment. The model included is just an average pooling (that reduces the time dimension to a single vector) followed by a linear output layer. **You don't need to change anything here, but you may want to explore other configurations following the examples of other downstream tasks included in s3prl**.\n",
    "- `config.yaml`: this file permits configuring some parameters of your experiment, including the path that contains the task data and the training set that is going to be used (either train or train100). "
   ]
  },
  {
   "cell_type": "markdown",
   "metadata": {},
   "source": [
    "Let's configure our experiment: \n",
    "\n",
    "Edit the 'file_path' entry in the configuration file `downstream/native_language_identification/config.yaml` to the folder containing the data:\n",
    "\n",
    "```yaml\n",
    "downstream_expert:\n",
    "    datarc:\n",
    "        file_path: \"your_path/ets_data\"\n",
    "```\n"
   ]
  },
  {
   "cell_type": "markdown",
   "metadata": {},
   "source": [
    "\n",
    "And also edit the config file, to use either the \"train100\" partition or the total training data \"train\"  by just editing the following entry of the `downstream/native_language_identification/config.yaml`:\n",
    "\n",
    "```yaml\n",
    "downstream_expert:\n",
    "    datarc:\n",
    "        ...\n",
    "        train: \"train100\"\n",
    "```\n",
    "\n",
    "You may also want to reduce the number of training steps to 1000 or 2000 for quick experimentation of different configurations:\n",
    "\n",
    "```yaml\n",
    "runner:\n",
    "  total_steps: 5000\n",
    "  ...\n",
    "```"
   ]
  },
  {
   "cell_type": "markdown",
   "metadata": {},
   "source": [
    "\n",
    "### 2.2.3 Training the downstream model\n",
    "Now it's time for training. For that, we will use the Pythons script `run_downstream.py` in train mode and in which we will set:\n",
    "- an arbitrary name for identifying this experiment, in which the results will be saved ( `ExpName`)\n",
    "- the upstream model to be used, for instance, `fbank`. You can check for more SSL pretrained available models  here https://s3prl.github.io/s3prl/tutorial/upstream_collection.html\n",
    "- the downstream task, in this case \"native_language_identification\"\n",
    "\n",
    "\n",
    "```bash\n",
    "python3 run_downstream.py -n ExpName -m train -u fbank -d native_language_identification\n",
    "```\n",
    "\n",
    "Since this can take a while (actually, a lot depending on the chosen upstream model and your  computational resources), you probably want to run this in a terminal, rather than inside the Notebook:\n"
   ]
  },
  {
   "cell_type": "code",
   "execution_count": null,
   "metadata": {},
   "outputs": [],
   "source": [
    "os.chdir(f'{S3PRLDIR}/s3prl')\n",
    "!python3 run_downstream.py -n fbank -m train -u fbank -d native_language_identification"
   ]
  },
  {
   "cell_type": "markdown",
   "metadata": {},
   "source": [
    "\n",
    "HINT: if the training process is interrupted for some reason, you can continue from the last saved checkpoint (a checkpoint is saved every 200 iterations):\n",
    "\n",
    "```bash\n",
    "python3 run_downstream.py -m train -e result/downstream/fbank/states-XXXX.ckpt\n",
    "```\n",
    "\n",
    "### 2.2.4 Classification and performance of the dev set\n",
    "\n",
    "The training process created a folder containing some training results `result/downstream/{ExpName}`:"
   ]
  },
  {
   "cell_type": "code",
   "execution_count": null,
   "metadata": {},
   "outputs": [],
   "source": [
    "\n",
    "os.chdir(f'{S3PRLDIR}/s3prl')\n",
    "!ls result/downstream/fbank/"
   ]
  },
  {
   "cell_type": "markdown",
   "metadata": {},
   "source": [
    "Some interesting files: \n",
    "- `dev_predict.txt` contains the predictions on the dev set, \n",
    "- `dev-best.ckpt` contains the model parameters for the best checkpoint,\n",
    "- `log.log` contains information of the training process, including the identification accuracy in the train and dev sets. \n",
    "\n",
    "Let's load the prediction and reference files to compute the performance of our system:"
   ]
  },
  {
   "cell_type": "code",
   "execution_count": null,
   "metadata": {},
   "outputs": [],
   "source": [
    "hyp = [line.strip().split()[-1] for line in open(f'result/downstream/fbank/dev_predict.txt')]\n",
    "ref = [line.strip().split()[-1] for line in open(f'result/downstream/fbank/dev_truth.txt')]\n",
    "\n",
    "print(classification_report(ref, hyp, target_names=LANGUAGES))\n",
    "print(accuracy_score(ref, hyp))"
   ]
  },
  {
   "cell_type": "markdown",
   "metadata": {},
   "source": [
    "That was disappointing!! The `fbank` is **a very bad upstream model!!!**. \n",
    "\n",
    "The goal of this lab is for you to get familiar with and experiment with some of the most popular speech SSL models. You can start with those commented in the theoretical lessons or the ones that have shown good performance in similar tasks. Be careful (and wise) in your decisions: experiments may be slow! "
   ]
  },
  {
   "cell_type": "markdown",
   "metadata": {},
   "source": [
    "### 2.2.5 Classification of the evl set \n",
    "\n",
    "Now that we already trained our downstream model, we can use it to predict  the blind evl set. For this purpose, we will use again the `run_downstream.py` script in evaluate mode and we need to select the actual model to use:\n",
    "\n",
    "\n",
    "```bash\n",
    "python3 run_downstream.py -m evaluate -e result/downstream/fbank/dev-best.ckpt\n",
    "```\n",
    "\n",
    "NOTE: Ignore the test accuracy reported at the end (we  don't have the groundtruth)."
   ]
  },
  {
   "cell_type": "code",
   "execution_count": null,
   "metadata": {},
   "outputs": [],
   "source": [
    "!python3 run_downstream.py -m evaluate -e result/downstream/fbank/dev-best.ckpt"
   ]
  },
  {
   "cell_type": "markdown",
   "metadata": {},
   "source": [
    "The `test_predict.txt` file contains the predictions of this model for the evl set."
   ]
  },
  {
   "cell_type": "markdown",
   "metadata": {},
   "source": [
    "### 2.2.6 Create the final predictions file and submit to the challenge\n",
    "\n",
    "Like in Part 1, we will create the predictions file in the expected format:"
   ]
  },
  {
   "cell_type": "code",
   "execution_count": null,
   "metadata": {},
   "outputs": [],
   "source": [
    "\n",
    "trainset = 'train100'\n",
    "upstream_id = 'fbank' ## <--- CHANGE THIS ACCORDINGLY\n",
    "group, system = '00', f'ssl_{trainset}_{upstream_id}'\n",
    "\n",
    "filename_dev = f'{S3PRLDIR}/s3prl/result/downstream/{upstream_id}/dev_predict.txt'\n",
    "filename_evl = f'{S3PRLDIR}/s3prl/result/downstream/{upstream_id}/test_predict.txt'\n",
    "\n",
    "\n",
    "with open(f'{CWD}/g{group}_{system}.csv', 'w') as file:\n",
    "    \n",
    "    csv_writer = csv.writer(file) # CSV writer\n",
    "    csv_writer.writerow(('fileId', 'Lang')) # Header of the CSV\n",
    "\n",
    "    results_dev = [l.strip().split() for l in open(filename_dev, 'r')]\n",
    "    results_evl = [l.strip().split() for l in open(filename_evl, 'r')]\n",
    "\n",
    "    # Save dev results\n",
    "    for file_id, lang in results_dev:\n",
    "        file_id = file_id.split('-')[-1]\n",
    "        lang = LANG2ID[lang]\n",
    "        csv_writer.writerow((file_id, lang))\n",
    "        \n",
    "    # Save evl results\n",
    "    for file_id, lang in results_evl:\n",
    "        file_id = file_id.split('-')[-1]\n",
    "        lang = LANG2ID[lang]\n",
    "        csv_writer.writerow((file_id, lang))"
   ]
  },
  {
   "cell_type": "markdown",
   "metadata": {},
   "source": [
    "Finally, you can submit your prediction(s) in the  [Kaggle competition](https://www.kaggle.com/t/312cd4200cfb4e138ea9372ce5bc33fd).\n",
    "\n"
   ]
  },
  {
   "cell_type": "markdown",
   "metadata": {},
   "source": [
    "# Contacts and support\n",
    "You can contact the professors during the classes or the office hours.\n",
    "\n",
    "Particularly, for this second laboratory assignment, you should contact Prof. Alberto Abad: alberto.abad@tecnico.ulisboa.pt\n",
    "\n",
    "\n"
   ]
  }
 ],
 "metadata": {
  "kernelspec": {
   "display_name": "Python 3",
   "language": "python",
   "name": "python3"
  },
  "language_info": {
   "codemirror_mode": {
    "name": "ipython",
    "version": 3
   },
   "file_extension": ".py",
   "mimetype": "text/x-python",
   "name": "python",
   "nbconvert_exporter": "python",
   "pygments_lexer": "ipython3",
   "version": "3.12.0"
  }
 },
 "nbformat": 4,
 "nbformat_minor": 2
}
