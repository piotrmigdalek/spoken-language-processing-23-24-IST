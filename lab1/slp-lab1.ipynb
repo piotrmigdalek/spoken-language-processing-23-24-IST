{
 "cells": [
  {
   "cell_type": "markdown",
   "id": "7afbdf28",
   "metadata": {},
   "source": [
    "# Spoken Language Processing 2023-24"
   ]
  },
  {
   "cell_type": "markdown",
   "id": "62c29a77",
   "metadata": {},
   "source": [
    "\n",
    "Before you turn this notebook in, make sure everything runs as expected. First, **restart the kernel** (in the menubar, select Kernel$\\rightarrow$Restart) and then **run all cells** (in the menubar, select Cell$\\rightarrow$Run All).\n"
   ]
  },
  {
   "cell_type": "markdown",
   "id": "f3dd5023",
   "metadata": {},
   "source": [
    "---"
   ]
  },
  {
   "cell_type": "markdown",
   "id": "9b6a5a0d",
   "metadata": {
    "deletable": false,
    "editable": false,
    "nbgrader": {
     "cell_type": "markdown",
     "checksum": "89206e16c4fdaa92c7e5d7be2f6c49a8",
     "grade": false,
     "grade_id": "Title",
     "locked": true,
     "schema_version": 3,
     "solution": false,
     "task": false
    },
    "slideshow": {
     "slide_type": ""
    },
    "tags": []
   },
   "source": [
    "# SLP-Lab1 - Speech Signal Processing\n",
    "\n",
    "_Luis Caldas de Oliveira_\n",
    "\n",
    "Speech signal processing is a subfield of signal processing that deals with the analysis, synthesis, and transformation of speech signals. Speech is a complex signal that conveys information about the content, context, and emotional state of a speaker. The goal of speech signal processing is to extract useful information from speech signals and make it more accessible and useful for various applications.\n",
    "\n",
    "Speech signal processing techniques play an important role in preparing datasets and in extracting features from speech signals. These features can be used as inputs to machine learning models for various speech-related tasks such as speech recognition, speaker identification, emotion recognition, and language identification.\n",
    "\n",
    "This lab assignment will introduce some tools and concepts for the manipulation and analysis of speech signals. It includes 20 tasks for the students in the form of short pieces of code that need to be included, metrics that need to be extracted from the speech signal, and answers to questions. Cells with tasks are identified by having Txx in its title where xx is the order of the task.\n",
    "\n",
    "This document was inspired by the \"Introduction to the acquisition, visualization and processing of speech corpora\", \"Lab1\" and \"Lab2\" lab assignments by Prof. Isabel Trancoso."
   ]
  },
  {
   "cell_type": "markdown",
   "id": "247686cf",
   "metadata": {
    "deletable": false,
    "editable": false,
    "nbgrader": {
     "cell_type": "markdown",
     "checksum": "c23745237ec3b76d112960d0c8dacf6f",
     "grade": false,
     "grade_id": "cell-a6c459a2e53d407c",
     "locked": true,
     "schema_version": 3,
     "solution": false,
     "task": false
    }
   },
   "source": [
    "## Introduction"
   ]
  },
  {
   "cell_type": "markdown",
   "id": "57c8dfbf",
   "metadata": {
    "deletable": false,
    "editable": false,
    "nbgrader": {
     "cell_type": "markdown",
     "checksum": "ff0ebec777bb6d225249c13421edd6da",
     "grade": false,
     "grade_id": "TeamID",
     "locked": true,
     "schema_version": 3,
     "solution": false,
     "task": false
    }
   },
   "source": [
    "### Group and Student Identification (T01)\n",
    "\n",
    "Initialize the variable `group_id` with the number that Fenix assigned to your group and `student1_name`, `student1_id`, `student2_name` and `student2_id` with your names and student numbers.\n"
   ]
  },
  {
   "cell_type": "code",
   "execution_count": 5,
   "id": "b4577985",
   "metadata": {
    "deletable": false,
    "nbgrader": {
     "cell_type": "code",
     "checksum": "a4bb1f4bc26e602cb9ae11603e32a3d8",
     "grade": false,
     "grade_id": "T01",
     "locked": false,
     "schema_version": 3,
     "solution": true,
     "task": false
    }
   },
   "outputs": [
    {
     "name": "stdout",
     "output_type": "stream",
     "text": [
      "Group number: 4\n",
      "Student 1: Ana Margarida Pereira (100284)\n",
      "Student 2: Piotr Jan Migdałek (108765)\n"
     ]
    }
   ],
   "source": [
    "group_id = 4\n",
    "student1_name = \"Ana Margarida Pereira\"\n",
    "student2_name = \"Piotr Jan Migdałek\"\n",
    "student1_id = 100284\n",
    "student2_id = 108765\n",
    "\n",
    "print(f\"Group number: {group_id}\")\n",
    "print(f\"Student 1: {student1_name} ({student1_id})\")\n",
    "print(f\"Student 2: {student2_name} ({student2_id})\")\n",
    "\n",
    "\n",
    "# YOUR CODE HERE\n",
    "#raise NotImplementedError()\n",
    "#print(f\"Group number: {group_id}\")\n",
    "#print(f\"Student 1: {student1_name} ({student1_id})\")\n",
    "#print(f\"Student 2: {student2_name} ({student2_id})\")\n"
   ]
  },
  {
   "cell_type": "code",
   "execution_count": 6,
   "id": "c31c5bc0",
   "metadata": {
    "deletable": false,
    "editable": false,
    "nbgrader": {
     "cell_type": "code",
     "checksum": "9b3f3133932fefe3cfeaeffab72dfba7",
     "grade": true,
     "grade_id": "T01t",
     "locked": true,
     "points": 5,
     "schema_version": 3,
     "solution": false,
     "task": false
    }
   },
   "outputs": [],
   "source": [
    "assert isinstance(group_id, int) and isinstance(student1_id, int) and isinstance(student2_id, int)\n",
    "assert isinstance(student1_name, str) and isinstance(student2_name, str) \n",
    "assert (group_id > 0) and (group_id < 40)\n",
    "assert (student1_id > 60000) and (student1_id < 120000) and (student2_id > 60000) and (student2_id < 120000)"
   ]
  },
  {
   "cell_type": "markdown",
   "id": "804b0ae8",
   "metadata": {
    "deletable": false,
    "editable": false,
    "nbgrader": {
     "cell_type": "markdown",
     "checksum": "e7210b31ab43b46e89c87f38ff0d762a",
     "grade": false,
     "grade_id": "cell-d158bea835b3f398",
     "locked": true,
     "schema_version": 3,
     "solution": false,
     "task": false
    }
   },
   "source": [
    "### Python Packages\n",
    "\n",
    "The next step is to define the Python Packages that this notebook requires:\n",
    "- **NumPy** is a Python library that provides functions to process multidimensional array objects. The NumPy documentation is available here.\n",
    "- **IPython.display** is a module in the IPython interactive computing environment that provides a set of functions for displaying various types of media in the Jupyter Notebook or other IPython-compatible environments. For example, you can use the `display()` function to display an object in a notebook cell (for example an audio object created with the `Audio()` function).\n",
    "- **Matplotlib** is a popular Python library that allows users to create a wide range of visualizations using a simple and intuitive syntax.\n",
    "- **Librosa** is a Python package for analyzing and processing audio signals. It provides a wide range of tools for tasks such as loading and manipulating audio files, extracting features from audio signals, and visualizing and playing back audio data. Librosa is a popular library for use in music information retrieval (MIR) and speech analysis.\n",
    "- The **SciPy** package provides algorithms for scientific computing in Python.\n",
    "- The **math** module provides access to the mathematical functions defined by the C standard but that cannot be used with complex numbers\n"
   ]
  },
  {
   "cell_type": "code",
   "execution_count": 1,
   "id": "4f431683",
   "metadata": {
    "deletable": false,
    "editable": false,
    "nbgrader": {
     "cell_type": "code",
     "checksum": "59b9e419a3841f748307c6ea9c3d8032",
     "grade": false,
     "grade_id": "cell-3c02fa97202f83e3",
     "locked": true,
     "schema_version": 3,
     "solution": false,
     "task": false
    }
   },
   "outputs": [],
   "source": [
    "import numpy as np\n",
    "from IPython.display import Audio\n",
    "from matplotlib import pyplot as plt\n",
    "import librosa\n",
    "import librosa.display\n",
    "\n",
    "import scipy.signal as sig\n",
    "from scipy.fft import fft\n",
    "import math\n"
   ]
  },
  {
   "cell_type": "markdown",
   "id": "7b28ab25",
   "metadata": {
    "deletable": false,
    "editable": false,
    "nbgrader": {
     "cell_type": "markdown",
     "checksum": "c062eac773981b897297f55ccd426692",
     "grade": false,
     "grade_id": "cell-81ae063c7c09bbad",
     "locked": true,
     "schema_version": 3,
     "solution": false,
     "task": false
    }
   },
   "source": [
    "## Phonetics"
   ]
  },
  {
   "cell_type": "markdown",
   "id": "f01aaf6e",
   "metadata": {
    "deletable": false,
    "editable": false,
    "nbgrader": {
     "cell_type": "markdown",
     "checksum": "3ae516a3fb91dd21199f41f73875f5e2",
     "grade": false,
     "grade_id": "cell-e06258eb4c50ceb0",
     "locked": true,
     "schema_version": 3,
     "solution": false,
     "task": false
    }
   },
   "source": [
    "### Harvard sentences\n",
    "\n",
    "The Harvard sentences are a set of standardized phrases used for speech testing and evaluation of audio equipment, such as telephones, radios, and hearing aids. They were developed by researchers at Harvard University in the early 20th century and have since been widely used as a benchmark for audio quality.\n",
    "\n",
    "The original set of Harvard sentences consisted of ten lists of ten phrases each, which were carefully designed to include a wide range of speech sounds and phonetic contrasts. Each sentence is relatively short and simple, typically consisting of five to ten words, and is meant to be easy to pronounce and understand.\n",
    "\n",
    "he Harvard sentences have been revised and expanded over the years, with newer versions containing up to 720 sentences. They are still widely used today in audio testing and research, and have become a standard tool for evaluating speech recognition systems and other audio technologies.\n",
    "\n",
    "The full list of Harvard sentences is available here: https://www.cs.columbia.edu/~hgs/audio/harvard.html\n",
    "\n",
    "Philippa Demonte collected a high quality digital audio speech corpus of the Harvard sentences in its entirety (720 phonetically-balanced sentences) recorded December 2018 at the University of Salford with a female native British English speaker. The corpus is avalaible [here](https://salford.figshare.com/articles/media/Speech_corpus_-_Harvard_-_raw_audio/7862666?backTo=/collections/HARVARD_speech_corpus_-_audio_recording_2019/4437578)\n",
    "\n",
    "The first file includes the following utterances:\n",
    "\n",
    "0. Harvard list number one.\n",
    "1. The birch canoe slid on the smooth planks.\n",
    "2. Glue the sheet to the dark blue background.\n",
    "3. It's easy to tell the depth of a well.\n",
    "4. These days a chicken leg is a rare dish.\n",
    "5. Rice is often served in round bowls.\n",
    "6. The juice of lemons makes fine punch.\n",
    "7. The box was thrown beside the parked truck.\n",
    "8. The hogs were fed chopped corn and garbage.\n",
    "9. Four hours of steady work faced us.\n",
    "10. A large size in stockings is hard to sell.\n",
    "\n"
   ]
  },
  {
   "cell_type": "markdown",
   "id": "7f25dc45",
   "metadata": {
    "deletable": false,
    "editable": false,
    "jp-MarkdownHeadingCollapsed": true,
    "nbgrader": {
     "cell_type": "markdown",
     "checksum": "26ff68455cbc25f79160fb6e0e1232e0",
     "grade": false,
     "grade_id": "cell-8d0164f20cf40b71",
     "locked": true,
     "schema_version": 3,
     "solution": false,
     "task": false
    }
   },
   "source": [
    "### Audio Recording\n",
    "\n",
    "The file `harvard01-04.wav` is the recording of the sentence\n",
    "\n",
    "```\n",
    "These days a chicken leg is a rare dish.\n",
    "```\n",
    "\n",
    "It is recorded in a single channel (mono) at 22050 samples per second with 16 bits per sample and is stored using the wav file format.\n",
    "\n",
    "Run the next cell to load the recording, plot its time-domain representation, and create a widget to play the file."
   ]
  },
  {
   "cell_type": "code",
   "execution_count": 8,
   "id": "23e9d936",
   "metadata": {
    "deletable": false,
    "editable": false,
    "nbgrader": {
     "cell_type": "code",
     "checksum": "7282e819bfc9d6120fb21e50d375036c",
     "grade": false,
     "grade_id": "cell-101bba6d94e45401",
     "locked": true,
     "schema_version": 3,
     "solution": false,
     "task": false
    }
   },
   "outputs": [
    {
     "data": {
      "text/html": [
       "\n",
       "                <audio  controls=\"controls\" >\n",
       "                    <source src=\"data:audio/wav;base64,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\" type=\"audio/wav\" />\n",
       "                    Your browser does not support the audio element.\n",
       "                </audio>\n",
       "              "
      ],
      "text/plain": [
       "<IPython.lib.display.Audio object>"
      ]
     },
     "metadata": {},
     "output_type": "display_data"
    },
    {
     "data": {
      "image/png": "[encoded data removed]",
      "text/plain": [
       "<Figure size 864x288 with 1 Axes>"
      ]
     },
     "metadata": {
      "needs_background": "light"
     },
     "output_type": "display_data"
    }
   ],
   "source": [
    "sr = 22050\n",
    "utt1, sr = librosa.load(\"harvard01-04.wav\", sr=sr)\n",
    "\n",
    "fig, ax = plt.subplots(figsize=(12,4))\n",
    "librosa.display.waveshow(utt1, sr=sr, ax=ax)\n",
    "\n",
    "display(Audio(utt1, rate=sr))"
   ]
  },
  {
   "cell_type": "markdown",
   "id": "c66c9c70",
   "metadata": {
    "deletable": false,
    "editable": false,
    "nbgrader": {
     "cell_type": "markdown",
     "checksum": "712418353fbfb40835bae41b91cd190c",
     "grade": false,
     "grade_id": "cell-e817a9fb17525b01",
     "locked": true,
     "schema_version": 3,
     "solution": false,
     "task": false
    }
   },
   "source": [
    "The function `waveshow_seg()` is a helper function to plot a segment of the waveform."
   ]
  },
  {
   "cell_type": "code",
   "execution_count": 9,
   "id": "5116adbd",
   "metadata": {
    "deletable": false,
    "editable": false,
    "nbgrader": {
     "cell_type": "code",
     "checksum": "eebdd1dc5d911f01975ba3f933ca7ce7",
     "grade": false,
     "grade_id": "cell-0613bf4d8449b636",
     "locked": true,
     "schema_version": 3,
     "solution": false,
     "task": false
    }
   },
   "outputs": [],
   "source": [
    "def waveshow_seg(x, sr, tmin=0, tmax=0):\n",
    "    if (tmin < 0) or (tmin > x.size/sr):\n",
    "        tmin = 0\n",
    "    if (tmax <= 0) or (tmax > x.size/sr): \n",
    "        tmax = x.size/sr\n",
    "    fig, ax = plt.subplots(figsize=(12,4))\n",
    "    ax.set(xlim=[tmin, tmax])\n",
    "    librosa.display.waveshow(x, sr=sr, axis='ms')\n",
    "    return"
   ]
  },
  {
   "cell_type": "markdown",
   "id": "e2f4e793",
   "metadata": {
    "deletable": false,
    "editable": false,
    "nbgrader": {
     "cell_type": "markdown",
     "checksum": "cb76d6ef0fe24aa05df1e315a590f584",
     "grade": false,
     "grade_id": "cell-4a4f15aa8f6cec37",
     "locked": true,
     "schema_version": 3,
     "solution": false,
     "task": false
    }
   },
   "source": [
    "Similarly, the function `play_seg()` opens a widget to play a segment of the utterance."
   ]
  },
  {
   "cell_type": "code",
   "execution_count": 10,
   "id": "c599ab4c",
   "metadata": {
    "deletable": false,
    "editable": false,
    "nbgrader": {
     "cell_type": "code",
     "checksum": "c60a368a0e9d0d7d92236190d53aed2b",
     "grade": false,
     "grade_id": "cell-52c5484b4572495a",
     "locked": true,
     "schema_version": 3,
     "solution": false,
     "task": false
    }
   },
   "outputs": [],
   "source": [
    "def play_seg(x, sr, tmin=0, tmax=0):\n",
    "    if (tmin < 0) or (tmin > x.size/sr):\n",
    "        tmin = 0\n",
    "    if (tmax <= 0) or (tmax > x.size/sr): \n",
    "        tmax = x.size/sr\n",
    "    n_seg = np.arange(np.floor(tmin*sr), np.ceil(tmax*sr), dtype=int)\n",
    "    display(Audio(x[n_seg], rate=sr))\n",
    "    return"
   ]
  },
  {
   "cell_type": "markdown",
   "id": "a228261b",
   "metadata": {
    "deletable": false,
    "editable": false,
    "nbgrader": {
     "cell_type": "markdown",
     "checksum": "6d49a412620536e4ade2421354d54384",
     "grade": false,
     "grade_id": "cell-cb0d65e9680ef702",
     "locked": true,
     "schema_version": 3,
     "solution": false,
     "task": false
    }
   },
   "source": [
    "In the following cell, you can change the start and end times of the segment of the utterance that you would like to see and hear."
   ]
  },
  {
   "cell_type": "code",
   "execution_count": 11,
   "id": "ea00c583",
   "metadata": {
    "deletable": false,
    "editable": false,
    "nbgrader": {
     "cell_type": "code",
     "checksum": "0547e2f205ec010e8f41b0c53f229c90",
     "grade": false,
     "grade_id": "cell-ff4a736e8f65648a",
     "locked": true,
     "schema_version": 3,
     "solution": false,
     "task": false
    }
   },
   "outputs": [
    {
     "data": {
      "text/html": [
       "\n",
       "                <audio  controls=\"controls\" >\n",
       "                    <source src=\"data:audio/wav;base64,UklGRh5wAABXQVZFZm10IBAAAAABAAEAIlYAAESsAAACABAAZGF0YfpvAADs/xwA9P8GAPb/FgDo/wwA7v8AABIA/P8CAPr/GgDg/wQAHAD2//L/BADq/wQACADg/wYA/P8KANz/GAAiAOD/IgASAP7/BAASABoADgAGAAIA9P/0/xQA0P8eAPz/BgAcAOz/IgD+/xIAGAD4/z4A7P8SACQA9P8sADAA/P8CADQAAAAYABoA9P8oABIAGgAIACQAFAASACQAFgAKAAoAHgAYAAYAHAD0/xIAGgAMABgASAAkABAAOgAwAB4AGgA0ABYASABOAGgAWgDEAGYAKgG2AKcG/QuWCI4I8gQEAFT+nf2b/Cz+CP/O/7YAFP8i/r39tv5R/YX9fv7f/ej+1v6T/ZD+9P11/Rr/1/1Z/Zf9B/2q/jr+tP5k/+L+zP+U/2oAFgAs/07/Rv8S/z7/uv/G/wQBkAAQADIAYgDYACgA8gDcAAIAkgAEAa4A8AAcAXgASADmAIL/mgAOAbb/AgE0AAIAfADA/w4BAACo//YAOv8iAWQAogCSAJb/DgB6/wj/dgAeAK4AIgBM/4gBMP76/5QA8v+cACgAYv8A/8z+egAiAE4APv8gANL/IP8o/yz/1ACM/gwB9v5g/1T/igCGAK4AIP9O/+7/oP+iAJT/mgAW/8z/uv4EAOr/pgD+/6AA5P8s/6T/vP+Q/2j/QgFUAOoAWADW/xwAkv/w/8wAagBoACQACgAYAPYAGADcAGQAdgA+ACIATgAYAIYAmv8mAZL/egAGAEQAtAECABwAGgEa/zIAkAAwAPgBJP88AFwB3P+K/0IAcgCEAOoABgA4AAIAngAiAEQAFgG0AOYAjP8qAEL/1v+eAfYALgDc/6r/XP9MAHwAbgAYAHb/gAB8/3AAJABA//4AiP9k/9j/dAA6AOYAUP8A/+r/qP9iAEoAUACmAF7/UABK/3b/hADM/yIAfP9+ABIA+gDg/nT/rgDCAFQATP4UAMIA+gDm/+z+ugAGAbIATv+W/4gAmAHiAC7/lgBWAO4AlP8GAYwALAFUADz/LAGmAOwBNv+mAb4ANAH5EkQFHPaKCBb/fvcHBHQADAK2AVT/WwLq/Wr/AgJyACsDPf0o+1EChAGZAmoAigXrA4D68gE+/677cgEsAPoAlgEF/Tb/1QKu/nABJwN0CaYFXP+ACAz/YAGmBfMCpAWEAOIAMQMIAJT/qP6wAAr+KfkX/dn90/0tAsr/tvuO/o76Tvsb/af9c/2n/Hz+Wv4C+5P8+v+M/nr+Bv+c/6v9m/2i/iAB8P+c/3gB7v9I/7z+MP96AHb/BgGvAm7+wv9YAdT/mwJUAVgAygBW/zYA+P8eANQB4AG+AOIAMgB+/7QAGgF0AQwBiAC8AAIBtgBIAGUC8gEIAToBogA8ADz/GgDSAOz/UgAmAI7//P+O/kT/7P/G/uz9tP5y/+D+gP7+/7r/kv5+/pT+vP4W//7+sv9gADr+f/1S/jD+ff30/Y/9av6l/VH8ZfwY/08Cq/2C/ogBkPu++rf94/zt/OX9Cv8m/kn8SvsB/O38PvvQ+U38lf1z/Ln9jP+i/3z+BP6U/h7+9P3A/5cCBwO/AlYB1QKRAw4BWwOqBFQEIQTABG4F0gUIBewFpwY4BRcEjwMwBfoF8gS6BVkGYARrAkUCYwJQAYwB8P9oAPz94vra+cj5Sfkk9/72xPXs8h3xRfBB8A7uxu3h7CrqVOpp5KHkx+Ly4ArlU+N64ZLikt0F29jgUt1j3/3mU+ci8hH4JPrIAFz+YQMaCSgKcBKoGkweWShGKocotC5FLVcwVDPTMOgz2TS9NJc1OTJhMXYvQipIJ3gjjB2dH5YdNRglF1EQuwvECJsD8AE2/pP9T/x09130zvEo7azqWeeL39Pe0dqD2lzZGdYs1CrQm8/qzCfLfMyhyl3KJ8c4xA3DFsCzwt+94rvbuZm5CdNc5tfwdv/68obpAe3s8b/9QhUaKlU1ODzpMcYrDioLNa5D90HpReBH1D+GRBZEcT0xPbQ3yiv5I60b/RxEIgkhJRzGCRP9tPHK7W3vNPYY9sX30/dg8QbvBe1095b3cvs8Af75ZwKHD7kQXBrsGeUXvhbvGIAd6yD+KWUtPivGHtYaAxNqETMTfQzvBtT+GfT36y/kR9sr1gnPiservkm1WbUyryes/awzoJKdP5wFmAqb1J5hnRae/Le+0TnbMO4r6yXkM/B+/tUOcSF5PdtOmlHzUeRLNkhyWe1nN2TQZjNoAWOgYClbTlDMR35EkTrmL/wmeifRI5AdchEU+rbxwu4j6+Dti+8168XnauU12yXXSN6f57TuhPHj9IXvsvWe/sD/xQOTB4MLUwzFD58Pkg72DegM0wawAJz7wPkA9v7uF+yK4f7cKNV6zdzDn71BtnyynKouptWglJVvmy2ddb0nypfPxdJBwVvF29MP5zX9XBVJKTkxVi5IKsouaDyKVS5iXWAsZkplkWeIZQBimFw/XBJZ6VL/Si1GXkjEP98xPh6ODSQK1AnZCjMHDv9k9vLpxOAh1n/aruC+6srqvOTw4VTejeQE6gDume8t+L38gv8DAxIBdgCD/Mj5CvZf9Lr5Tvvx+A3xnuaD2+vW29MSzPfJc8ENuQu1V6nnoyOd0Zddtc3GJMkX1yPBibpiyUnTpObd+2cPFh/gIV4e8CGtJRA8slDRTvRTTWDfXhJmsWKQWMJYjlisWNNWZlEEVFVPokClMaMcQRjGGYkYLhbwET4BnPrg8eHf8d+j5PHmyu7n6JvjZd9s3N7keOKp5xvw6va3+NP9tfjv95v4CPaX9DLzu/Ph+P/3sfDH7O/ebdpr1+TQ0MzVzRK/d8GCstmpXqLemUmXoLbq1UvL4OC1ufCzQMSk0Prtcf2ZF0winyDeFtoZ+SA9OXVXfkxQVBNgd14wZvhd3FQkVQdbA1tsXGJU7VodT1JAbS3GGV0dLSE+Ir0bqhHeAQf5GO5M4hfjzOa+7f/vJeR84pLYGdz139zgpeRn7L/0UfTY9lfvzO3c7kbu6PGC7qjyrfOj7w3rR+Dz21jVntQpz5jLLsPUv+S3ZbCLqJ2b55vLwXbRCNWD3hG297Xnxa/WXO1IAWsXQB4aGtMTOhE2H2w/XFAUTPtRRllIXTRhHFrpUuRVm14hX89eglnYWf5Pl0KpLN8j9iZEKsgrwyD4FW0CtPtW8jXo1uos73rxRu7c5Vjeq9bm3DLepuAj44TpQO7H607uHOLN48zhh+T95i3s8upS5ibmtdce1XrRwNAMzN7IQ8eHtcO5XbELqI2hZ6n71l3TAOb1176vSLzB0i3ruvr3EjcXFxkJGfESlhbcJ5pLqlGVSuJUOlVrWhheTlT1TslXp1+nZGJeKVt5UohHVTmBKKQqYy0xNTgqGh9wDfL+tP4i8gvwv++n86H0CuqP5NXXq9aA3bffG9+J5D7pMOYV6B/cdNgJ3G/bseRS4mLdJuI13G7Yf9Lsyz/KUsQ8yNi7w7nmtiOueqqvn6PKXNR14KLmSL/WvFDIqObn9HIK7xgnGG8X1RR2Fg8dLz5XT+FKLVKEVQJUblgaVDZQrlTBXyBlSWAOXd5Uk0nwP5gz3i8HMgY3ySwuIrQW3AQNBAf8MPam9cHzavZ27nvo5OAK2YzcI98L37zgNOYd5PDhuNw21IPWHNmS3fHbmNzm2RXWpNW1zinH58EExRi8BMC5up+1sK5Lobanfs3y3HHknOLGt07AgNEc6qr+IA0QGgQadhZzFPIWkiPURPtRQUpHUhNWzVd+WVdT3FBiVeBlOGasYTlcHlRPSrc+vzTeMwI3KTobLuohpxPRB4wE6/xH+Ofzq/gU9prtnube3e3Wkdpm2EPamNy84PHfJ9dS0dXKGM0c0YrVINQZ1gLQ3MxRxnu9iLx1unO9I7psuw6wTKu7n1q7mOH03QbuFcsRtfDL8uQK/w0MTBmKGiwWlxS4FQUgIDhhU3xQn0mzU4hR7lWYVdJPiFRxYFdnxGRJW8JU9EsfQyQ7/zVpOdQ7DTaYJqkcXg4QBl8Heflt+Xb75/f399LmbuFF1jDVfth83CfbTdyk3A/ON84yxdHF286Sy+zPjMwlww3CQb13uVS4q7Uxseu1+qnQr12hqLI926jdjOqNziO5ssD549T/kBHtGG0U7RcCEUkXfSFzNfxPj1blTUJNQlGGUAFYiFGgVExeB2flaBpdg1ZJR9pEsT5qPzJA/D8JOeImyh3LDo8MygidAw4AUfgE+8zyGOrY4dLYjtUr14/bctg/2q/TUs0mxRjA7sM3yinKwMyIxNm4Bb1UswS4RbXlsKyz26xYqkKmjaFZyrzh1uAM5aa7fLij01r2CwttF/cXJBXNF00TKh/kJjtCGFkQUU9PilH/TjpUTFRBUqpYxGZcaUxlQFkLT/VGCETwQAJEqkAoQBAzLyCdHFkMGQ8+CQkE4/yQ+1D3E/D65THbAtVC1HrZdtnE1RrRW8qSv8W+rbrxvevGS8YIweu4OagFrf+nRa3ErpyvPKahpHyegLK93vrVWOlFwZq3+82N68gJqBKwGgEQThorECAfUS3kP+JZ507US29OmlHZVnhYJlXsWXpmtmW0ZcZYd1O0SyVHt0HSQz9FiUKUOJAi9h00Ef8T9A1lBpgBt/00++rxKOkB3/DZ+9cM2uDZ6NVz033K+r8HvYi8hb4JxofFwbrKtrarEKbRrRmlsKudqFegbKIlnLDEV9ak2efX5Lczsv7UPvcRB5kT3BEVDFsUShX0HgkuKUEPXKRL2U5KUVpNLFgQWRBU61/4auxqsWfhWqJRV0tqTPVJVk34SBFHoDJFJWsgyRShGHIR8ggMAh7+Jvri7uvmDdzL1j7Y0dfO1ArN6Mj7vaa8srd/tdm4krvMt5exyKcxoeKiEZ2PpGubxJ0Olkusn8mu0JjdEcEotJC4794N/OIM2hVMETsUfhG1GJgeizXQT5VbxlVmUbJQvk8iVLNSxF2OaVpzO3HPXnBU1kjOS7BL206tTpJMQkMtLX4j1hU5FygVwRPVC4oE6P9Y9s7qL9/Y2QHXhd4K2vvWT8sCwNm5u7SguDe5aMD+u8WxKKc8nnehTZ0HpBucCpc4miWdm8n1ztHS+sdLqG6z+s/i+hAKhhIWDmgJXwjODQofMC7PTshc21MnSudKMUo1U+xYgV6wbTZyqXOkYXBUnU66UB9WG1jlVtlNvkhpMJ0luiE1HO0fvhkjEFEDCP/J98XrieMB23LYOtgf1rvPgsSKvNi2Gq/dtYKzYLeltManqaDzkyWcrZMKnkOXvpLWlaqzIs0YyTnSUKqKr7PCaesVBE4KqxOUCPIMcQsnHBImOkhhWmJVLVPmSKVPO0+DWhVc3mkDdbxyMWuAWJVTKE1cWK9XWlkwVFlKSjgFKVElYB8OIs8cXhbfB6MCF/lf8BPnp99T2qnX4dbRzQDIR7qauLavWLR5sNivV7AdpFKjIpVbl+GOLJaEktiMEZhRvfvJhs0Fx8mcnKtoyKzxbAVqEaQNMQfWBUUIvhp8KjdTS1seVIpQHEjsS5dS0llxX4py+nUjdf9nR1cNU1BRKVuJWg5deFXTSjs26itRJGcglSQDHfwVdgmxAk72xO2O4v3bFtpM2a7UEctYwIG2tbCErvKv6qofsQOppp0Oli2Q+4tFkD6SKIo1kM24pMcaxU3FZZzxpB7Ei+tq/y4J7wtGBsoEwwNlGIEkVEwcXbFSm0+hSjZJwlCoWGZe5nLOem95HWiZWgdTZVKdX8te4GByWexQqThELs0p5yR9KcAhaBpJDGsGbvqU7iLlXN4K3c3aTNUbyuK/t7nirguunqvOq16r/KkhnFSOvo1aigOLgo4KhmySq8InwXbMG7G1j6epe8UZ9SQG7AQQBmABM/n6BQ0YKit1ViRaeFA7Sx1DH0owUSNbM2jTeNZ583doYopZPFVKWZ5hHWObZGtaf04xNaYu1ygXLQ4siSS5GEsLJwOv90TuJeMq4dbdvdqA0aHGq72DtACwL6ylqfKqy6y4oc6ZmIk8hlWM9IwVj+uHbK8EuxfDAME5nOGXariw4CDz5gVo/4YAD/2+/iMM0xi9PWVWzE9HTwhJ1EBTSpNS0lwkc818mXj4ah9fGlkeVf5dkGE0ZSRlNl1PQf4zXSzuKoAufSz1I10XMA2k/s3vn+fB4yDh5+Ld1xDNar+UuHSub6yHrc6ro60SplSaaI0Fh/6JEonMjCyFnaX7vPS/nMQHnNaRO6jC1PXvXgRe+wv8UveT+BAGIA6xNMhMrVZiTUdFEDh3Ro1PQl3bcBZ3fHpsbTljMFm8VX5dLGUKauloumDSR843xC9oL/c0FzJ2KrcbBBHaARv4huod6KPkQuaS3DrN0sCFtgq0f7BvsairF6w2phab94+dhyiJ2Iw0kfSF0ZhkuMK2s8ZAqpeToqPxybbls/hv/Sr3AwiR+QX8vv9pG9VCFl4eWexELzlQM75HM1NZbPx6i313dPVjclTJSTBaDmEDcVJye2QZT8ozdiuuK9c4BjdhNZAj0xTzA/bylO3x5hjupO2J4+HOOcG1tG6zlbSiss+1XKskq9WcLJERjOGLFJHxkmKK0pL9uJ+1NsnyrhSW0qLkwJXnTvPs/Xfw1PV47Yj+FgU/HbpAs0XXSko8xjNfNlNHpFSjaMtwxXPSat5d8l0qUE5eU2c1bL5uR2A8Tbc4CDccNzFBxDoRNcYhARM4Cuf7YPoO83PwnuoL48rP58ZYvCa857nFtSu1Ja2ZqWOhPpaCjtSSLJWxmL+K9ZN/qYe1gMdouKefb6EBugHXr+vv8//wfe+Z8+n4egDZE5Au+DurQds8ijJSN2JE7U3IXY1oMWsfaPxluV6tVi9cZGFBZ3VraGUrU95D+DrKOhk9Bz7CM2AnYBpADpYEvvu+9o3vyO6M5RvXH8oDw0y/kb1Qu3+2RbBVrIKm8ZxumluY3Jlsmr2QYZNqqje2dsTfvKCjr6VttRbQxeh77Dru/vGt58D1cf1ACqMoSzHROQM2ji4hMTM6bEh/WppgfGbvYqxcAl5wVXFaXmGGZcpqrWInUi1GtjvxPq1CUT0gOMcp0xz+FCoGGgEf/IT2o/M/5+nbJNBYyBzEjMMevLu9SbbhsDSuTKNsniifj6EUm+OXQJF+rki05cUPwsufSaUurm/Pn98R8QXobei36KjqRfii/mcgPSk5Nbov8SdfKGgyDEV5TzZdbV6/X7JZ9Vs7UqhUb1/MYfFsZGGuVTBEPz6UP19Cy0FzOTQvAyDaGUIJkQaOANv8Vfle7qrhk9OhzyfKE8tiwwjA+LccuD2ymK65qfCigKcDoZydaY9ep9CzLcIDxpGwkajprPfFTdL55mfobO6v6Hnrhu4r9W0TESG6K/gpuSm3IwUupTlcRFpUuVZAXTNXaVb5UsxQbllWXllneGLdV6NGgUHkP9ZD40HIO+Mx3SQUHjgOsQoxBBsET/y79Djmptj+1X/Ooc8wyTvG4r8WvK67V7Cqr9Krp6nBqLih4Zd5oEO2wrspype6X6jprFO9u9Md4BvnuuYb6JTmFO708ZIEsBnEIvknayAKH7InLzJ8PIVJUlBSVeZUlFEOUM5LzlSFWzFgxGBnVo9K10GmPx9BekMRPTE1YSkhIEIWfw8UCn4EngA5+dztueP62czVi9JuzTLI+cWnwZzAQ7oAsCWyOqvornmobp+0mSq07rujyajDT6nqrrexQtCe2Mrpb+T26rThEOaw8fb5xxdbHPsk8xyGIjYeIy7ON1NCXlGdUu1S60q5TbRMwVPCWSpez16AVEZNekBIP1NBBUJWQJ43oitsHwwaSg2YDVsHRgaO+6rxCuUC2ubYG9Lo1EPLystVxfrAILs/tsexs7BLsdepyaN1mKW1frsqww/KjLI8qwu2i8q903XoRehP7F/k1eMK6sPzWhJ6HYojFiIvHRkZFyjxMXU+jk32U39T60YZSttGekxxXlFf21uyVTdKHECmP5Y/nkPVQWM62isxIEQaPRAnD4YN/Qa3/dPzUOZn22XagdcC1n/Ol8qfxiu+4L/NteW00LLjsaGsz6NEmput5761xTrNcrIKrJyzBMmF2unm8efb6AjlXuZX8NT1ig11GxEh0CHkGVAesykqNPI/90J8THFP70kETVZM3EhQVDlX5VevU8VKakNSPM89TD98PEE1LSyhH3sbbxOWDgUM+wP7+yrySunZ3y3bHNn+1O/KOsn4w72+uMORumK3NLB4q5epO6Sxo8e4lsCNxmXGDKwrsZy8LM0W3RnnBuac6vjpUua97CX5sxD1G1UkkiJ1HOAhyio5MvI6tUbJThhUjFHqSzBD6kQ3U4hZKV+lVn1JyDwjOos6kjw5PX821y35H8sUkwsVC10GSwP//MrxQ+OY2bDV29Lkzz7MXcs/wXi8R7kOsACwvK8Vqc6lyKLnsNq7LcZ3whyw6qtKt+bIbNkV5/boXeux5I/koOmL/IwRcSFVJYchmxyuIRorRTVVQeZI2E+FU89Sk0qzSaZIYVKyWeVfr1flTbxAljecNrk6aT5VOd4vdCIrFCMIcAXpApwEgf2k8injWdelz1nOtcqRyUPHG8OTvT63a6xTqemngKLzoMGsnryLvkjE+LO8ptmt5b5X0wjlkuW751nki97S6srxWAXLH4UhDSGtH/MccSmuMhM5i0UvS5FPsFX+T1dPeUlfS99TDlp8XdVXnEc7Pe84QTbkOy85RjNiKj4fZRCjBk4ANgBSAL/39Oit26fT886xysDEY8X4wPrAFbk5rXOoIKNIomOcPqrjuMi8W8JouI6mR61sv6vJetxK6ibpIeeL5/7kXe9QBL4WMCN+KqklZyRgJ5ou2DdsQ5lPLVPJU5RVllChSoFPhU8NVnVaw1dhT6VFBjzfNQwz3DPfMDAu5iXsFWgKUABh+Wj28fQm7WbimNnBzZfC2cFSvzu+WMBuuyeuWqedoJyV45gWsES38cH9xbWtfaXMr126dMyX3/jqtu7Y5RrpOeS47gwN0BoMIr8tzieYJ6ovJC8xNX1FWlQEVldapFmcS/BI8E8IUEFaIV+XVwBNt0KKN/c01jPHNMYyMSzpH0EQrgRm/kv45/NU8wDmhtxF1rjIaL9XvQa8SLwwvKm1iqdqnvqWx5CPpGi4p7kwyL20mKNQpiywzMdz2yzp2fBx6D3f5ecx6CkCNxclKAQwCS3fJ84mAiuhNV1FE1JqXPZZJlW1SVpEWUVXUzphwGG6XAxN5jemNu81RzlZPr85hy0OHskOIAUs/47+mPsA8kDq9dqQ0YTIpcKzvfy+Sb03urazcqdRnMOTfI6Iowi4RLh+x3O1Ip/3qUuyzsAp217ptvFg7srmVOZn6KT/hBm4Js007jaSKxksjyxjLYVF0FgjX/tir1dhSpdCVkN1U+JgwWIeYmdK5jddNWAvDjj/PH02bTBsHYcLlwKX+Kv8sfhg8anr0dfhzaHGsbkquyy8j7l7upWwq6BMlYGHbY91rXm0wsBBxWCndaGvrIyuo8rv4+Dt9/RN6yjlVub68VIN3yNxLS47QDMILGUx0Sy+PDJRHVt2YsxgLFjpSdVFhEy0UP9f3WdZW3hNEDwFLVAuCDO+N805Gi/rG2wIJfjp8OPwqPKV7z3k1daIx4O5UbJcs2K067WztHSmTJpmihKCzJ1Ypom2kMsKrxamR6hfpdy7Cdvn7LvzjvGe5jnnHPLzB9kgSSydOYE5Vi/AN+M1tDu1UqFWzVvyZNpgIlUPTydLFUsmWONjZ1/IVIBH3DIiK3gvci93NYs1iyEnD0D+lfBi7Ujt7+sb5BbZSM2qvCiweq4ar+yuybEapumY7YcHg/Cev58ut4jHp6SWpkaq7KV+w6/bgOlW8hTvc+sy5VP4ShLjHIE0gDzMLk44rDu5NI5EFFEbWKBcxmBAXn1TvFRIUHBNC1e/W3JY7FRESYk0VDPIL20p4zDfLeIeChJjA6/z3+x46vfmMt3Z10DMS7rptFSutK5XrR2sx59Yjv6I74vMoQamKLuGuz+ciKbIq/enHs315p/o2++i6hfnHuldAmkYnCNyOHg4UTEOO2s2KjgmURBUm1a0YAdgVl70Vd5ZjlCWRzha3VdEVDFXNkyHOU0xhynWIu8pxiu7H7MT0wNY7q3kDuKq3QjaM9xgyYW54rP6piSnrKrApu6ajpLlg96WDqJppJnF/Ko5nZSuWaTGtnfbT+dG7XbuXuaO5sLxoA6GIrAuPT7qM2IvRznJNYpDCFnWWHVg+F0uWVVWJU8BWLxRx1LZVw9YYFRdSzpExDNkKkgrHir7KCgnoBr1Cpf4F+h34DfffeBE3e3RlMOMsvym8amop06nX6ivmHKENY8Cm+2XDbmsvz2gvawOryKfD8YZ4z7l1PXl95zluur+/dIS1CUzOilCcjTVORY3tDe/SspYnFzbYxZivFmHVvJVMFQAURFY9VcwUbBQ6kjHOUQzbyw1JVIjyiIsG7oRCQQ88vbk1N3O1eXXytAVy5bAEq/8rhmhHKP5nw6aPo0fi5yeH5iiqoTA26ORpbm0C6FWvIbZ7+Zb8D30/vGS5m/zew8II10xOUYbPbQzaDipOEFBwFW6YcBhnV5LW99OL09PV8NS61NTVoNSlEtPRug/fzbXLEIr9SNsHokcvRe2CE38oev13wjZzNXb09rMxMeCu36vV6jJpGCfYJ8mmyGLgZc4p42X18G7tDKe4bzrpCOxh8/S3LbxNfWD8yPx9eY0BicYGiJiRCY7/jcgO1YugT1iSFhVYWC4XJZgelSVUsRU/kikVLhZfEzKUHpM/TxqPGw4GSgEI/8jZhkaFfwR0QJp9cfrlNwz06HSRc4zxzDEIbnCrySvzaMRoQya8Y6pjwCmMp8VskbJxaSMsjSzR6SSvO/eGOZ49vIA5e8N7M33wAWHFN00vz3mP789gTYSNKQ4ykgBUxdXLV+VXvdR2VKaS71GAkzzSkxRbklhSsZElzG0Lvsj3RhDHCYbARMZEMYAUPNw4QvXbNS/zibQJMynxe66BLRrrW6maqI9nJKVVZPnqDKq+rqszGGtl7TxtEussMOb4wLvKfjMAa3zZukI+tELqhWJNZs9sTS9ODE2/TCXOoJHokszUnhZflToT/BT3kv6SORLQ0KQQ39G9kMUPzs5Ry0XHT0Y+RLZDzIRPhGIAe3z4uTW1OvRFtBbzkHOIsl7wTO9mbD3rUKqfqONm/ubarQlrlS/19oEtxa4OsPFrGzAxeMR7J/4bAmI+xbvpfiuAOQNpCaeNlsxEzkJNu4rIjfDOMw8m0YKTEpJoE3RTmdGwUUTQes8EDxKO69BajuIN4c22iIeGq0XvQ5sDY4NbgVH/CjvBeeL2trUWtVhz6vPD8v1xa/BxrssuFu2q6WtpX2ooLNMvJPKA9uNufjAYMOeuInJa+S+8lf4mPtL/YLx7e/YDZMK0RzKK78szCt0LsIvfCoAMyk+bTkQQMBQLkBkTZNTlDt2PPw+JSw3Ni5D4DqJOsI2qCNOEdAQdgkECiARfAhR/KjypeIx3N3aO9bn0mXSqNQKzA7MfcYbvqfCubFgptir5Lehuv3NdeP4zJHJvc+Ww32++95Q6Z7uvQdW/tv4BP8p/Y0C2RSUEmUhlyz0JdwvaC/LKZQvsTQmKx448D82PJlFh0KiNmU2JDcFKd4yezQUKmUx6CqLG90XHRfQCMULjAVG+4r+J/WR78jlJuHg4MPbM9Pq3ITc88ol02vWv8FhusHFa7lBunnO/Ms9053f2MwezcPayMwC2bTt1+eh90/9dfRP/EAAJwKmBEUUrRg+Gr0kcib5II0kXSw/KZUthDfLNcg2+jr8Nzk1XTElLkArUCupJbcoSCsVJbUceRtVENoM5gld/SsL5ABc+yz+E+um5jTy5dOL35rxHNBQ5f7gXdL03CPO3dFdy4XFjc69xe7Uqtk33Mve59fy02bdVNWr3m/5SumT+QEEbvLu9jcIkAHUBQcYexeeDn8cGB/xGEgnvCtyJqoqmi7kJgcuJTLYMkswMC9MK0shMh69Iw8kPx3LI7EXKBKyFnb+Ow/sBWj2OQP4Abrp+O3f87blXvehzv3zAfSwyE/wDOLG0ezcr9JC2YnPJtAM5lfOLuGS5V7ZZOK82bXjmetQ4jLyHPqi6jD6Rv4/780CfAipBvcH0BGTE9AIiRiQGg8UpCOTJJkYRy1vJHkchi74JrkfsyVpKG8YfCPXLcoNZyBkH80KyhkyFcQRIQdeClUHdfQn+AAGNu8q86IJEedz+Gnndezq8vjLTwPK4J3b9fSa4Gzcu9ag5cPTCNB84qvnXNXT7KrxptlQ7UjigOag9R7mmPcj/Aj79gHU/sYMnAElBIwVov5aEakbewycJygeLxdJJYgWYRhbJAoaEB7sK0UgDSD9H0shbReHC1ofHxd9EIcM8B2EDcIAmRTE9aIAJP9p67cD5vLs8rkLd+Oo9Vbx5OH38LPk4O4I5kHxc+zS5XjccvH03SjV2fhi1Hzux+yv6xTyD+eH6/71eu1F8cgEqu6nBiQBqPtUBPECUwgfA8kKaQz5Bk0UYxcqESIewhr+FZMcuxfIGpAakha8Id8YCg6jH5cbgghCG+AWAf0ZENUGzwZZBsAA7Rft91cI8gFT67gAofA49ob1dO6T/FDu8+JT+FP1kdsr5xsEPNXM4WcCadPM+kbmf/CK6vzVtQ9xzmjuZwfO4aXwIgqJ8Ln4nBEa6kkUp/g8/x8UdfiSFiIR9BGGDsETLRNRAkcMyh5KBYYNhCezDnoO0iU+CfkL8RdjAtkc5Qo0DYYVORy8ASkMHxCj+SL+CgZCBSTv7g1S/8r5OAak8V/9b/3g5Un8AvJM7c/4n/yE9dX8leTFAsnrJtmUBSDa//xS+0voBgVc97filQcw4TTq//sL7Ar/Gv5lA0UHCPqzA1UDNO+kDE396gw8AVkTKA2a/nshrgAgBdgSTwsS/+MHQRws+wgN8zAX7PgZSxvP798U+xPK/+D+2yMpAr8KjwMFCzYE3uWVGMjt1fQyEn7tuB5T5471ciInzmr/mQYB5wIBQ/zQ+i/98/tBCIHXMA2x8M/iawyJ9E34kPHzDzvkdgFr7wX4jAX36ykChgDm7sAArwfW7swJBfg8ALL+C/j3D6L1bxSX+QgGaRwa3ZQvE+v5/NQmuuZTDDEckQPH9/ohMua3EBAVi986Lyr6O/1iGVT3QhI9664R4/w26rQdoehjEzT3JfXNFGbqsfngBKoJmed2EVz3T/HlA2TxwgQ66pwJAfSH53oN6OGt/aX8yPL/AubysAW9714BtfRy+/j/yvsxAhr71wq+/1ryHxTr997/nQPNAiAODPcqDd0Lwvu89m0cudp+HjYBOfzqGQX01B2V43UbuexA+gwi1+LhI//3LwdLDx/1uv/y/ncTG9YKJ231U/28CKL1gRzVzoMlnPKg8vwVK9+FGwHo3v9RB9Tymxis2VEb2/P/3yIfH99gAcz+PAWq9nr+8wPd8KEDaPPmDXX4YQwA/1oV6vrl9HMXnuagDBQCYu0eFsj6t/yKFXLiyhkV9N7uiRjA5b0YTPva8dkkT+jZA54OCO5pB177j/nyEP3mVxSg/mLtrh6h6woX1fPJCigGb/TvCrAJte9SCmoRp9u+Gdz21e9NA6j25BEI0L8cmAVR22Mop+QZC5TZhzYu0DnxQT6wvL4i9Pa8AML5TQYt/KfsPhJE97ECKwKl+U4iCuYkDunz8Qu8+VPowy1W3BQNKAbpGCDUcyRFAtDZPyiM8ZgEru3rOCbhrvVBLV7MsSDF3gcMrhbwz7YnS++rBsP3jwfE9mUC1/z+9g8U3d52H7n4YesCJunjUfwvGCHXhCKK3MwZPAVe3plCxddvBusYTdfkGYL+6PUIEXb+efj9/HIZ0d74CBUDkwZ+4WYZmxBJy4c6hfPT2i4r2+P8+T0M9OhrIRLZfRPfFNjQyBaUFrXJsCG+/4nbzCfV4tcK4BVf78sKMvOSBVb7RO4EFmj/dPcJGWoAVePKKkvkz/vPF3btOg2q+wv9fxhk0PoeMQt6xG1OfMToEDwqzMByKon4pduBLFjZAQcIJj7DcTYN8PvOCism7U3nTSBT+OQIigCQBYELmO2sBf8G+u3J96Up2cpfKDUH0e9FAtv90h53uho3s/fA3Bg3SOEeARAO5vEsBjjzbQOdAvLxrwsSBpTcjzB22CsHVRPj21oaEeQBBEoAOxAl3O4ehQwh6L77MCZH2sz6ShmS6nwBVP9/GNnj2hZs8uv7z/gxB+by4xfi8WP57yjI1cMPZyRcx/wmzACW6eQR/O5II0faZRfVCxPgKweuGr3Geirq/rDqRRPDDpHnVwYPHR3B0S392gMggur9+Kg3YbkqKmwOM710VHK8RxxpJM6mHHflm5Ex2BZBpHR20Z8NKBofBK9nVmnPWePBTRiwmRwSGgS851GUr905ee/25BNSVaBqQMT+tdbnIzb2R/CuDvDxVAp88uYAtRsFyxIv8QMD0ikoffhE6lsUsfyz97YSTu0qFWjqpQozFGLJ31Pbvr8Paz3Zi3Bucsew8tpALqYmVT7RkACJJV/CZDzr4y/szjcazL8Ljxsh2Gwm9Nk5IfT9QszrU7mxxyNxFMfKyUXAz0gNJieittRA3OkM4Z427c71KWHsXvbuImLYp/3FKMbDSSlqBXTcVzEX1ocYUgo5zms1gN0n+c4lDc5mMjnWQhsi/kz2FwwW/wX4bAWRE5jU5yg2+zPj/ygj9aTxWSBW3ZAZcPIF/WYR5fhI/4sPUgFx/MfzehnE7Z7iKjf6z0QJ9CL+z4Elrgm3zdg7a+Dv+HgWa/h49qgSzf2N+XgNTfRMBCXwhBrP6EoSsv+2+wsLv/PODd3vOApH73EQ7vrK9j4SMfWiEYvn6yA559D53h3K5ZUDww7x94384wsf7GoWN+S/D8kDwu40EZT3EgAd/DkP0uFhCDISHOUeEcUHbP7r+2oAkxQi3dANjRgZ14QrHu/vAhMLCfBUFn3s0hBy+qT6nRgf42YAljPftNIqFQiB1hof5fCiAND+7vrsAFYawbpiVSrI9P3WKhW9wEexwhQnqwNt6BgRyQqo3IAWKAXh2iU548r1GNQM5OHMFngBE/jX/EUUpvU28zoagPEo+r4I1v9O/un3iAh2Cbfk8RtgBArZiUU5vnoeRxT4xAc5H+v77NUX+v923EkyxtjU/+cp2cGXNV3wMdxXRnjDrgyvIOPOQCP25AscfO1v770x7MQYDp4eGMnIJnoEwcUnW2SzVAWhSquKA1fL9wrIYUaV5NXw7h6D60EDHf3lAjAFuu15FGTx+ATABSrlUBkGAbbd9C7H298LZAkp32Ux2tXiEE4OC+vKDKoArP6W/98C6P5xEIjdfSFz+fHnLCM04gAihN3PAig4epVKVbH9vZ//fymhvhUdLT+x7Dq19x3Xayj/A97QKjN585TqIiLC5FgOJv8m7YQiiN38Cd8ckderD+MUnOXhA3geGdzW/8Az7K8zOkYFUryCVDrDahFHDHDpTRgl3DYv2tlR+Y8wMMA+L8f3r+hLG1v9VOlvE6sLmNEhPvzTA/28KlXOzRTJC5nzWv9jBwMD0OokG7DtQ/EVKMnS5B4dCEDV5jfV1hEExh6W0acfRv6z/NP3/hU87dwBuwq44conrtFjIXL/gOEqKnLmBwT/AlELruaFDKIZCLsyTOjZGuoGRPO5JibaBLjlCA0fEMPe6BbQDdvSvyDqERzFFDN4/xjJyVOiuFUggAQQ8kwJQf1sClHoWSBk2covBNG5F1QKod/ZIOTt8w5N49Usm9MUFdIRzc7dOC/cTwL9CrEC3OTQHiX9btjkQHTE3hkfEI7daRd3/E39GvraGS7mdBIiBkHj+CVN6FP9WhH6+fz11Aw+CaLh0iE58QbykSTY4XH4KTU2xXwESUbVmAlDOQOEwFFTpsOg/wE5VcFxBzU9k6ljNvIBsNDOPOvTvgzNC9HrXgQREObk5xco+jz7aA7x7xUQPO73Ax8Pc/Cn/WYakeNhCLwZ8tB6J933pN0LNsnXQwe7FBDuhQNcCs7t1Q5A/vfsxhrk7fQEpfdWCsIBdu5+EfUD3+gEF2zyHwyp8Mj5ii9Au2MouhFhxa81r+eb/PAMZ+8jELnvnBrk1XYingSW1Vg3YtyhAoEYad+lE1X5DglX9J39vSOdyQomofxu6bsQPPpTD33TkkN40A73iz4ytN0x6eZCG0DYdhU5HEa3jU/FygMZ0/t67jUoAM3WKnXnSQdzBrblfy2Kx2ArePe65sMsctG/JIzuZPesIePNgTTG4FT+Jh+O1P4ituqEDYn0iwds/qn9FgWH+csPHOVYGdb/0esdC/UOU+d5AkEgatVgDfwaONh5D9YQjuW3CpkK9+yNDC77mAFEABL/lP8QBlz//P0AAj8HJ/U6/qoactgZIBr64+9hD838zAGs9ioRyvJZ+fUcxuFjAusbCuIrCAML+PFgCSL/nPrlD1LpIw9k/9ry7hET/Dbz6RO770AKZ/yq9uEPyPnMAOD15Rto3XIR1AnK6S8L8Qb57ycLLwNh78YRT/VyCVv1GwQTCP/vKA4T+b4BLP+j/c4IN/AXC2QEDfgk/t4RS+wBBxANSOZMEpQJ+euUAQwXleQBCxoOeehNCxQK2u00BooFT/loBTX1HBbg7nn8tBkX5LkKoA3S7g0ECQOkBALzOQPdD6vseASgDqDyOfj3FwvtkgCmDubyzgH3A7wAePqhA/oEO/koANoEwf24/3f9RQci+9QEC/mHAzcI+O5SDcIAsfQgDsT2Rv/sCXH1fAGTBx/98vlXBoYAOP7g/hgFkv6W+2cG0AET9GcHKgqx74AEdA1s7i8HAAk/8HcH5wfc9sr6hhJc9pXzlROS+nX0bA6O+nf8Zgjm9TUIvQNL7wQOggGA8UMPO/k6/qkHf/QSClD/9ffICQ398/tkAVsGVfm//PsLZ/j5/M8HXv6A+xICHQMK/9P4cAiMAVf0vgiwAfD57v75B0D7+vq2CMf8ivphBvb/3vlxA8EDof1Z+d8Hgv89+CAFUgC5/VwAIAFG/9v8NAVp/XD7Ogpd+NH7qwsP+BX94gXd/ZIANf1e/5kGH/w3+TIKEP5x+fUGvf0f/ZcDm/xqAcgBiPtHAmABAvt6AIgEVfwk/wcDYP7l/fgA9gCW/p7+4QJU/hD/qQJt/NwBVABI+68H//uC+pQIVvr8/60C//teBWz7hv83A//7bwK4/mwBpv6f/c0DcABJ+YkDcwMO+wABpADE/439VwJMAKz7XgQ4/yn8LQPM/0T/fv5LAlgAnfzcAPwA6P1oASoAOv9yAb39sgCEACb+5gDEAPj9UAE+AIr+TAFG/6T+HwKK/67+pv/4AeD+2P7eAbz+xv+6/7QAdv+6/1oAkP+gAE7/mv+OAJb/7AAa/7L/mADM/4b/5v8CARj/7v96AMD/NgDE//j/EgDS/6IAfv9o/94A6P/Y/kIB/P/+/1z/pP+8AQ7/9v/GAGz/ugC2/xL/lABuACL/3gBSAIj+/AAGAKQAJP8UANYBgP4i/38CbP8g/okCWv/i/nIBQv9+/wwBev+e/5QARgBm/0gAgACU/xT/6AA+APL+sAD2/lAB/P+L/X0CGACv/WQBagD2/+b+cP/oAS4A3P5m/0IBjgDd/VwABgK6/rT/yP8gAagA1f3oAPwAJv9uAJT/2P+YAG7/mADu/6b/hgCM/zgAhACY/zAA5P8AAEoAEgDA//b/XgBKAGb/EgCiAH7/3v9kAPz/8P8GAKL/KAA4AM7/KgDi//7/RgCs/7b/kAD+/3r/VgBiAMj/YP8QAAAByP8q/14AXADk/57/GAAsAO7/TgAYAKL/NgDs/+D/OgAUAAAADgBOAKL/uv+mACwAmP82AGwAxP+q/1AAFgDI/34AwP8uAHwAUP/c/+QAWAAI/y4ALAF+/0T/0gAmANb/KgBKAD4AqP8EAJAAFACs/0AAYgDO/xQASgAAACgALAAKAEwA/P/e/2wAOADa/ywAMgAoAAYACgBIABQADgAOAC4ANgAKABQAKgAcABgAEAAgACQA/P8KABYAGgAEABAAIAAeAPr/GgASAAYA+P8UAPT/AAAWAAIA/P/0//j/CgD+/woAGgAOAOz//v8EAPz/8P/8/woABgDm//j/AAD2/wIA8v/4/wYA7v/8/+z/9v/m//r//P/0//r/+P/y/wQA/v/6/+b/AAD4//j/BgACAPr/+P8EAPz/BgAAAPz/6v8QAPT/7P/6//T/+v/y//D/+v/4/wgA7P8CAOz/AgDq//7//P/0/wgA7v/8/xIA9v/y/xAA6v8EAAoACgDy/wQA9P8AAP7/BgD4//b/EgD8//T/CgAYAPr/CgAGABQAAgAWAAoAEgAEAAwAAgAOAA4AAAACAPr/DAACABIA9v8UAAQAAgAEAAwA/v8QAAwACgD+/xAACAAAABQAFAAMABQAAAAOABQAFgAOABAAEAAGAPr/FgAKABgA9v8KAAwADAAUACAA/P8QAAAAFgASAAgAEAAIABgADgAWAPb/EAAMAAoAEAAGAAwAFgAMAA4ADAD4/xQAHAD4/xwAAAAQAAwABAAGAAwADAD6/xIADAAKACIAIAAcAAgACAASAEYAUAAoAA4A5v8IABwAOgA8ABwAAADk/9b/pv/M/7r/0P/O/6T/iv+K/5D/nv+U/7L/zv/a//7/DgAeAAoALAAMABQAJAA4ADgANgA0ADIATABGADYAQgA6ADoAHgAeABwACgD8/woA5v8EAPL/8P/s/+T/2P+6/77/xP+2/8L/uP/I/7r/uv/O/8T/zP/U/97/8v/g//r/5P/w/wQADgASAAwABAASABQAHgAkABgAFAAMAAAACgACAAQA9v/u//j/9P/0/wIA+P8IAPL//v/6/xQA/v8AAAwAFAASAAAAFAAIAA4ABgAQAAgAAAAOAAYA/P8GAAoACAD+/woACgD2/wYA+v8SAPz//P8MAPb/AgACAOz//P/q//D/7P/w//z/8P/m//j/7v/8/+j/5P/+//j/6v/y/+b/5P/w//j/7v/q/97/6v/e/+b/3P/0/+T/8P/w/9z/9P/W/+D/3P/k/+L/7v/i/9r/5v/u/+L/5v/o/+7//v/m/+z/9v/k/+7/+v/0//L/8P/y/+7/6v8IAPL/AgDk/wwA7P/m/+j/2v/8/+r/4v/6//b/9P/u/+7//v/s/+z/8v/2/+T/9v/2//L/8P8EAN7/8P/u/+z/6P8CAPT/3v8CAAoA5v/g//r/5P/4/w4A9P/q/9j/7P8KABAAEgD+//L/xv/y/xwA9P8CAAYA9v/e//b/EgAqACIAEAD2/wgANgD8/yQAHgAGABAAJADi/yoAJAAEAN7/RgBAAMz/5P+wABwAlv+UAIgA5P8MALT/eABGAOr/4P8QANwADABm/yAAdACw/3AA1v++/2wA4v9eAJgAfgCO/37/pADW/y4AtAA+AD4AbACoAEj/yP8wAeL/tP9YAZQAmv98AGoAjAAEAFL/EAHGAXr/IABJAi4ARv9mAA4AlACy//oAdAFZ/bgBhP+OAH4BjPuKAcYARv+K/+j9HQKkANv8/v2e/zwAFP+8/038xf3mAI0GqAx2BHQEHQTQ+mn9IQOo/tr+BQSJAvL9yP5u/mb/QQNo/4X8zAScAWP8wv6d/E8Gxv6C+34FivrQ+hcDRgEk/iv8jAVw+oT7rgil/CYAwvuiARsD8fNi/hIN1Q9DF0UPPQMWAl76kPtd/XgFog55A3v1egA4/5fw6fuzCoj2JP4HBFLuwQdi/iP9xAxD7Fj/owMa9n7/GvODAp0UDu6J6AAaJPtP/YsGOvtI++j6QwOPBuTxqPIpMlXo2dq1NFjyOe9JC0DtoifX5svwFioS4YT6ESmq5izqFyle6iPnCSGBEFrEGBETR2G+cd/BSan4rsPAJv0TQOK8Bbf8dQu2+5L+1vq+9YAnD+Bo5rwvmOJy+xEIbe+mJrfe+eYIQAftm9ORHEMXwuao6dAlzgRM3Qz/0DOz1/TgEjhf6/rqdRAJBwfomwPXG5TtHuF+Jmz+TN49EEAFv/0q9s8C8w556Jj+EyT22cz7Pylly3UUmSDwvzkkRg6/54oF+ft4CgnwNgmaDdPjow/cAbD1mRPv5tYEYw8M+uH7I/wPBw0Exu2PFJD25/fGJszQCQMMKyjmAO6PGBsE0PL69skT0fyU+l4Kpu6DDyUDuOkAAsYZ2fwO5sINVwsU83UGwPVzC4QJaPH592sPbgCB8PsLLgUXBFvw8PbsDVYFCfzc+RL/sA0L7TYEGwhI/oIIefAA/+cH6Prh+54IuvtJBzYA6vI7/XoJSgkY9ob24BKr+P34MgoB9HgI4gXE9ckLCfxy6uIZ5vnc8RMU7vUp/FIFcfhH/QEEtgns9nL/LgGj8IsL0/z9+w4R5vKn9JkU6fTb8IkbF/xR5+MT9wbN6xMHLRPD85f4CRlA85vwaRgE/9XzTQYiBiMHUfng+gQRpgDC+wcDkve2DOAF9PKoBNgF+gWuAPX77gEl/dn85gStAr4Bzv/K+dQBmAXq/xwAVwNS/3n1iQM8BmP4kweiAHz3PQMs/gz73QOnA0f0qP6GBF7xqvvACYv9zvr8/WP00ACO/7fw8AQ0AD7zhvud/ST6KfRK+8MDZPvx8473CPeF+Lj7dfwcAHb7nfcW+q/5Av7J/Yr+dAHJ/dv97P2JA+AIOAkBB1ECHAXsCRoJWQwDD3sMhg1KDXINDA1gDoMTnhFxD8MQjg63Dl4SnxRrE/YQ3hCiDn8KuAzPD8UO7g05DJkKeAhXBswFKQiTBy8CNP86+0L3CPbK8pXva+9x60fne+TL4xnkyuFE3STac9uq1XTRy9InzybNJM3qy1nLMsx4zBzQXdqE3d/iUu7B8B723fzQ/g4GNA2YEioaISBPJHwqozGgMg40TzmYNko0LzWcL3gv7zGULt0t2CvfJ0QjtB4JGCAS1BAnC6kG9QOE/1AAJP/z/Kz61fcS9jry1PFK8oP0bfg1+a77S/2M/54FLgk1DHkPdBLlFE8YqB1gHv0gtSNPIHEgsh4eG1kbbBn6FQISUw+vCgAGWQPA+kf00u5j5LLci9Yh0kXPWM0Zy0XFScJvvn64bbUIs9Wwkq8IrzGsQqsir26vebF0uxvKBOL89ZIB9wrrD/wUZxsGHyImETI7PZVClkRCSIhNI1PKUGBIDDxXMB8oVSDtG1cbihpaGZ4SJgl4AdP7qvYl8Mrp8+Nm4ejk1+h27X31O/nW+vT5c/il90r+WwdsDaMT2ReOGjMgIyUmJoon8CVeIxAiUSGWIjAntCqUKvYmQSCoGQYWURMTE2UQAA5vDD8IjAU4BLwBJv5H/Aj2ye9560foYeR+4WrcbNWN0p3PRcoSyHXGtL81vSm53LI6sKSvZ6ymq7SrwqdVpBWlF6Aiq83FYOGg/mEPrxSSEQUUshrUIowu+T0iRGFGNUr1SsZRVVunV7pH2DbPIxMUMhZQFi4V+xg2ErwFT/wc96PsOO286Uze3Nhk2YzdQOp0+20CJAVaBFj+0Pq2AAMLChZKI0AnAicKKgMt0DLMM6wywSimIXYdIRyBIWomrSg0IpYZfQyXA10CqQLrAyMDVAB2/qoBjwbtChEMnwcqAUr68Pa398b+DgX5B1kGaf1h9WDuAOYU3cHTYMwLxkDEosTmw5bDgsDUttqrHqIlmS2Z/Zxunt+fbqL8nm2ghrMU1dz1tBbuIaAdVB7PIKgn8jMdSvpU2l2KXOdOt091Vj9W+UrBOEcgEg3mCV0DPgS7B/wEe/gL7QHgJNkS3b7dht2q2FnawNzY6Ub66gjzFJUY/hVlFGEUNR1PKf00sTrJOcc1EzK2MoIyri5MJ/EbTRNHEOIN4BF6EqUQrQd7/aLyTe9i8/X3hPq7/BH8lP4/AwMHFwu5C0AO/A0ADtsO7BC5E10UMBKmDPYF+AGy+231jeu93t/S+cl+w5bAiL+4u7S2x7DIpl2hkJ3TmzOdoJ6QnRGcEKJToVWsxq/axOz1YBVINNs+sjtLObxDC0qOQyxZ716tXgtf5U39RtVN9kjdLKYWrPoW6jDp+uia5ano/fBV43fePNjj0kPc+uDK5lvkb+92/qQNmCOCLok1XzXOM/8skSzeMkM6cD9HPj02ASmmJjwfIBYNDzwA9vYm8qfzwfM3+Q7+z/gq9oXv5ese72v57P+DBhcMGRCrF6ccLCLyIfkjEiNmHv8bAxhlGCcXQRfSEEQJLwNT+bzxYOmk4f/XxtBZxhu947jptEK0RbKqrtupYaX/o1SiLKeRrK+x9LastqK4K7nCvBa/icmD+dgl/UbHX6tS80VxPUI7BDTKPFZQrUqzTdo/XyzrMSgwGBuLA83sXtQx0p7Zct0u6U72BfiD7J/sKeSK6fb5v/wuBo0HXxfjJLE020X3QTFChTbzKaYh/h7rJ0IrMC5FJBkUVwi4AE344vHN7PPj6ece6lrxR/l0AJYFuP6c/rH5vfwwCqETth4mI0Ymiic+Jw0oXiO3H74d8BqXGJwZuhXlE2wNEgXl/AzziPGD64bq3ein4gzhd9vn067Mt8K+u8G1f7b8tx26Vb49vtK6iLtst6O1b7kBui6/k8ECxQTBZ8LsxFnrChorPnJZKU+LQf8tsS1WKhMxXklrRqZEuzVqI+4hAyXdGIQALfGh2qfWnNzI5P3vSP8xBG30qvH16zzyEQR8DdQS/hRqHv0jKi9QOLU5YjjfLLAhuxOZFOUXux/KIn8XKwtD+ajyj+tD63PrFOq57wzzB/yYAWgKgg1DDGoJAAUGCWcPPR0fJbIqUy1/KAcleB2LF3YRGA5IDn8M3w79D5IOIQsfBHH4/e/A6ijp3u3C8Wv1zPXE8sHsuuF317TLdcIWwGG+08Hcx9LMbcsHyl/CW7l9tbqum7A3soq3jb21wVXHB8LUwyrl0hGOO0Zdj1NDQRs25yzaMhA3l0l4TdhE6DeQGmwZHR3ZEwIF5e+X2xHSxNWM3FjqIfzOBF/49/Ds7kTykQfeEUgW8xtFIBQqxC4jOTo8WTZRMIIdLBFCDhYS7ximGQcTEQSg9hvwZunX6DXrXulE7Qn03/smBtMPlhVMEnEQygxEDUAWkB42JxMpACsZJU4frRsNFE0Q2QobB3MHxQs2DmkLNAa3/MH0k+8W7wnxA/Uc+335r/mq9rTxiO385UPcENHFyfDE4sR1ydHONM28y3LD1bn4tu203LYZuji7fryEu6++u8LswHXBbNE7A/ktKlqLZxZRYUULLpkski6IN8VJA0N5PQsoERg6GUkQcACI7Sra68ohzwLVY+gX/LsH0QNk8+X0AfUuAfkTZBbTIKMpxC4rNmI3zDzaNrctnRxjC2EGlgiUDmISmQ+TAzv5ues15GTix+NO6lnvHvqPA/YN9BXtFzkYPBXvEzMT5hb0Hf4lDCyvLEAm3B2jE0EM2wdxAmQBHAGOAXoEDwSUBIgBY/wz+MjxG/Gn80T6YAF3BnwEPv8o9wLuN+jk4BLaW9MGzaTLs8oyzf7Mdsh9wqG6j7VxtrC2ALv2vpK8lsARugLAf741wprAZOVbIJpE5HVTY6BMHzmCJtIqIy7vRTZI9kSHNIsbYBaMEVkI8ezn33nJV8Vn00rd8/fRAogJyvkM8hr2E/kFC6UY+iGXLeA2pDdyOMw6GDfgL5AiMRRdB9IF8AiNCqwOOwdW+gvrI+DA3Nfi3uoY8sb5RgAQCSsQtBaoGSEYhBYLFPwVKR0EJ30t9y33KLEcKRMDC8MHBAVhAtcCVgBNAlQE5ARZA9b/y/gi8wDyVfSt/d8GTwyfCq4E3fs39AnxN+xU6TTi3NlP0jXL1svuyEvKYsi/wpO+qreUtka3ebpYvxjAO8EtvjG9Db1cvOa/3cVT/A0tQF5mfoZgVUo+K0wfLSUVMVhEIUZEQ/AuJBqlEEIJLPqI5lXX2sO7yvXXWumMAMAIhAnI+nr2tvX2+cUOKBr3J7wypjewN601nTU9LeImlhn+Dc4EeAWwCFMLwA3UAUf0buWG3Ffft+de8sL5FgDhBnsMlhI1F6EYMBmSGQMZbBo+H6Ul6SmgKo4iSBn6Db0HtgTgAQkDeQJtA3cD2QI+AIP9evvr9zj2PPYd+Fr+WATmCGsHlQPj+wv0U+/y6vnndOYQ4j3cANVXzljIfcW5xtnBoMBwvOq2mrd4uNK7qb40wIvCP8HixwLF1MhtxSvjVx06RM13TWs/Tqc1gRvdH5EsNEM2TNtJfzaRG+4MOAaE/sDtWOWM0CDMHdgO4d348gRECaP9ffWf9Oz1Rwj4Gh8opjJaNxExri5wL5cpfSiqHuMTxgg8BEEHqQdODr8GsvZ26XrdmN3Z6MHzHfzJAjgGogjWDHIRVhbOGd4dsRyiHRMhcySpKbcodiJrGGoO4wccBkwFMAUgBgUEEQMGAVH9ovsR+L/39vUs9h/51fy/A6UGtgVmAd34JvIl7BTqWuZ/5Ined9YY0AfKrMdzxSPHQsNUwLy8ubnuuki8f764v4e9Br/Sv9PFacVhy47NEfXNLLRR63e/X5tCXyk2GnUkgzQPSwlP8kcEM+cXrghkAU34yOoC5t/Wp9bw4Kvo2vnEAeMD0/cj9P/zC/hBC8IeRCp6MiA0liuRKAMp3SStJEchcRhVD/cLZAoeChsLnABA81foTeOg5XPwq/gs/mUCmwPCBA0IQQwkEhYW+BrYHZAdoCMZJZYnpyQrHGMU8QtdC70KiwpkCl8IHgUbAib/qvrS+eL2PveY9lL3aPuc/ooEBwQ+Ab76BvPM7n3shewH6yjpzOHA2J7RScrMyOfGmseKx6/FYMOSv0S/P71Wv0zA075Iw1HCIsjvyePJccqy2PwNrDNWYmZpoEgvNX4ZRRyFKb1B61EmUItF9CagESMHXP+G9XDyGuZ922bir+Nf8Hv8mAHy+X7yYfA67Ub+LxO3IBEtITECKjEkayX0IkskESjvIP8YQRNQDqIMhRDcCWD+JPJt54XkC+yk9hX91QP3A3wAzADLA+UHCBFFGAgbrRszHewd6CE7JHkheRs+FccOWA22DHkMOA1FC6oIQwM8/q/40Pb69sr21/fI+Z76Of2d/dn89fiC9qjyw+9Q7X3rweeP5BPfW9eF0nbN58rWyA7Iz8XFxWHC4sBQv76/D8EdwsDDksTlwv7Hicb9yRPLgey1H6NGfG3jWzI7xiHNE0ccgTUdTlFXBFTRPfMf6QpPAoz7b/T/9FHnjePF6Grq2fPH/QL7M/Fa7ZjpDu87Ay4aVCNWLu4qPSHxHNgeGyBRJLgqvyM5HAEYfxC1D3sPJQjz/Ejy/+tt7JP0jvsuAIz/PABh/Mz+YwKDB+EPnRQeGvwahB0VITEggyAhHcoWERTCErgRFhHVD9oNZgqzB3sDlPvf+E31hvUm9jH4gvpH/Cr+ofz79/bylO7Q6mPrqes165/oHuKg2QXSusw7yj/KF8ssyQbI3MPfwUi/T8KQwwDFjcXexL/CU8cfx3rI482X29YQezRDXOFeYT33J+sSKRnFLbxHiFnrV1ZJqSxBE+kGygC2+dD6CPbr7LXw4ewR8Xb2w/g/8TfrPOne6rX4kA7hG1YjSicsHosX6BlVG+0gECq5KZskAx0bGBQR4BHyDf4E8fvQ9SjyIPdV/XoA/gF3/Sj61ffX+/gBDwwaEq4VzBbzFLsYuBodHI0cixgrF8kUDhaLFOkSchIeDj4J6wY+ABn8QPs5+M/4bvfh+AH4r/hJ+db2I/QA89juju1f7InoBObm4NTZYtQm0BzMeM0Fz8LML8uxxuPCjsPwxCDFm8bEx6PFS8cGyFvKQMkEzYzL/uinGCw/YF6uUI4y3BbBEKkbNjPoT/BZKFXGQ1InZg5gBX4A2fyCAZz6e/Q68hHxWPKa9dn0Q+zp5w7pLu+u/hoRrRh9H4sb6hW4EXkUnBrJI70pYSkjJXkcjxj3E1gR5QtABqr+UPoK+tf8OP8FBLsC5f16+oD3ZfgiAMIIRw9IFXgWGBVHFN0USRRgFpIWERiFGJwZ6xebFBIRDg3YCaUGQQPcAEL/Fv61/Sj7Y/kz+Kb2c/X69eTxqPFP7xntiul9563iKt0m2f/S8c47zmvPgsz9zgnKJcYwxZfCJMQMxS3GV8fbxoPLMcuFzzrM/svlzc7uTx0AQUtfRUZuKiwRlQvtHHE6wlSiXKdXcj+zIIMLqATUAJsGOQvUAeX8nfT57N7uCfFs8dbqjevz5xnwZf27CjISwhZ1FL4Nhw9qESQaEyWcKzwqOSWFHEkXfhbAFSwSdg0yBYYB0P7c/+T/ogFsAaz+0/zq+RD6SP7OBYgJ7w97D+kPrRAGEncTahWKFocXzxcJGIYWyBJoEjAOugz7Cl8GrwNyAC/9F/xS+tD6VfmZ+Mj1RPPh7yrvC+1T7MjqBefl42jcFdiT0qLQNNDT0tTR7NBTyofFD8Kpws/Fwcm1zvvNOs30yL/F28Z0yBfOmNFH7H4W0TWFUi9CPSVtDw8LaxvWNjdTKF3bV8RELiYcDoAJIAaVC4kT7g1IBTf9fPFS7djuEfFV6/Hrses07yL6LwdkCSoO4QtoBfgItAlCFWofMCpiKnUlmRtyFaET8ha0FmYV+hEXCwAK3wfDAxcDpAB++5v8vfyn/TUDHwfxBqYIVQafB2kH5w6rEM8TfBajFIYV5xR0FeQRcxNBEIcP4A1OCh8H+QOfAtL/bv7j/Jb6W/no9sf0ePHr79HsUesy6bjlO+Mz3HHX5dHw0F7QWtE20TLNmcmTxX7D78IPx5HJlssNz1HLcsy9yvrLhsy8zKXPtdpnB8cox0qeSyYreRP1Ar0QJSn5SVxdEl5VT7kxDRTJBnMHSwztGPIaRxDGBbT25O0V7a3wgu4B7JXrA+xp9GL/awY2BcsHVP+4/0gF7QsgGjEl1ymaI74dMxPYEisZdRuQHUIZ1BJgDW8MpQofCDEIGAKu/+79lP+uAY0GkAjwBKkDOABCAaIFYA0fEPkTnRN1EKUPTA7zDkkQaxPKEngSiw94CgMHCwOgAar/rgCg/x7+Xf1j+Jj2xPF47i/rIulX58Ll7eM83uDZ+9KBz/jL6ssSzDbJUctMyLTHushTxivGescXxizIx8pby/XR08220ZXOvdtrB1sl6EgWRWQnTxDdAwET4SzDTpdfiV7wTK0tbxD1Bq8LExSbJG4i7Ba3Blf0bezw6pTyTPLM8fLxu++h85z6xfyb/e7/avuU/iEDyQuzF6YhfSVKHhkYkBE8EaAaEB/rIHIeORggEi4OGA2GCEMLCAlJBw4FxAFyAIgAEQS3Ah0EqQOfAioFdwfJCg0MzQ7IDaYN4Q44DW8QhRAZE94Q1w+tC6II2QbkBMAEdwN8BFgBpv8Q+8b2EfTN8Irub+z86SnnUuKi3NTV8dLUz47QGc7Sy5rIj8WpxWTEE8eLxanJcMflyuDIz8kgzfLM+dEG0NjUIdaD+EkXATXkRFoqmBa6BN4MzCILQgNbX19dVkU5mxsMCQINiRcZJXAuEiKrFBD+pfAC6kTusvW99DH4y/NB9cXzMPZ98yf19fc9+OIAvATdD4cYSRwiGg0TPw8HD+kYYyC1JMckMB9GGcoSbBEGDfYQ4BKYEesPoglPBjsCtATxAtUCDwNvAosD8gQ2BmQFRwdCBgUHxQfkCJcLyQ5HEPcPOA0ICQcH2wZPBxYJEAlxB2gE8AD7/CH5Qfgl9Sv0ZvGe7hDpM+NB3PDVk9Lz0SzRnc5czTfHS8VewMq/D75+wFXFw8Y0yZTHJcbbxh/Kxswg0OjQZde78OcT0zCsP2MtKhZhB7oMTCNgQCpaNGEyWvY/4SQvEEYRERz8KTY0/yyRG84EuPJv60juoPXH+PH3Ovf88n/wEu7Z6+/rG/G39P76xQLRB2gSwhKNE9YNHwz8EFcYjiOyJvAmGSFNHbkXfxfoFkoWyRg7F24VlBGTDFIJIgUWBTYBEAFXAr0CFgWTA48CKP5u/yr/vAH6BZQIrwpyCrwJ9wZNBvMG+wZ6CXAJrQq2CP0HDgW0Aa4A0fwB/DP4nvaa8tvvBuqf48LdcthL1tHTptA+zLLIPMUpwq/Cbr9iw+HB+sNXwpS/+MN7wTDJ6cqezNjMjNDS1C/8ABe7MX44wBmqDKQEGRftMcdOv16kYORP8DrMHfYVVSBmK5Q8aj9ELkAZKwIE8o7xpvaAAUL/3P8F+DTuzeir5Ojhh+i87p/za/kA+5IAUQNbB2wFxQLDB7EOmhpHJMoiASHbHAIbPxxsHhoeSyBZINYeBR3PF6MU0w5eDrcKIgnwCLcHawYUBrkCsv42/iD7+/wi/u4B1QOOBLEDbADZ/dz+lv8hA70GAQgqCUIGHwS6/3b/zP5yAFD/cf0t+UjzLu6Y5ebh2txy3MnaCdgL0o7LHcavwXHBQcGrwTzACMC6vMu+u76Lwn/Cg8WnwljEcsdX13D+phbDMfMkDA2X/Xj/JxnzOXhYZ2OUYKdKKzHsGhsdMy0ZQahR0UlnNaQZ6AHL+Br7jQeaDZQOogUB+XfrGOKT3u/esed17B7yN/EN8RbzTfSx95r1AfhR/X8H+RQ4GfEcyRh8FrwV7xfyHfUj6yxdLTwrgCLVG+wVWxeIGqYadRwoFhoSJgosBZ4BUv/+AUcCNQKk/+/8IfkV+bX4O/mK+jr7N/2x/V7+mv58/sz+Ov/K/wQBsgEIAvz+YfwD+Pf0wvHO7ivrB+gI5i7hLt0t1k7Rz81hyrrI0cVsw4HCnsC1vdS7N7m3uge+TsC0wI3BQ8LN02n0sAgjHbQRvP5k+gD/2RgXNU1OEVsXVzBFFTGBH68opzqGTW1bKFD4Ow8hzg36CAINBRmwHREZUg5Z/dXsq+M74PXjm+wi73ruueiX5AfkKubl5ufoS+sH9FL+zAVSCZYILwhwCWwOkhLTG04iGiu+LkMsxCcVIJIe9x8TJTUoHyi9JYoetBZLDwQKsQfFCh0LLgrFBvb+APrX9LX0Y/UD+C/52/jX9/r1yPXz9NL2bveq+jn84fzb/DL6P/mG92z2ffNJ8SzukO3J7Ijp8OUh307ZBNW/0u7PTtA7zmzMYslQw7q/WrsNvje+EcMIwIG+Ab6Ex//nLPfbDlEDXvIO72fvygzfIxI/2UoRSkI8oirhHy4nMz3mT4Nf8lWuRC8t+BlOGTMcySlYL/4pMh7dCmD6tu4i7QTvRvfI9WDzLOoK4Q7hU9xE4WXfmOJ06ZjuLPZC90b25vbF9wf9igRKDR0YoR9kIikhZB86HuYiSyUMK7ksiyzFLEgneiPyHlUbChqXGJQW1RNFD68KfAWO/wn9JvrJ+KX5+PVg9oLy0PEX8IHvefAx8Sf0C/Tz9DDz4vLE8bryvPIv8d3vdew+6mbqXegx6M7kMeDh23bYVtTf04PSstAI0G/L0MfAw6DATsDwv7m+DMFLxpDgGO/4ADb7bubF4trhZ/wOFm4v/Dp2PDovCyExFyEcgzTjSehc5Vc1R4Ew7h6AHWEkKzIuPH06li4jHFMIrPt1+cb7YAQWBTgA0PaG6dbkg99T4GXgRuHx5kfrGu5g7b7p6eey6njuYPdg/vcGzQ8YEs4SyhHzD84WMR1kJmssoywvLLQnaSRmIiIjJyS4J0sloiJeGqUTAw90CrMKFwjzBtcDkv6P+Qn1/PE48k7yzvKS8hnxa++m7THs++wF7fTuMO8k7v/rcegY5srlnuVb59/mH+Pe4E3aCtmj1j3XBdeR1ivS1NBgzGDJ18rxxf3KMsUhxwPLs9/68ZQA2fxv6GvjZ+D7++cPzygoNBUyPisFGGoStBUZLQRFgFTOUNRAqCs9HPoe4SPDNAc9Cju3MWsc8AySAKYAWgVXDLcLLAbW+v7uoOmL5Kbm8uT15lTpH+tC7XTqUeci5qXnK+zQ8u34IADHB5gJbQsYCRcLahHhGGEh+STyJr4mZicwI3ckpCKRJeUpMCdsJgYeVBngFaARCBFIDiEMYAmEBFj+iPpi9jz2QvY/9E/0f+/+7rPrnOpD6/rqL+wz6x7pRuUp4/bg0eK540vkSuIi3i/bLthh14vXEdhd1/PWq9MA0fnNfsxwzE/LnsyuyL/KodKZ6Fr2dP+r92jiW+OQ5SIAMxeZKHIy2yhJHbsQWg1dHK0030bYULVFCTXjI7oaiCPyK5s6XkBsNwMtjRiwDLcGQArFD+kSZw+cBcr7+fA57/rpj+yK6hvre+xV6yTtu+ed5/zlU+c762fwSvaZ/KECyQInBLEC5wcuDrIVJx0+Hm0h0yAAIskglCI5JK4naSkCJ+EkhB54HeIZcRg2FrQSgRDNC4sHUwKs/4P8G/wB+Zz2aPP974fvXex57A/rXuqO6Q3nZuX24WvgReB54C7hud8q3gbandb21YTV0dfA2AXYetWs0WHPEc4ZzgnPeNBK0FfPlMx82C7qvPbsASj2ZOnc5dTtdACPFEYmiS1nKHQd6BGyDOEcbTAJQypJg0EeMxoi3B75IGgrMjdAPF82MiqOGjANrwpPDGARNROBD1kHYf0w9sDx4O507uztJ+x67UvvkezP7EDpJejL5+zpPe/F9CP9twKOBNkCVATnA0AKrQ89F5QeuiHPJCUh0h0OHlAfkyQPKJsojicyI8AehhmrFKgSnhIsEpgR0wvXBlYAJ/w5+ST3aPZ/9Uf0IvIi7jDpbef65Pbkq+O24U3fwd6V3lDerdum2G7VKdOZ0w7VpNVT137Vu9KFzxDMgM1LzjXSm9IK0a3O5crR1kfre/i7A/z5Qete5hXtfv9BE4EokC8oK6gd7w+kDMIaNzKgRBNK3UGsMtIhAR2qIkwrFTkpPr42GiqYGnAOMQyrEA8TPhUZD9EHiP7/+G31hPGv8FDtpez96+7tMO4s7X3rn+iw5czmH+yV8639cQOoBHUC9v70AJAFHA5DGPEfAiO4IjAegBrHG/oeJCafKdIqgCfJI1sdrxjeFT0U3RQOFUQStgydBxQBk/3S+cv39vbk9QH1PPJo7QjpaOWL43jhwuDn3qHfAd8K3jbatdbz0Z7QY9Lx0jHXi9fb1nzRVc+hysLM5s9J08bUgtVc0bnOEc6a2RDvP/iJAln4++s06rzy6P8wFbkoMCurKCsdBQ9qESsg6DIRQTVGJT34LzEk3R8NJTktLznnOUg0GCdbHB4R7hFLFDETxRRaDlMHygGx/EX4QfWs8p7uOu3W7ZvvsfAH8GnvLOmj6Gvo5O1x9XT/XwOVAn4BHP7EAbkG7Q/1FxIeayC+HkAbyxjxGxsgASX/KL4mYyT/IN0b2Rc4FocUsRRZFKUPRwusBb4Brf22+r/3UvZ59Bbz5+9w6t3mmeNN4CTemN1o3KLdrNzs2MTUKtFjzo7QStF21NzU+NSK0e3Nssyay1vO3dHd0xjVptVq0QbRstDM5jnwBvpcBEDzxe9G9uv0mQaJHM4i5yxgJl0bEhbLF6ElZjMkPFRACzo6L+knHCfyJSgv2TRwMo4v7CaTG5sXGBbgEaMUPA4TDI0H+wKBAlv8S/mq9VzueO4J8LPw8Pb49Yzyoe+u6VfrkfCN+OYBNAVXBgcDmwKzAtkHFhFuFmUcNh50GTQZihnyGc0fFCIIIpUgVB4yGqAWDBe7FA8T+BETDKYIRgW5AmABw/xo+gT2B/H975XsQOoC6Qzl5uD23LXaqNnE2Qbay9e21GPSwc4tztrPGtDH0k/TtNHG0NnN+c3ZzhTQ7dI41QjU0dMX07fa/O427wD60fzP6Kz1gfnu+jsUBxzUIagjjBqRFyQWDiI2L5s0Ozr+NkAwiynhKNQqzSx9NOAzUC5aK+oiHB4EH7Ia0hlsFvEP5g2bCpwJqQdlAkb+b/hh9Mv0tPXb+CT6pfmW9Z7uGu5H8Gn0vf0bAuMC3gTYAfYAXgE6BTQNthFRGD8XCBbqFn8UKRc7F8MYghp6GiAbVRfPFN8TKQ8yDXwKJQdpBuoESgRE/+r6avex8KTuk+uM6QDp1+Zp5IHgktzI2JXWztXG1MjU9tXb0v/RXNCUzUzNA851zzHPkdI90kbRANR60WfSA9JN0kzV/NxK7sXw9Pmu/m3vlvaM9z73XA0jGHYiXifEIZ8b8BbFHC8l8C++NmE6cDenLXksrCe4J10wtC+tMAkuBCcZJKsgbB0+G34WXBIDECoN6AzuDMwJXwbmAG35PPZ29j/5Hv7k/+7+3fhL9SP1fPJI+igAIwL/B1EHhARfA9wFxAjzClwS3hFgEvoWthIZFEcULhJ3E5IShhEjECkQzQ4IDU4KZAVgAdr+YfyC+sb5Qvef9MnwqOom5ULiod/24PPf2t0+3YPXL9bd0mDQgNB80KbQ5dEc0PXO6tDQzAzRb88a0NnTW9Lv1h/TfdaN1/DZ4exO7V30ev+f8+X4B/0z/EMI/hFkHXYfOh7qIX0bKx1lKHcpDi9GM9wygC9bLF8w+CrPLWMw0CpoK8gnKidMJ6Uk5iGAHUYW8hBtEFEPWRCCEvEPYwivAtv90vlR/TIAMwKLAib+4/sk95v4iPuL/bkDYwJjAtkDlAFSBCsIxAmxCi4KOgozCJQJfA6+DYsPzQ4aClkHtARkBVEGwwbmBcABB/3r9xH17/TA8hv0vfBL6/XnEOI+4VXgQ9/p33zd0thF1zrV39I21QzV6NQc1AnT79GB0tXTFdZs2EfXnNgn1xTawNl33w7io+cr8bvvQflC9/T6pv9YAZMGCAmNENUTJRmhG1Yf6x99IZ4jVST8JhInsivUK4wrRS0MLCon8yhJKQUkgCcGJmMkUCIbIZscDxjXGNcT4xI4EXAOvA1tC8AJiQfsBQ0DXwL+ABD+QP5i/iz+4v4eAPb+AADW/5L/kAACAK8CwQPYBDIFdAXMBS4FNAYaBiQGjAVIBeoEMQMzAs4BJABV/ZX8+/vf97n3Vve98C/wTu2G6d7pg+ce5QLmr+Q+4p3jeeAj3ATdct0k2erdc99/24zdlN1s3PXbJd/63Zve9OF24tHiyOQj6IPk2Okc8kzuKvaV/H34Vf1QAMb+AAEtCE4NWwuZFDgV9hF7GKcYBhpJG6oe0h3XH8UghyGcIlYjZyV4I4AiXSC9IFQeUyBjIMwdOhu6GYUXkxNhFKwSPhEPD5wNrQptB+QILQhIBqAFEAUQAp4BgQIBA5cCigH+BB8CQAGRAsUCgQKABf0DKwJDB2QBMP+wBCMCrADOARsCRgHF+DP8oP7S9rf35P5R9e30PfCX79H0BOka8jzz2+dx6wft2+gF5zjq0O4H43LqzfA55I3jBfQV56PbrPKp6Njc8u6g7Xnki+iX65Tuf+ME6sHvB+u+7VXvWfSf9KTxBfw5/Nv0qP/u/134iQINB3EC3AhEDX8MogxHEKkQNBGuElcU8xTWFe0XhRx9GDMXCR0iFksYqRxEFe8YqBndFEAZIxTxEscQcQ9fEIUMPg3VDicLWwzgCUIK3wt7A9YJZQYMBiQGCAZyBdEDTQyG/3EH4AWS99INRgGZ/UEPAP6QALcHs/k4/3AJzPVv/c4ET/g++8r1hQy7+LjqTQcP9UHxg/T+8YX4q/xd5MMDfgUa0FYKJvdl1rAEee/M7YLyA/VQ+5vkqPoq+rLc7ADd8HLdZASZ6Nfs8P7Q8XbxG/3A8jTpJwOi7lPsygRl+K/sGQMc/+DxkwOO+qr1BgA++/754PpmAVUHg/l0CasGC/lHDAkEEQPWCP8GTwtTCAoNKApQEVEP+ASXFxAGWQcsFkYFwwptF3cLlg4uEbwNZg0DCCUYpQMUAAkgQv6zA2Iebf0TA+kUoAUEAnoJgwZJB7j6vxe39Oz+riIu2vcjawcz4wArTO2Z/DML0v7vBmn4owpm/639PgVj+cL+vP/w+Vv5AP+L/Jz2JQNF9Tb+DPOEABT6guqAEYrpevekBfnsjQPr7+n4bQYT5H8G6/TO9vH8R+T4EFDubO5ICr3stfg6BBjuS/GqDk7l8/QbGfDZBgaiCKPjTRRN8Y7y2BDp5x8DRflJ/f7+SPZbFE3jFxPN+Mrx5RLY6RcPDP6b/NQMjfPaEkUH/Ok6JkPx+vHTKdnbOxdBD+jk2iYd+VkCsxCc+hQKVQI/C84Aw/dkIhn0AQTkIcrpUhXRFD/ofBaLCoHvySAR8XwNRxgX5BMdTQaW9pgEFhb07t7/oR8B37QhiewNDH4NSuogH8rkShFV/Jv84gHK+ykP9+NUFUT/L+cAG0HwEfXiAeL+deveFdDqXP4GHozH2iru6Rvwnhla2PAei+iG7p4ezt1/BsEPbNz/EnoJntFFGDT/ruoJ/FgVeu6c6TIusNEHCC0UHNqaFWr3CvJhC2z3vwtW7swBFhKT5DQJBwtd50IObgBC9kIFifzCCZXvaRD8/zn42gVxA1D/nvu3BuUHqvZu/jIW/OkJEFIE+PH2Ean8zAFtAqD+ngkH+L4Isf08CdAEMPPHG4v5D/HSHvPwuP5bE5Pr3CL83EkU+g073OAmI+iHCqkCLvtNC+z1EA5v9R4KAgBaATr6Xwtf/CPwUSkS1PAZUAWv5Bgj6unUBfb9QwP+CTbiPhnm+dHwlQvw9ZYIF/FVD57yaPsmChT2H/ieDWX9yunRFMn0UAWE6lgS/QKM4ksbgP4g6uoIwg0I4h4NG/nwAVsDf/BkHqDdchVGBd7hBBa/+Er+dfnaEPLyzv65Cjn9B/2q+0INvvJB/fcKoO6OCMYE7/u//JYOCfG6DPcG6OQQK3jVoRwH9fL9HxSj56YV8vKNAgkQ2uXaBFsdEdazHC/0/Qa++3381hm65PcCjBkm4kIO4wZY7eghXtQ8GbQZ/stTIX8TYMPNPdnb6fxhHADmFQPcEiLpOv+FJULJBCeI9cTtMQ9rBtni5h4g88byfxxp9G3smRC1A/3sDRx+1DwmXvb02PI3n9rt+/waN+vlC3ryGwvkAVX0dgmj/QTvHA7rCt7kNgoxE1XsuQMGAnMCf+/1CqQBofS8EvrlIBrM+sjtbQ/AEf3aGAqTMPms8zQ+BY7VtDZj2zEdAfUU+44OJPeE7UYbyPU4/ikDivpsHZPTaRg1DJvn6P6hGHfkfA5S+0UCeAAX+AQRPQOi4Pwumd+4+aMgLtDaL/vXdSBc+uztxBWHC6DMEDhH6PXmRTEz1yAWbvfQCDr/E/wD+CEZ2NyQGWv4JQM899D/FhsS2VkQWxcl2xMLThb31kkhSuLkJT/oR+/HI8XrDfisCbEGP/DBBsIExQbP4o0QYQxw4VQVSfE1C5MLb9uTLRLyte+JAn0hl9q3+GE1ctTGDF8H8/jkAWb6OQe595ECWfgWCcHzkACPBzX5FQ9H31Aq8d6iCVASz9rwHn38zuBoL+bdzgBtMV7HoisY7mH5hhEe8035wxAK8h0EhQNt76UQmwdp434jM/Gy6Rclfd8OEk34/gVv+KIIH/nC9TUUvfw87qQVtfjc7kQR5wOr5ywikO4c88wrIcPnLCn12euRE9MG+dsoL5TmfOlBS62l/jq18GTpCyjk2TAObw+Q8QP9jw+/8F4SeeeDHLPvNPstDCT6dgBt82McBOv7Ayf8LA3J2zYzV8dhJWYAMdZaSLW5lSkx+F7/uPnaCObyjhU56EYNKAoh4DIw49EgFkoAWPbZ/A4XXOK9DycM+uHWGZT2nQKn+UYWmNzxIHrucv+XE3vnCg6QBeTxw/0JIa7RMiJn/Kb2XAX8+acCbgB8/gL7MAo9+c8CH/waBvj9V/yQCQz2pAF9Bub1oghM+mIJ7v0K9p4JwQdc5accTe/7AvYEIfHVHGbeFh6t/cLuRhbO+cDpVyGX7wfxAxmH8Gv8fwNADZ/sfASiCd72AgC6+3kMX/lu96EPzv9E7gwOrgQu7lUUsehxFMf4d+uGI6frWQgA+x0QE+jzC2gA7OkeH6XimAxv/MANxuSjFBMMd8+BNgTrPOLkKo/0ft3SNzTm8+d2OzfPLwsWEbffYhIBAzbyD/wqHrDggAVqI6XS8A2QHpDRlRSpGCLMXCIPA4Hjkxd+/4zxYws2Cf3zLv/aDETqVASmGXTd3gWNIOzVLA31F4zUEyDd/THrKwydB5jtEA2YBKXzDg1v+Y4EjvJpDIH9c/XpAtsG9PUf/IETx/RU+9IZ1t1uEX4OuuF8FcH3HA7F64IRnAGb5+wlvd+kBeQa7N0fDJMPfPIT+H4ZdOZZCCYOv+ibFHfwGRST6HkLtw5+4WAW/PZE/wcLBPMHBzMC6vYaDd/w3ARmBQf1wgyc9oQE1ggx6y0U/P5v6DUgTeuX+a8YUeNMFX/1xfyMFa7cqSCg9erupCGb4wAKhglr5wQaIPNs7p4nduEsCd4Mw+PxH4nr7v5jF57q0AhJDIbuIwgVB535fwem+/kDLgb38MARgP4y8sQRiv7f+zUC/A3L89EGFwfG9fgI8/irBuQAKvtFC376U/kTBAoBSPfd/e0LlO14+j8QQubW/+AID+s6CRv1a/jaAer2M/23/V7+afi//ToAPP4T/JgEn/eCBGsDOvv2BA7/bQJYBfIFff3yBekGXAFHAo0L9QY//S0PQQIDBHAIcgDCCLr/DQd+BDj/BQepA4wAsQKq/gQBxABD/JwBKP4o/jQAvvqG/uj/tfiyAFL+QvpM/sYBSvpl/R8EtvpSAS4B3P7uAOD/8gBA/j0DbQI2/j4E/gBtAnMDQgGrA9wBsv/9A3sCxv/JA28DAP9UADUD7v2e/s8CZP+x/AwCuP6z/Sb+G/1c/sX9LP7Z/c39rf1I/k/84v5Q/mH8XACk/xH9MgAyATL/Yv+oAez/zP6qAe4BkgCfAvoB6P9vAkIBngBvAmwBhgD2ADYAsgCc/zwA6AAw/1j/Iv/y/jj+/P0K/4H97fzS/ln92fxa/iz+Y/06/hb+cf1C/pj+xv7c/rb/ov98/7IAUABSAEgBXgH0ALgBdQLyAV8C9wKBAsgBZwIhAtYBLQLwAdQBSgFOAc4AHABMAPz/eP9s/+z+av5C/hL+0f17/WP94fzN/OH8w/zV/Of8e/3//Dv9qf3q/Tz+AP9w/2r/CABKAMQAIgHEAfoBVQLbArcC+QJFA0EDTwNpA08DzQKvAskCTQLyAaYBMAFQADQArv/G/tj+Rv6v/Xf9z/xv/CP88/uC+4L7ZPsE+0z7fvvC+xP8yfwv/aX9Vv7q/oj/WAAGAY4BQwLLAm8DPATCBEAFjgXKBdQF7gXiBaIFmAUaBawEJQRvA78CDAJwAX4AkP/u/r/95fx1/CL7evoU+tn4g/j79y73rvaS9lT2fPav98/4Pfnk+qb72/vw/Wz+YP/mAP4BIQMRBAgG6QaaCGIK2Qq7CzkM2QvNC3ELswoOCvYIAwjXBsQFsgRnAzECZgDQ/of8YvrJ+Kr2GfWB8zDyyvF08sTx1PJt9M7yx/SI9a3zDvYo99T28/g0+8b7AP6UAdECiAS9B/kHPwhMCjgKPAqfCw8M+QvaDGYN+AxUDWQNLwwrC44Jfwe+BSsEkwJgAdr/uP7L/Yn8gPu0+mX5IfhE95r1d/R19CX0efRh9fT1yvb19zP5GPoo+yn8B/3T/cr+AAAoAdMCvAQCBkUHbgj6CJQJKAoKCqgJoAnkCJ4IKQgTCJkHewe/BsAFoARFA9oBmAAK/4z+dv5C+8j71vqp9KL1TvbB8L/0lvYn8df0jvZQ8/f0ffji9l72wPqT+LH3M/2f/e79pQINBBUDBgZ7B+UGkAgCCoII+gjyCZYIzAmxCnQK0wrYCVUIdwcABmoEFQRbAmAA6v8i/v/8kf37/MD75fvC+tH4e/jx95335/dl+Av4bfi8+ZL63ftV/V7+jv4K/8b/8v8UAZUCQQNgBHoFngV3Br0H+wcbCAEI6wYaBpgFCgWQBIwE+QM1A3EChAHCAB4AQP86/t/8lvt++gL6APoM+kL6RPqK+hb6hvq4+uz62fvh+yv8l/wf/Xj+2v/cACUCuQIFA3UD9wM4BLYEygSkBKgErASaBNgEIgXeBH4EkwOBAr4B4gA6AJr/5P4w/on9Mf3t/AH9v/xr/AX8aPsW+/b6MPuo+yf8lfwB/Zn9bv40/woAlgDqABQBXAGsAT0C7QKLAwUEPgRCBEwEZARkBAsEkwPNAjECoAFYAQ4B0gCMACAAfv/w/mj++v2t/S/9x/xl/B/8RfyX/CX9ef2//fr9NP5m/rb+EP+G/+j/OgCiABgBtAFdAssCCwMfAwED0wK9ApECnQJpAksC\" type=\"audio/wav\" />\n",
       "                    Your browser does not support the audio element.\n",
       "                </audio>\n",
       "              "
      ],
      "text/plain": [
       "<IPython.lib.display.Audio object>"
      ]
     },
     "metadata": {},
     "output_type": "display_data"
    },
    {
     "data": {
      "image/png": "[encoded data removed]",
      "text/plain": [
       "<Figure size 864x288 with 1 Axes>"
      ]
     },
     "metadata": {
      "needs_background": "light"
     },
     "output_type": "display_data"
    }
   ],
   "source": [
    "start = 0.3\n",
    "end = 0.95\n",
    "waveshow_seg(utt1, sr, tmin=start, tmax=end)\n",
    "play_seg(utt1, sr, tmin=start, tmax=end)"
   ]
  },
  {
   "cell_type": "markdown",
   "id": "9c4e8092",
   "metadata": {
    "deletable": false,
    "editable": false,
    "jp-MarkdownHeadingCollapsed": true,
    "nbgrader": {
     "cell_type": "markdown",
     "checksum": "d53154bfcaf66bd6810c10380be6bdae",
     "grade": false,
     "grade_id": "cell-56a1588073d076be",
     "locked": true,
     "schema_version": 3,
     "solution": false,
     "task": false
    }
   },
   "source": [
    "### Word Segmentation (T02)\n",
    "\n",
    "In the previous section, you could notice that the words are not always clearly separated. \n",
    "\n",
    "If you have not done so yet, install the free software [Audacity](https://www.audacityteam.org) in your computer. Download the `harvard01-04.wav` file to your computer and open it with Audacity.\n",
    "\n",
    "Open a label pane and use it to annotate the word boundaries in your file by creating a label for each word (see the Audacity documentation on [label tracks](https://manual.audacityteam.org/man/label_tracks.html)).\n",
    "\n",
    "Once you have annotated the full utterance with sufficiente precision (< 30 ms), export the labels into a `.txt` file and copy the boundaries of each word into the next code cells."
   ]
  },
  {
   "cell_type": "code",
   "execution_count": 12,
   "id": "2b862da3",
   "metadata": {
    "deletable": false,
    "nbgrader": {
     "cell_type": "code",
     "checksum": "c1908ab539d43baca4597fb596d33836",
     "grade": false,
     "grade_id": "cell-684588b080dbc570",
     "locked": false,
     "schema_version": 3,
     "solution": true,
     "task": false
    }
   },
   "outputs": [
    {
     "data": {
      "text/html": [
       "\n",
       "                <audio  controls=\"controls\" >\n",
       "                    <source src=\"data:audio/wav;base64,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\" type=\"audio/wav\" />\n",
       "                    Your browser does not support the audio element.\n",
       "                </audio>\n",
       "              "
      ],
      "text/plain": [
       "<IPython.lib.display.Audio object>"
      ]
     },
     "metadata": {},
     "output_type": "display_data"
    },
    {
     "data": {
      "image/png": "[encoded data removed]",
      "text/plain": [
       "<Figure size 864x288 with 1 Axes>"
      ]
     },
     "metadata": {
      "needs_background": "light"
     },
     "output_type": "display_data"
    }
   ],
   "source": [
    "word =[[0.300408, 0.600816], \n",
    "       [0.600816, 0.925896],\n",
    "       [0.925896, 1.053605],\n",
    "       [1.053605, 1.528163],\n",
    "       [1.528163, 1.686349],\n",
    "       [1.686349, 1.882268],\n",
    "       [1.882268, 2.052063],\n",
    "       [2.052063, 2.288617],\n",
    "       [2.288617, 2.819773]]\n",
    "# YOUR CODE HERE\n",
    "#raise NotImplementedError()\n",
    "#wrd = 0\n",
    "#waveshow_seg(utt1, sr, tmin=word[wrd][0], tmax=word[wrd][1])\n",
    "#play_seg(utt1, sr, tmin=word[wrd][0], tmax=word[wrd][1])\n",
    "wrd = 0\n",
    "waveshow_seg(utt1, sr, tmin=word[wrd][0], tmax=word[wrd][1])\n",
    "play_seg(utt1, sr, tmin=word[wrd][0], tmax=word[wrd][1])"
   ]
  },
  {
   "cell_type": "code",
   "execution_count": 13,
   "id": "8ff411dc",
   "metadata": {
    "deletable": false,
    "editable": false,
    "nbgrader": {
     "cell_type": "code",
     "checksum": "463ae0f62f2c8bb4dad4cf09db31abac",
     "grade": true,
     "grade_id": "cell-bd25283e13f3bb88",
     "locked": true,
     "points": 2,
     "schema_version": 3,
     "solution": false,
     "task": false
    }
   },
   "outputs": [],
   "source": [
    "w = 0\n",
    "assert (word[w][0] > 0 and word[w][1] > 0)\n",
    "assert (word[w][1]-word[w][0]< 0.6)\n",
    "if (w > 1):\n",
    "    assert (abs(word[w][0]-word[w-1][1])<0.0001)"
   ]
  },
  {
   "cell_type": "code",
   "execution_count": 14,
   "id": "cce2348c",
   "metadata": {
    "deletable": false,
    "editable": false,
    "nbgrader": {
     "cell_type": "code",
     "checksum": "d44806770b799f0c41ac57d9642d3249",
     "grade": true,
     "grade_id": "cell-52cee662c02bbca5",
     "locked": true,
     "points": 1,
     "schema_version": 3,
     "solution": false,
     "task": false
    }
   },
   "outputs": [],
   "source": [
    "w = 1\n",
    "assert (word[w][0] > 0 and word[w][1] > 0)\n",
    "assert (word[w][1]-word[w][0]< 0.6)\n",
    "if (w < 8):\n",
    "    assert (abs(word[w+1][0]-word[w][1])<0.0001)"
   ]
  },
  {
   "cell_type": "code",
   "execution_count": 15,
   "id": "4c2ee52f",
   "metadata": {
    "deletable": false,
    "editable": false,
    "nbgrader": {
     "cell_type": "code",
     "checksum": "ff6f452ac3ebb417e1039ec933f32d86",
     "grade": true,
     "grade_id": "cell-d9850ae0626e091f",
     "locked": true,
     "points": 1,
     "schema_version": 3,
     "solution": false,
     "task": false
    }
   },
   "outputs": [],
   "source": [
    "w = 2\n",
    "assert (word[w][0] > 0 and word[w][1] > 0)\n",
    "assert (word[w][1]-word[w][0]< 0.6)\n",
    "if (w < 8):\n",
    "    assert (abs(word[w+1][0]-word[w][1])<0.0001)"
   ]
  },
  {
   "cell_type": "code",
   "execution_count": 16,
   "id": "39922001",
   "metadata": {
    "deletable": false,
    "editable": false,
    "nbgrader": {
     "cell_type": "code",
     "checksum": "254ac46a0bcc79a328b5272a598a53ff",
     "grade": true,
     "grade_id": "cell-60c2a7f1305f5a7e",
     "locked": true,
     "points": 1,
     "schema_version": 3,
     "solution": false,
     "task": false
    }
   },
   "outputs": [],
   "source": [
    "w = 3\n",
    "assert (word[w][0] > 0 and word[w][1] > 0)\n",
    "assert (word[w][1]-word[w][0]< 0.6)\n",
    "if (w < 8):\n",
    "    assert (abs(word[w+1][0]-word[w][1])<0.0001)"
   ]
  },
  {
   "cell_type": "code",
   "execution_count": 17,
   "id": "514704cb",
   "metadata": {
    "deletable": false,
    "editable": false,
    "nbgrader": {
     "cell_type": "code",
     "checksum": "1ea0501373f9ef8e4f87dca1283e48ab",
     "grade": true,
     "grade_id": "cell-b6c6d38c07fd1f9a",
     "locked": true,
     "points": 1,
     "schema_version": 3,
     "solution": false,
     "task": false
    }
   },
   "outputs": [],
   "source": [
    "w = 4\n",
    "assert (word[w][0] > 0 and word[w][1] > 0)\n",
    "assert (word[w][1]-word[w][0]< 0.6)\n",
    "if (w < 8):\n",
    "    assert (abs(word[w+1][0]-word[w][1])<0.0001)"
   ]
  },
  {
   "cell_type": "code",
   "execution_count": 18,
   "id": "1c78622d",
   "metadata": {
    "deletable": false,
    "editable": false,
    "nbgrader": {
     "cell_type": "code",
     "checksum": "c9bf49299bc10e2287961bf20a6e8720",
     "grade": true,
     "grade_id": "cell-a5be66bc86af6504",
     "locked": true,
     "points": 1,
     "schema_version": 3,
     "solution": false,
     "task": false
    }
   },
   "outputs": [],
   "source": [
    "w = 5\n",
    "assert (word[w][0] > 0 and word[w][1] > 0)\n",
    "assert (word[w][1]-word[w][0]< 0.6)\n",
    "if (w < 8):\n",
    "    assert (abs(word[w+1][0]-word[w][1])<0.0001)"
   ]
  },
  {
   "cell_type": "code",
   "execution_count": 19,
   "id": "74dd4ab2",
   "metadata": {
    "deletable": false,
    "editable": false,
    "nbgrader": {
     "cell_type": "code",
     "checksum": "625b5413774a27a940bf09ae9b463890",
     "grade": true,
     "grade_id": "cell-959e9f4825af8023",
     "locked": true,
     "points": 1,
     "schema_version": 3,
     "solution": false,
     "task": false
    }
   },
   "outputs": [],
   "source": [
    "w = 6\n",
    "assert (word[w][0] > 0 and word[w][1] > 0)\n",
    "assert (word[w][1]-word[w][0]< 0.6)\n",
    "if (w < 8):\n",
    "    assert (abs(word[w+1][0]-word[w][1])<0.0001)"
   ]
  },
  {
   "cell_type": "code",
   "execution_count": 20,
   "id": "33a1708f",
   "metadata": {
    "deletable": false,
    "editable": false,
    "nbgrader": {
     "cell_type": "code",
     "checksum": "0187795b1d61665115093888b69de8ab",
     "grade": true,
     "grade_id": "cell-ed88bfdc094841f8",
     "locked": true,
     "points": 1,
     "schema_version": 3,
     "solution": false,
     "task": false
    }
   },
   "outputs": [],
   "source": [
    "w = 7\n",
    "assert (word[w][0] > 0 and word[w][1] > 0)\n",
    "assert (word[w][1]-word[w][0]< 0.6)\n",
    "if (w < 8):\n",
    "    assert (abs(word[w+1][0]-word[w][1])<0.0001)"
   ]
  },
  {
   "cell_type": "code",
   "execution_count": 21,
   "id": "df82cccd",
   "metadata": {
    "deletable": false,
    "editable": false,
    "nbgrader": {
     "cell_type": "code",
     "checksum": "7dcd24a3f1145f4084a98a368041b9c7",
     "grade": true,
     "grade_id": "cell-6567fa4ed17b7d18",
     "locked": true,
     "points": 1,
     "schema_version": 3,
     "solution": false,
     "task": false
    }
   },
   "outputs": [],
   "source": [
    "w = 8\n",
    "assert (word[w][0] > 0 and word[w][1] > 0)\n",
    "assert (word[w][1]-word[w][0]< 0.6)\n",
    "if (w < 8):\n",
    "    assert (abs(word[w+1][0]-word[w][1])<0.0001)"
   ]
  },
  {
   "cell_type": "markdown",
   "id": "783cfcde",
   "metadata": {
    "deletable": false,
    "editable": false,
    "jp-MarkdownHeadingCollapsed": true,
    "nbgrader": {
     "cell_type": "markdown",
     "checksum": "8cc33c3cdc824ff63a4f066b3117aa55",
     "grade": false,
     "grade_id": "cell-b62fcf19bb194174",
     "locked": true,
     "schema_version": 3,
     "solution": false,
     "task": false
    }
   },
   "source": [
    "### Phone Segmentation (T03)\n",
    "\n",
    "Use the tool available at [toPhonetics](https://tophonetics.com) to find the phonetic transcription of the utterance and use Audacity to annotate the phones of the first three words with an average error of 15 ms.\n",
    "\n",
    "Once you have annotated the words, export the labels into a `.txt` file and copy the boundaries of each phone into the next code cells."
   ]
  },
  {
   "cell_type": "code",
   "execution_count": 25,
   "id": "78a98d79",
   "metadata": {
    "deletable": false,
    "nbgrader": {
     "cell_type": "code",
     "checksum": "42ea0e2007669f510edf3cf27c7b5f28",
     "grade": false,
     "grade_id": "cell-4639e94f5962f7ca",
     "locked": false,
     "schema_version": 3,
     "solution": true,
     "task": false
    }
   },
   "outputs": [
    {
     "data": {
      "text/html": [
       "\n",
       "                <audio  controls=\"controls\" >\n",
       "                    <source src=\"data:audio/wav;base64,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\" type=\"audio/wav\" />\n",
       "                    Your browser does not support the audio element.\n",
       "                </audio>\n",
       "              "
      ],
      "text/plain": [
       "<IPython.lib.display.Audio object>"
      ]
     },
     "metadata": {},
     "output_type": "display_data"
    },
    {
     "data": {
      "image/png": "[encoded data removed]",
      "text/plain": [
       "<Figure size 864x288 with 1 Axes>"
      ]
     },
     "metadata": {
      "needs_background": "light"
     },
     "output_type": "display_data"
    }
   ],
   "source": [
    "phone=[[0.300408, 0.362812], \n",
    "       [0.362812, 0.505034],\n",
    "       [0.505034, 0.600816],\n",
    "       [0.600816, 0.682086],\n",
    "       [0.682086, 0.786576],\n",
    "       [0.786576, 0.864943],\n",
    "       [0.864943, 0.925896],\n",
    "       [0.925896, 1.053605]]\n",
    "# YOUR CODE HERE\n",
    "#raise NotImplementedError()\n",
    "ph = 0\n",
    "waveshow_seg(utt1, sr, tmin=phone[ph][0], tmax=phone[ph][1])\n",
    "play_seg(utt1, sr, tmin=phone[ph][0], tmax=phone[ph][1])"
   ]
  },
  {
   "cell_type": "code",
   "execution_count": 26,
   "id": "a7eb758e",
   "metadata": {
    "deletable": false,
    "editable": false,
    "nbgrader": {
     "cell_type": "code",
     "checksum": "1049cfbb17b3840de85ba51c3edacf9f",
     "grade": true,
     "grade_id": "cell-411ed45db90b25f4",
     "locked": true,
     "points": 5,
     "schema_version": 3,
     "solution": false,
     "task": false
    }
   },
   "outputs": [],
   "source": [
    "\n",
    "assert (len(phone) > 4)\n",
    "assert (abs(phone[0][0]-word[0][0])< 0.0001)\n",
    "assert (abs(phone[len(phone)-1][1]-word[2][1])< 0.0001)\n",
    "\n",
    "for p in range(1,len(phone)):\n",
    "    assert (abs(phone[p][0]-phone[p-1][1])<0.0001)"
   ]
  },
  {
   "cell_type": "markdown",
   "id": "b32ccc20",
   "metadata": {
    "deletable": false,
    "editable": false,
    "jp-MarkdownHeadingCollapsed": true,
    "nbgrader": {
     "cell_type": "markdown",
     "checksum": "69ebd3560734decf9174c91a80347464",
     "grade": false,
     "grade_id": "cell-ed82bda619fc28c7",
     "locked": true,
     "schema_version": 3,
     "solution": false,
     "task": false
    }
   },
   "source": [
    "### Fundamental Period (T04)\n",
    "\n",
    "Estimate the fundamental period at the middle of the first vowel and initialize the variable `vowel1_T0_ms` with its value in miliseconds."
   ]
  },
  {
   "cell_type": "code",
   "execution_count": null,
   "id": "a94d9cf4",
   "metadata": {
    "deletable": false,
    "nbgrader": {
     "cell_type": "code",
     "checksum": "d27e3c9d611f507fc9f3045bc3b01f29",
     "grade": false,
     "grade_id": "T04",
     "locked": false,
     "schema_version": 3,
     "solution": true,
     "task": false
    }
   },
   "outputs": [],
   "source": [
    "# YOUR CODE HERE\n",
    "#raise NotImplementedError()\n",
    "vowel1_T0_ms=(0.399-0.386)/4\n",
    "print(f\"Fundamental period at the middle of the first vowel: {vowel1_T0_ms:.2f} ms\")\n",
    "print(f\"Fundamental frequency at the middle of the first vowel: {1000/vowel1_T0_ms:.2f} Hz\")\n",
    "\n",
    "mid = phone[1][0] + (phone[1][1]-phone[1][0])/2\n",
    "\n",
    "waveshow_seg(utt1, sr, tmin=mid-vowel1_T0_ms/1000, tmax=mid+vowel1_T0_ms/1000)\n",
    "plt.grid()\n",
    "\n",
    "\n"
   ]
  },
  {
   "cell_type": "code",
   "execution_count": null,
   "id": "f787a2b2",
   "metadata": {
    "deletable": false,
    "editable": false,
    "nbgrader": {
     "cell_type": "code",
     "checksum": "07b9d67563b079e88d17fa1a4054324c",
     "grade": true,
     "grade_id": "T04t",
     "locked": true,
     "points": 5,
     "schema_version": 3,
     "solution": false,
     "task": false
    }
   },
   "outputs": [],
   "source": [
    "assert (vowel1_T0_ms > 1) and (vowel1_T0_ms < 5)"
   ]
  },
  {
   "cell_type": "markdown",
   "id": "13cd1beb",
   "metadata": {
    "deletable": false,
    "editable": false,
    "jp-MarkdownHeadingCollapsed": true,
    "nbgrader": {
     "cell_type": "markdown",
     "checksum": "628ba7c978e7be7ef2505fdf158541ef",
     "grade": false,
     "grade_id": "cell-f41b355a91982011",
     "locked": true,
     "schema_version": 3,
     "solution": false,
     "task": false
    }
   },
   "source": [
    "### Design Your Sentence (T05)\n",
    "\n",
    "In the next text cell, write a sentence with a minimum of 6 words that includes the names of the students of the group and the vowels [a], [I] or [i], and [u]. The sentence can be in any language that both students speak.\n",
    "Bellow the sentence write its phonetic transcription in IPA symbols."
   ]
  },
  {
   "cell_type": "markdown",
   "id": "ddfbc7ba",
   "metadata": {
    "deletable": false,
    "nbgrader": {
     "cell_type": "markdown",
     "checksum": "f2c9bc5e60476fa6e5c33676a6778848",
     "grade": true,
     "grade_id": "T05",
     "locked": false,
     "points": 5,
     "schema_version": 3,
     "solution": true,
     "task": false
    }
   },
   "source": [
    "Margarida and Piotr are amazing students."
   ]
  },
  {
   "cell_type": "markdown",
   "id": "2e8c1e5e-e739-4d44-ab6a-7b825c926358",
   "metadata": {
    "nbgrader": {
     "cell_type": "markdown",
     "checksum": "f2c9bc5e60476fa6e5c33676a6778848",
     "grade": true,
     "grade_id": "T05",
     "locked": false,
     "points": 5,
     "schema_version": 3,
     "solution": true,
     "task": false
    }
   },
   "source": [
    "Margarida ænd Piotr ɑːr əˈmeɪzɪŋ ˈstjuːdᵊnts."
   ]
  },
  {
   "cell_type": "markdown",
   "id": "68d2577e",
   "metadata": {
    "deletable": false,
    "editable": false,
    "jp-MarkdownHeadingCollapsed": true,
    "nbgrader": {
     "cell_type": "markdown",
     "checksum": "da1e020cecee926f73ff5286a55c09de",
     "grade": false,
     "grade_id": "cell-da35b6be91d3fd98",
     "locked": true,
     "schema_version": 3,
     "solution": false,
     "task": false
    }
   },
   "source": [
    "### Record Your Sentence (T06)\n",
    "\n",
    "Use Audacity to record and produce two audio files, one with each students voice saying the sentence that you have designed. Don't forget to trim the recordings but leave around 300 ms of silence at the ends. Use a sample rate of 22050 Hz.\n",
    "\n",
    "Load the signals to variables `student1_utt` and `student2_utt`.\n",
    "\n",
    "Place the original wav files in the same folder of this Jupyter Notebook file."
   ]
  },
  {
   "cell_type": "code",
   "execution_count": null,
   "id": "c69831ac",
   "metadata": {
    "deletable": false,
    "nbgrader": {
     "cell_type": "code",
     "checksum": "799efa05e5eb7cbd15260be051919bf7",
     "grade": true,
     "grade_id": "T06",
     "locked": false,
     "points": 5,
     "schema_version": 3,
     "solution": true,
     "task": false
    }
   },
   "outputs": [],
   "source": [
    "# YOUR CODE HERE\n",
    "raise NotImplementedError()"
   ]
  },
  {
   "cell_type": "code",
   "execution_count": null,
   "id": "2235b388",
   "metadata": {
    "deletable": false,
    "editable": false,
    "nbgrader": {
     "cell_type": "code",
     "checksum": "c8644bcf50b50b84ad9cb2610fb90bae",
     "grade": false,
     "grade_id": "cell-6bd09bddd580e7c2",
     "locked": true,
     "schema_version": 3,
     "solution": false,
     "task": false
    }
   },
   "outputs": [],
   "source": [
    "sr = 22050\n",
    "fig, ax = plt.subplots(figsize=(12,4))\n",
    "librosa.display.waveshow(student2_utt, sr=sr, ax=ax)\n",
    "display(Audio(student1_utt, rate=sr))\n",
    "fig, ax = plt.subplots(figsize=(12,4))\n",
    "librosa.display.waveshow(student2_utt, sr=sr, ax=ax)\n",
    "display(Audio(student2_utt, rate=sr))"
   ]
  },
  {
   "cell_type": "markdown",
   "id": "53c2cede",
   "metadata": {
    "deletable": false,
    "editable": false,
    "jp-MarkdownHeadingCollapsed": true,
    "nbgrader": {
     "cell_type": "markdown",
     "checksum": "c2fb9106bb016908e9eea97f52761242",
     "grade": false,
     "grade_id": "cell-1c0c754cd02dc7d5",
     "locked": true,
     "schema_version": 3,
     "solution": false,
     "task": false
    }
   },
   "source": [
    "## Time-Domain Representations"
   ]
  },
  {
   "cell_type": "markdown",
   "id": "8ddb94ed",
   "metadata": {
    "deletable": false,
    "editable": false,
    "nbgrader": {
     "cell_type": "markdown",
     "checksum": "48dbbbbbcf2f10a2ff8ca1e3578e93ef",
     "grade": false,
     "grade_id": "cell-78ab176377fd47f6",
     "locked": true,
     "schema_version": 3,
     "solution": false,
     "task": false
    }
   },
   "source": [
    "### Non-Stationary Signals: Signal Framing\n",
    "\n",
    "Most of real-world signals are non-stationary. Since most signal processing techniques assume that the signal is stationary, it is common to split the original signal into short segments, called frames. To assume that the signal is quasi-stationary in these shorter segments frames are typically chosen to be of 10 to 100 ms in duration. The variable `frame_length` contais the number of samples in each frame.\n",
    "\n",
    "To prevent large discontinuities when using frames to extract features from the signal, it is also common to use overlapping frames. This means that the next analysis frame includes samples that were also included is previous frames. The variable `hop_length` contais the number of samples between the start of two consecutive frames."
   ]
  },
  {
   "cell_type": "code",
   "execution_count": 3,
   "id": "df73ae76",
   "metadata": {
    "deletable": false,
    "editable": false,
    "nbgrader": {
     "cell_type": "code",
     "checksum": "64cb50447a893081e952a332744a3cc7",
     "grade": false,
     "grade_id": "cell-63e6b280499dffaa",
     "locked": true,
     "schema_version": 3,
     "solution": false,
     "task": false
    }
   },
   "outputs": [],
   "source": [
    "frame_length = 1024\n",
    "hop_length = 256"
   ]
  },
  {
   "cell_type": "markdown",
   "id": "24592d79",
   "metadata": {
    "deletable": false,
    "editable": false,
    "nbgrader": {
     "cell_type": "markdown",
     "checksum": "a87584aacee573e7b6f3cd6074c76180",
     "grade": false,
     "grade_id": "cell-68027bea5f7bf6e0",
     "locked": true,
     "schema_version": 3,
     "solution": false,
     "task": false
    }
   },
   "source": [
    "### Zero Padding\n",
    "\n",
    "In many application we need to reconstruct a signal by recombining overlapping frames. To be able to reconstruct a signal with, **at least**, the same length of the original the signal needs to be extended with zeros. This is called zero padding.\n",
    "\n"
   ]
  },
  {
   "cell_type": "code",
   "execution_count": 2,
   "id": "fce3e355",
   "metadata": {
    "deletable": false,
    "editable": false,
    "nbgrader": {
     "cell_type": "code",
     "checksum": "3118d9e75be4426e3fbbf2243c3f2812",
     "grade": false,
     "grade_id": "cell-121f298d03a737e8",
     "locked": true,
     "schema_version": 3,
     "solution": false,
     "task": false
    }
   },
   "outputs": [],
   "source": [
    "def pad_signal(x, frame_length, hop_length):\n",
    "    \"\"\"Pads the signal x so that it can be split into frames of length frame_length with hop_length in between\"\"\"\n",
    "    N = len(x)\n",
    "    N_frames = N//hop_length + (N%hop_length > 0)\n",
    "    x_padded = np.zeros((N_frames-1)*hop_length + frame_length)\n",
    "    x_padded[:N] = x\n",
    "    return x_padded\n"
   ]
  },
  {
   "cell_type": "markdown",
   "id": "c6cf66b3",
   "metadata": {
    "deletable": false,
    "editable": false,
    "nbgrader": {
     "cell_type": "markdown",
     "checksum": "27380ce9c149a5898b96f357e43fa182",
     "grade": false,
     "grade_id": "cell-e55b5693916c7200",
     "locked": true,
     "schema_version": 3,
     "solution": false,
     "task": false
    }
   },
   "source": [
    "\n",
    "### Chirp Signal\n",
    "\n",
    "To test the pad_signal() function we will use a we will use a chirp signal. A chirp signal is a type of signal that varies its frequency over time. In this case we will use a linear chirp signal with decreasing frequency."
   ]
  },
  {
   "cell_type": "code",
   "execution_count": 4,
   "id": "0a084238-c2a9-41fd-ba10-4b48ff62b197",
   "metadata": {},
   "outputs": [],
   "source": [
    "sr = 22050"
   ]
  },
  {
   "cell_type": "code",
   "execution_count": 5,
   "id": "0cf1d66f",
   "metadata": {
    "deletable": false,
    "editable": false,
    "nbgrader": {
     "cell_type": "code",
     "checksum": "e5c18f68d2b1c51e87ace18586fc627a",
     "grade": false,
     "grade_id": "cell-dc055427fe3a1758",
     "locked": true,
     "schema_version": 3,
     "solution": false,
     "task": false
    }
   },
   "outputs": [
    {
     "data": {
      "text/html": [
       "\n",
       "                <audio  controls=\"controls\" >\n",
       "                    <source src=\"data:audio/wav;base64,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\" type=\"audio/wav\" />\n",
       "                    Your browser does not support the audio element.\n",
       "                </audio>\n",
       "              "
      ],
      "text/plain": [
       "<IPython.lib.display.Audio object>"
      ]
     },
     "metadata": {},
     "output_type": "display_data"
    },
    {
     "name": "stdout",
     "output_type": "stream",
     "text": [
      "Length of c signal: 22050\n",
      "Number of frames of c signal: 83\n",
      "Number of frames of c_pad signal: 87\n",
      "Length of reconstructed signal 87x256=22272\n"
     ]
    }
   ],
   "source": [
    "dur = 1\n",
    "c_sr = 22050\n",
    "t = np.linspace(0, dur, int(dur*c_sr), endpoint=False)\n",
    "fmax = 300\n",
    "fmin = 150\n",
    "\n",
    "f = np.linspace(fmax, fmin, len(t))\n",
    "c = np.sin(2*np.pi*f*t)\n",
    "display(Audio(c, rate=sr))\n",
    "\n",
    "c_pad = pad_signal(c, frame_length, hop_length)\n",
    "c_nframes = (len(c)+hop_length-frame_length)//hop_length\n",
    "c_pad_nframes = (len(c_pad)+hop_length-frame_length)//hop_length\n",
    "print(f\"Length of c signal: {len(c)}\")\n",
    "print(f\"Number of frames of c signal: {c_nframes}\")\n",
    "print(f\"Number of frames of c_pad signal: {c_pad_nframes}\")\n",
    "print(f\"Length of reconstructed signal {c_pad_nframes}x{hop_length}={c_pad_nframes*hop_length}\")\n"
   ]
  },
  {
   "cell_type": "markdown",
   "id": "b3346edd",
   "metadata": {
    "deletable": false,
    "editable": false,
    "nbgrader": {
     "cell_type": "markdown",
     "checksum": "ce7f6e50ff1e31bceca3e65345a44f09",
     "grade": false,
     "grade_id": "cell-4cd20452f1688d8e",
     "locked": true,
     "schema_version": 3,
     "solution": false,
     "task": false
    }
   },
   "source": [
    "### Zero Crossing Rate\n",
    "\n",
    "The number of times a signal crosses the x axis is an indication of the behaviour of the signal. For this reason, the Zero Crossing Rate (ZCR) is a common feature for audio classification."
   ]
  },
  {
   "cell_type": "code",
   "execution_count": 6,
   "id": "fb60ca7a",
   "metadata": {
    "deletable": false,
    "editable": false,
    "nbgrader": {
     "cell_type": "code",
     "checksum": "25555938710996a8a98e07f4d731ddd2",
     "grade": false,
     "grade_id": "cell-1008966fab88f167",
     "locked": true,
     "schema_version": 3,
     "solution": false,
     "task": false
    }
   },
   "outputs": [],
   "source": [
    "def zero_crossing_rate(x):\n",
    "    return np.sum(np.abs(np.diff(np.sign(x)))/2)/len(x)"
   ]
  },
  {
   "cell_type": "markdown",
   "id": "942ccfe7",
   "metadata": {
    "deletable": false,
    "editable": false,
    "nbgrader": {
     "cell_type": "markdown",
     "checksum": "4cdc153e6145f5701356f25997fae1f7",
     "grade": false,
     "grade_id": "cell-ba2e17690b3c8ba8",
     "locked": true,
     "schema_version": 3,
     "solution": false,
     "task": false
    }
   },
   "source": [
    "### Frame-Based Zero Crossing Rate (T07)\n",
    "\n",
    "The previous function computes the zero crossing rate (ZCR) on a segment of the signal. To show how this feature changes in time you need to split the signal in overlapping frames and apply the function zero_crossing_rate() for each frame.\n",
    "\n",
    "Write a function that computes the ZCR for each frame of lenght `frame_length` with `hop_length` in between.\n",
    "\n",
    "Use the function `pad_signal()` so that all samples of the input signal are used."
   ]
  },
  {
   "cell_type": "code",
   "execution_count": 7,
   "id": "1d3c7b47",
   "metadata": {
    "deletable": false,
    "nbgrader": {
     "cell_type": "code",
     "checksum": "91e9be1fce5ce7799a3a3fd7f1de8dc7",
     "grade": false,
     "grade_id": "T07",
     "locked": false,
     "schema_version": 3,
     "solution": true,
     "task": false
    }
   },
   "outputs": [],
   "source": [
    "def frame_based_zcr(x, frame_length, hop_length):\n",
    "    \"\"\"Computes the zero crossing rate of signal x by splitting it into frames of length frame_length with hop_length in between\"\"\"\n",
    "    zcr = 0\n",
    "    padded_x = pad_signal(x, frame_length, hop_length)\n",
    "    c_pad_nframes = (len(c_pad)+hop_length-frame_length)//hop_length\n",
    "    for num_frame in range(c_pad_nframes):\n",
    "        zcr += zero_crossing_rate(padded_x[])\n",
    "    return zcr   "
   ]
  },
  {
   "cell_type": "code",
   "execution_count": 8,
   "id": "27039240",
   "metadata": {
    "deletable": false,
    "editable": false,
    "nbgrader": {
     "cell_type": "code",
     "checksum": "4e95a71b851dd234d7b9ad365ff5b53c",
     "grade": true,
     "grade_id": "T07t",
     "locked": true,
     "points": 10,
     "schema_version": 3,
     "solution": false,
     "task": false
    }
   },
   "outputs": [
    {
     "ename": "ValueError",
     "evalue": "diff requires input that is at least one dimensional",
     "output_type": "error",
     "traceback": [
      "\u001b[0;31m---------------------------------------------------------------------------\u001b[0m",
      "\u001b[0;31mValueError\u001b[0m                                Traceback (most recent call last)",
      "Cell \u001b[0;32mIn[8], line 1\u001b[0m\n\u001b[0;32m----> 1\u001b[0m \u001b[38;5;28;01massert\u001b[39;00m(\u001b[38;5;28mlen\u001b[39m(\u001b[43mframe_based_zcr\u001b[49m\u001b[43m(\u001b[49m\u001b[43mc\u001b[49m\u001b[43m,\u001b[49m\u001b[43m \u001b[49m\u001b[43mframe_length\u001b[49m\u001b[43m,\u001b[49m\u001b[43m \u001b[49m\u001b[43mhop_length\u001b[49m\u001b[43m)\u001b[49m) \u001b[38;5;241m>\u001b[39m \u001b[38;5;28mlen\u001b[39m(c)\u001b[38;5;241m/\u001b[39mhop_length)\n",
      "Cell \u001b[0;32mIn[7], line 7\u001b[0m, in \u001b[0;36mframe_based_zcr\u001b[0;34m(x, frame_length, hop_length)\u001b[0m\n\u001b[1;32m      5\u001b[0m c_pad_nframes \u001b[38;5;241m=\u001b[39m (\u001b[38;5;28mlen\u001b[39m(c_pad)\u001b[38;5;241m+\u001b[39mhop_length\u001b[38;5;241m-\u001b[39mframe_length)\u001b[38;5;241m/\u001b[39m\u001b[38;5;241m/\u001b[39mhop_length\n\u001b[1;32m      6\u001b[0m \u001b[38;5;28;01mfor\u001b[39;00m frame \u001b[38;5;129;01min\u001b[39;00m \u001b[38;5;28mrange\u001b[39m(c_pad_nframes):\n\u001b[0;32m----> 7\u001b[0m     zcr \u001b[38;5;241m+\u001b[39m\u001b[38;5;241m=\u001b[39m \u001b[43mzero_crossing_rate\u001b[49m\u001b[43m(\u001b[49m\u001b[43mframe\u001b[49m\u001b[43m)\u001b[49m\n\u001b[1;32m      8\u001b[0m \u001b[38;5;28;01mreturn\u001b[39;00m zcr\n",
      "Cell \u001b[0;32mIn[6], line 2\u001b[0m, in \u001b[0;36mzero_crossing_rate\u001b[0;34m(x)\u001b[0m\n\u001b[1;32m      1\u001b[0m \u001b[38;5;28;01mdef\u001b[39;00m \u001b[38;5;21mzero_crossing_rate\u001b[39m(x):\n\u001b[0;32m----> 2\u001b[0m     \u001b[38;5;28;01mreturn\u001b[39;00m np\u001b[38;5;241m.\u001b[39msum(np\u001b[38;5;241m.\u001b[39mabs(\u001b[43mnp\u001b[49m\u001b[38;5;241;43m.\u001b[39;49m\u001b[43mdiff\u001b[49m\u001b[43m(\u001b[49m\u001b[43mnp\u001b[49m\u001b[38;5;241;43m.\u001b[39;49m\u001b[43msign\u001b[49m\u001b[43m(\u001b[49m\u001b[43mx\u001b[49m\u001b[43m)\u001b[49m\u001b[43m)\u001b[49m)\u001b[38;5;241m/\u001b[39m\u001b[38;5;241m2\u001b[39m)\u001b[38;5;241m/\u001b[39m\u001b[38;5;28mlen\u001b[39m(x)\n",
      "File \u001b[0;32m/usr/local/lib/python3.10/dist-packages/numpy/lib/function_base.py:1418\u001b[0m, in \u001b[0;36mdiff\u001b[0;34m(a, n, axis, prepend, append)\u001b[0m\n\u001b[1;32m   1416\u001b[0m nd \u001b[38;5;241m=\u001b[39m a\u001b[38;5;241m.\u001b[39mndim\n\u001b[1;32m   1417\u001b[0m \u001b[38;5;28;01mif\u001b[39;00m nd \u001b[38;5;241m==\u001b[39m \u001b[38;5;241m0\u001b[39m:\n\u001b[0;32m-> 1418\u001b[0m     \u001b[38;5;28;01mraise\u001b[39;00m \u001b[38;5;167;01mValueError\u001b[39;00m(\u001b[38;5;124m\"\u001b[39m\u001b[38;5;124mdiff requires input that is at least one dimensional\u001b[39m\u001b[38;5;124m\"\u001b[39m)\n\u001b[1;32m   1419\u001b[0m axis \u001b[38;5;241m=\u001b[39m normalize_axis_index(axis, nd)\n\u001b[1;32m   1421\u001b[0m combined \u001b[38;5;241m=\u001b[39m []\n",
      "\u001b[0;31mValueError\u001b[0m: diff requires input that is at least one dimensional"
     ]
    }
   ],
   "source": [
    "\n",
    "assert(len(frame_based_zcr(c, frame_length, hop_length)) > len(c)/hop_length)"
   ]
  },
  {
   "cell_type": "markdown",
   "id": "182b11a8",
   "metadata": {
    "deletable": false,
    "editable": false,
    "nbgrader": {
     "cell_type": "markdown",
     "checksum": "76c6d98b7e00c03d3af41d1d925ac3ff",
     "grade": false,
     "grade_id": "cell-5cab7289da27e866",
     "locked": true,
     "schema_version": 3,
     "solution": false,
     "task": false
    }
   },
   "source": [
    "### ZCR of the Chirp Signal\n",
    "\n",
    "The following code plots the ZCR value for each frame of the previously defined chirp signal.\n",
    "\n"
   ]
  },
  {
   "cell_type": "code",
   "execution_count": null,
   "id": "9c7f3120",
   "metadata": {
    "deletable": false,
    "editable": false,
    "nbgrader": {
     "cell_type": "code",
     "checksum": "7c6b354d29e775bbdb3407be4ca8d7aa",
     "grade": false,
     "grade_id": "cell-cae91486ab63f415",
     "locked": true,
     "schema_version": 3,
     "solution": false,
     "task": false
    }
   },
   "outputs": [],
   "source": [
    "plt.plot(frame_based_zcr(c, frame_length, hop_length))\n",
    "plt.xlabel('Frame number')\n",
    "plt.ylabel('Zero crossing rate')"
   ]
  },
  {
   "cell_type": "markdown",
   "id": "e8b037de",
   "metadata": {
    "deletable": false,
    "editable": false,
    "nbgrader": {
     "cell_type": "markdown",
     "checksum": "3aff39aab340cded91eb63b19d8ebabf",
     "grade": false,
     "grade_id": "cell-51e870c581c21ee2",
     "locked": true,
     "schema_version": 3,
     "solution": false,
     "task": false
    }
   },
   "source": [
    "### ZCR of Speech \n",
    "\n",
    "To understand the meaning of the zero crossing rate feature we will see how it changes over a segment of the utterance `utt1`."
   ]
  },
  {
   "cell_type": "code",
   "execution_count": null,
   "id": "cb473496",
   "metadata": {
    "deletable": false,
    "editable": false,
    "nbgrader": {
     "cell_type": "code",
     "checksum": "14bddfbcf476f074bc16c02dbf60b2c1",
     "grade": false,
     "grade_id": "cell-02a921eff222b88b",
     "locked": true,
     "schema_version": 3,
     "solution": false,
     "task": false
    }
   },
   "outputs": [],
   "source": [
    "\n",
    "seg = utt1[int(word[0][0]*sr):int(word[1][1]*sr)]\n",
    "\n",
    "seg_zcr = frame_based_zcr(seg, frame_length, hop_length)\n",
    "\n",
    "display(Audio(seg, rate=sr))\n",
    "\n",
    "t = np.arange(len(seg_zcr)) * hop_length / sr\n",
    "librosa.display.waveshow(seg, sr=sr)\n",
    "plt.plot(t, seg_zcr)\n",
    "plt.show()\n"
   ]
  },
  {
   "cell_type": "markdown",
   "id": "02e345b8",
   "metadata": {
    "deletable": false,
    "editable": false,
    "nbgrader": {
     "cell_type": "markdown",
     "checksum": "5b341f5ad71622c7be5f3db76bab5cdf",
     "grade": false,
     "grade_id": "cell-348137b5e7b1780c",
     "locked": true,
     "schema_version": 3,
     "solution": false,
     "task": false
    }
   },
   "source": [
    "### Explain the ZCR Plots (T08)\n",
    "\n",
    "In the next text cell explain the variation of the ZCR in the previous two plots. How does ZCR change with the fundamental frequency of the signal? For what type of speech sounds has ZCR the largest values? Why is ZCR a relevant feature to characterize the speech signal?"
   ]
  },
  {
   "cell_type": "markdown",
   "id": "e8e14671",
   "metadata": {
    "deletable": false,
    "nbgrader": {
     "cell_type": "markdown",
     "checksum": "35896b94931fbfc8949b4fa7681973b9",
     "grade": true,
     "grade_id": "T08",
     "locked": false,
     "points": 10,
     "schema_version": 3,
     "solution": true,
     "task": false
    }
   },
   "source": [
    "YOUR ANSWER HERE"
   ]
  },
  {
   "cell_type": "markdown",
   "id": "86377faa-dd1f-4aa8-8d4c-a249ad483ec1",
   "metadata": {
    "deletable": false,
    "editable": false,
    "jp-MarkdownHeadingCollapsed": true,
    "nbgrader": {
     "cell_type": "markdown",
     "checksum": "ec437d1b47e0d62ddaf2b24c6c07f8c6",
     "grade": false,
     "grade_id": "cell-59a2b6d55dccb6a2",
     "locked": true,
     "schema_version": 3,
     "solution": false,
     "task": false
    }
   },
   "source": [
    "## Frequency-Domain Representations"
   ]
  },
  {
   "cell_type": "markdown",
   "id": "8ceb2e37",
   "metadata": {
    "deletable": false,
    "editable": false,
    "nbgrader": {
     "cell_type": "markdown",
     "checksum": "a368150dc5457d2dffbfc362a38efc39",
     "grade": false,
     "grade_id": "FreqVis",
     "locked": true,
     "schema_version": 3,
     "solution": false,
     "task": false
    }
   },
   "source": [
    "### Spectrum\n",
    "\n",
    "The spectrum is a representation of a signal in terms of magnitude and phase characteristics as a function of frequency. The discrete-time Fourier transform (DTFT) can be used to compute the frequency representation of a signal. However, the DTFT is a function of a real variable $\\omega \\in \\mathbb{R}$ that needs to be sampled for use in a digital computer.\n",
    "\n",
    "The sampled representation of the DTFT is called the discrete Fourier transform (DFT) that can be very efficiently computed using the fast Fourier transform (FFT):\n",
    "$$\n",
    "X(k) = \\sum_{n=0}^{N-1} x(n) e^{-j \\frac{2\\pi}{N} kn},\\; 0 \\leq k \\leq N-1\n",
    "$$\n",
    "\n",
    "Given the periodicity of the complex exponential $e^{-j \\frac{2\\pi}{N} kn}$, the definition of $X(k)$ results in a periodic sequence of period $N$. This is prevented by limiting the range of $k$.\n",
    "\n",
    "The `mag_spectrum()` function plots $|X(k)|$, the magnitude of the spectrum of the sequence $x(n)$."
   ]
  },
  {
   "cell_type": "code",
   "execution_count": 7,
   "id": "b14df765",
   "metadata": {
    "deletable": false,
    "editable": false,
    "nbgrader": {
     "cell_type": "code",
     "checksum": "f3e7b0829a68c2746b9710c53f5e2896",
     "grade": false,
     "grade_id": "cell-4696c65e35830185",
     "locked": true,
     "schema_version": 3,
     "solution": false,
     "task": false
    }
   },
   "outputs": [],
   "source": [
    "def mag_spectrum(x, fs, fmin=0, fmax=0, ax=None):\n",
    "    \"\"\"\n",
    "    Plot the magnitude spectrum of sequence x using the sampling frequency fs\n",
    "    \"\"\"\n",
    "\n",
    "    X = fft(x)\n",
    "    X_mag = np.absolute(X)\n",
    "    \n",
    "    \n",
    "    # the DFT samples the frequency range with N points\n",
    "    f = np.linspace(0,fs, X.size)\n",
    "    \n",
    "    # plot frequency range\n",
    "    if (fmin < 0 or fmin>fs):\n",
    "        fmin = 0\n",
    "    if (fmax <= 0 or fmax>fs):\n",
    "        fmax = fs/2\n",
    "    \n",
    "    # plot\n",
    "    if ax == None:\n",
    "        fig, ax = plt.subplots(figsize=(10,6))\n",
    "    \n",
    "    ax.set(xlim=(fmin, fmax))\n",
    "    ax.plot(f, X_mag)\n",
    "    plt.xlabel('Frequency (Hz)')\n",
    "    plt.grid()\n",
    "\n",
    "\n"
   ]
  },
  {
   "cell_type": "markdown",
   "id": "8833536b",
   "metadata": {
    "deletable": false,
    "editable": false,
    "nbgrader": {
     "cell_type": "markdown",
     "checksum": "5c05872d9602af4e74c5d63973f816ec",
     "grade": false,
     "grade_id": "cell-62f88067ace78023",
     "locked": true,
     "schema_version": 3,
     "solution": false,
     "task": false
    }
   },
   "source": [
    "### Magnitude Spectrum of a Vowel\n",
    "\n",
    "The `mag_spectrum()` function can be used to show the magnitude of the power spectrum of the first vowel in the utterance `utt1`."
   ]
  },
  {
   "cell_type": "code",
   "execution_count": null,
   "id": "8e234d2c",
   "metadata": {
    "deletable": false,
    "editable": false,
    "nbgrader": {
     "cell_type": "code",
     "checksum": "2d48672f8d4bbe0fad3cc0f60d1ffca2",
     "grade": false,
     "grade_id": "cell-5c6e050065184a86",
     "locked": true,
     "schema_version": 3,
     "solution": false,
     "task": false
    }
   },
   "outputs": [],
   "source": [
    "vowel = utt1[int(phone[1][0]*sr):int(phone[1][1]*sr)]\n",
    "\n",
    "mag_spectrum(vowel, sr, fmin=0, fmax=sr)"
   ]
  },
  {
   "cell_type": "markdown",
   "id": "902203a8",
   "metadata": {
    "deletable": false,
    "editable": false,
    "nbgrader": {
     "cell_type": "markdown",
     "checksum": "c5ec977a20f1efe4974c8daddfbf7430",
     "grade": false,
     "grade_id": "cell-2a01b706b67da57d",
     "locked": true,
     "schema_version": 3,
     "solution": false,
     "task": false
    }
   },
   "source": [
    "### Symmetry Property of the DFT\n",
    "\n",
    "As shown in the previous plot, if $x(n)$ is a sequence of real values, the coefficients of it's DFT have the property that $|X(k)| = |X(N-k)|$. For this reason, we can limit the range of the spectrum to half of the sampling frequency without loss of information."
   ]
  },
  {
   "cell_type": "code",
   "execution_count": null,
   "id": "82ee9f3a",
   "metadata": {
    "deletable": false,
    "editable": false,
    "nbgrader": {
     "cell_type": "code",
     "checksum": "e8cecddec5549ca8efd3696d1b564506",
     "grade": false,
     "grade_id": "cell-016d446d7f80ef3f",
     "locked": true,
     "schema_version": 3,
     "solution": false,
     "task": false
    }
   },
   "outputs": [],
   "source": [
    "mag_spectrum(vowel, sr)"
   ]
  },
  {
   "cell_type": "markdown",
   "id": "4e6fad3d",
   "metadata": {
    "deletable": false,
    "editable": false,
    "nbgrader": {
     "cell_type": "markdown",
     "checksum": "e7d186ebe988426fa398bcbb31a6cb86",
     "grade": false,
     "grade_id": "cell-e3e18a0e0881ea72",
     "locked": true,
     "schema_version": 3,
     "solution": false,
     "task": false
    }
   },
   "source": [
    "### Decibels relative to full scale (dBFS)\n",
    "\n",
    "Decibels relative to full scale (dBFS) is a measure of amplitude levels in decibels.\n",
    "\n",
    "If $v$ is the amplitude of the signal that we want to measure and $v_{0}$ a reference amplitude, the amplitude ratio in decibels is:\n",
    "$$\n",
    "L_{dB} = 20 \\log_{10}\\left( \\frac{v}{v_{0}}\\right)\n",
    "$$\n",
    "\n",
    "The measure of decibels realtive to full scale (dBFS) assumes that $v_0$ is the maximum possible value for $v$ such that:\n",
    "$$\n",
    "L_{dBFS}(v_{0}) = 0\\ dB\n",
    "$$\n",
    "\n",
    "When the amplitude is at 50% of the maximum level:\n",
    "$$\n",
    "L_{dBFS}\\left( \\frac{v_{0}}{2} \\right) \\approx -6\\ dB\n",
    "$$\n",
    "\n",
    "Many signals resulting from an analog to digital conversion are represented in an amplitude range of $[-1,1]$, which means that $v_{0}=1$.\n",
    "\n"
   ]
  },
  {
   "cell_type": "code",
   "execution_count": null,
   "id": "cbcfabc6",
   "metadata": {
    "deletable": false,
    "editable": false,
    "nbgrader": {
     "cell_type": "code",
     "checksum": "0a8deed8017d9f41413a1fcb0b21a652",
     "grade": false,
     "grade_id": "cell-115c986e0e2baa1f",
     "locked": true,
     "schema_version": 3,
     "solution": false,
     "task": false
    }
   },
   "outputs": [],
   "source": [
    "def mag_spectrum_dB(x, fs, fmin=0, fmax=0, ax=None):\n",
    "    \"\"\"\n",
    "    Plot the magnitude spectrum in decibels of sequence x using the sampling frequency fs\n",
    "    \"\"\"\n",
    "\n",
    "    X = fft(x)\n",
    "    X_mag_dB = 20*np.log10(np.absolute(X))\n",
    "    \n",
    "    \n",
    "    # the DFT samples the frequency range with N points\n",
    "    f = np.linspace(0,fs, X.size)\n",
    "\n",
    "    # plot frequency range\n",
    "    if (fmin < 0 or fmin>fs):\n",
    "        fmin = 0\n",
    "    if (fmax <= 0 or fmax>fs):\n",
    "        fmax = fs/2\n",
    "    \n",
    "    # plot\n",
    "    if ax == None:\n",
    "        fig, ax = plt.subplots(figsize=(10,6))\n",
    "    ax.set(xlim=(fmin, fmax))\n",
    "    ax.plot(f, X_mag_dB)\n",
    "    plt.xlabel('Frequency (Hz)')\n",
    "    plt.grid()\n",
    "    return ax\n"
   ]
  },
  {
   "cell_type": "markdown",
   "id": "0f251843",
   "metadata": {
    "deletable": false,
    "editable": false,
    "nbgrader": {
     "cell_type": "markdown",
     "checksum": "270d397f00c4e5433317f49337ac170a",
     "grade": false,
     "grade_id": "cell-9482f21da9cc585e",
     "locked": true,
     "schema_version": 3,
     "solution": false,
     "task": false
    }
   },
   "source": [
    "### Magnitude Spectrum in dBFS\n"
   ]
  },
  {
   "cell_type": "code",
   "execution_count": null,
   "id": "2f8b9c74",
   "metadata": {
    "deletable": false,
    "editable": false,
    "nbgrader": {
     "cell_type": "code",
     "checksum": "7061c6666b56b0346f66bd4605154907",
     "grade": false,
     "grade_id": "cell-7fd7707aed476609",
     "locked": true,
     "schema_version": 3,
     "solution": false,
     "task": false
    }
   },
   "outputs": [],
   "source": [
    "mag_spectrum_dB(vowel, sr)\n",
    "plt.show()\n"
   ]
  },
  {
   "cell_type": "markdown",
   "id": "835f483f",
   "metadata": {
    "deletable": false,
    "editable": false,
    "nbgrader": {
     "cell_type": "markdown",
     "checksum": "7b5084d0dc3cbb273169066f7be6c408",
     "grade": false,
     "grade_id": "cell-aecbae989dccfce2",
     "locked": true,
     "schema_version": 3,
     "solution": false,
     "task": false
    }
   },
   "source": [
    "### Linear vs Log Spectrum (T09)\n",
    "\n",
    "In the following text box compare the differences between the two magnitude spectrums plotted earlier. What features are more visible in the first and second plots?"
   ]
  },
  {
   "cell_type": "markdown",
   "id": "2f70d1ed",
   "metadata": {
    "deletable": false,
    "nbgrader": {
     "cell_type": "markdown",
     "checksum": "02fb01e3aa49a15ae04e805705e8b49e",
     "grade": true,
     "grade_id": "T09",
     "locked": false,
     "points": 10,
     "schema_version": 3,
     "solution": true,
     "task": false
    }
   },
   "source": [
    "YOUR ANSWER HERE"
   ]
  },
  {
   "cell_type": "markdown",
   "id": "8b9d9286",
   "metadata": {
    "deletable": false,
    "editable": false,
    "nbgrader": {
     "cell_type": "markdown",
     "checksum": "66f86a608d6a725524348d3f5ad324cf",
     "grade": false,
     "grade_id": "cell-905194ea3c0cdccd",
     "locked": true,
     "schema_version": 3,
     "solution": false,
     "task": false
    }
   },
   "source": [
    "### Windowing\n",
    "\n",
    "The function `mag_spectrum_dB()` computes da DFT with the same lenght as the input vector `x`. However, we may want to analyse a fixed-length region of the vowel closer to its middle when the signal is more stable. Also, the FFT is more efficient when the lenght of the signal is a power of 2."
   ]
  },
  {
   "cell_type": "code",
   "execution_count": null,
   "id": "dcc5305d",
   "metadata": {
    "deletable": false,
    "editable": false,
    "nbgrader": {
     "cell_type": "code",
     "checksum": "15adeac35defb2116d5bb1690e19bc96",
     "grade": false,
     "grade_id": "cell-6994670ca19df7f1",
     "locked": true,
     "schema_version": 3,
     "solution": false,
     "task": false
    }
   },
   "outputs": [],
   "source": [
    "N = 512\n",
    "win = np.hanning(N)\n",
    "\n",
    "midpoint = len(vowel)//2\n",
    "vowel512 = vowel[midpoint-(N//2):midpoint+(N//2)]*win\n",
    "\n",
    "librosa.display.waveshow(vowel512, sr=sr)\n",
    "mag_spectrum_dB(vowel512, sr, fmin=0, fmax=sr/2)"
   ]
  },
  {
   "cell_type": "markdown",
   "id": "4df81a73",
   "metadata": {
    "deletable": false,
    "editable": false,
    "nbgrader": {
     "cell_type": "markdown",
     "checksum": "f92895a662f3b929f78e12042e7db167",
     "grade": false,
     "grade_id": "cell-af3fbdae64eb47a8",
     "locked": true,
     "schema_version": 3,
     "solution": false,
     "task": false
    }
   },
   "source": [
    "### Narrow-band magnitude spectrum\n",
    "\n",
    "The DFT samples the DTFT in as many samples as the length of the signal. To have a higher frequency resolution (a narrow-band analysis) we need longer window."
   ]
  },
  {
   "cell_type": "code",
   "execution_count": null,
   "id": "3c58b184",
   "metadata": {
    "deletable": false,
    "editable": false,
    "nbgrader": {
     "cell_type": "code",
     "checksum": "bfa4d54b1bd6b6cb0e25d778c5613d7c",
     "grade": false,
     "grade_id": "cell-d35e28aaaf36ac8a",
     "locked": true,
     "schema_version": 3,
     "solution": false,
     "task": false
    }
   },
   "outputs": [],
   "source": [
    "N = 1024\n",
    "win = np.hanning(N)\n",
    "\n",
    "vowel1024 = vowel[midpoint-(N//2):midpoint+(N//2)]*win\n",
    "\n",
    "librosa.display.waveshow(vowel1024, sr=sr)\n",
    "mag_spectrum_dB(vowel1024, sr, fmin=0, fmax=sr/2)\n"
   ]
  },
  {
   "cell_type": "markdown",
   "id": "a1ba27cc",
   "metadata": {
    "deletable": false,
    "editable": false,
    "nbgrader": {
     "cell_type": "markdown",
     "checksum": "1d18fba5364ba8468175eaf60ad3bd94",
     "grade": false,
     "grade_id": "cell-ea6f5aa14b234056",
     "locked": true,
     "schema_version": 3,
     "solution": false,
     "task": false
    }
   },
   "source": [
    "#### Wide-band magnitude spectrum\n",
    "\n",
    "With a lower frequency resolution (a wide-band analysis) the envelope of the magnitude spectrum show the resonances of the vocal tract."
   ]
  },
  {
   "cell_type": "code",
   "execution_count": null,
   "id": "24fc6c78",
   "metadata": {
    "deletable": false,
    "editable": false,
    "nbgrader": {
     "cell_type": "code",
     "checksum": "c3c1c9847f201ee2d8e96c319d2d6d63",
     "grade": false,
     "grade_id": "cell-554e2cb55dd07571",
     "locked": true,
     "schema_version": 3,
     "solution": false,
     "task": false
    }
   },
   "outputs": [],
   "source": [
    "N = 256\n",
    "win = np.hanning(N)\n",
    "\n",
    "vowel256 = vowel[midpoint-(N//2):midpoint+(N//2)]*win\n",
    "\n",
    "librosa.display.waveshow(vowel256, sr=sr)\n",
    "mag_spectrum_dB(vowel256, sr, fmin=0, fmax=sr/2)\n",
    "\n"
   ]
  },
  {
   "cell_type": "markdown",
   "id": "88541745",
   "metadata": {
    "deletable": false,
    "editable": false,
    "nbgrader": {
     "cell_type": "markdown",
     "checksum": "1897da284beafb01910e1b6f83e7184c",
     "grade": false,
     "grade_id": "cell-ae8609fa5256e1d3",
     "locked": true,
     "schema_version": 3,
     "solution": false,
     "task": false
    }
   },
   "source": [
    "### Harmonic spectrum\n",
    "\n",
    "The quasi-periodicity of the vowel sound results in the presence of harmonic peaks in the magnitude spectrum.\n",
    "\n",
    "The frequency representation of the harmonic peaks depend on the window function used to weight the time samples"
   ]
  },
  {
   "cell_type": "code",
   "execution_count": null,
   "id": "668d7fcb",
   "metadata": {
    "deletable": false,
    "editable": false,
    "nbgrader": {
     "cell_type": "code",
     "checksum": "57d7d29285d823e15a1b4ca9b00a76fc",
     "grade": false,
     "grade_id": "cell-d70e89b9e0268fc5",
     "locked": true,
     "schema_version": 3,
     "solution": false,
     "task": false
    }
   },
   "outputs": [],
   "source": [
    "N = 1024\n",
    "win1 = np.ones(N)\n",
    "win2 = np.hanning(N)\n",
    "\n",
    "vow_win1 = vowel[midpoint-(N//2):midpoint+(N//2)]*win1\n",
    "vow_win2 = vowel[midpoint-(N//2):midpoint+(N//2)]*win2\n",
    "\n",
    "librosa.display.waveshow(vow_win1, sr=sr)\n",
    "librosa.display.waveshow(vow_win2, sr=sr)\n",
    "ax = mag_spectrum_dB(vow_win1, sr, fmin=0, fmax=sr/2)\n",
    "mag_spectrum_dB(vow_win2, sr, fmin=0, fmax=sr/2, ax=ax)\n"
   ]
  },
  {
   "cell_type": "markdown",
   "id": "54bd29d2",
   "metadata": {
    "deletable": false,
    "editable": false,
    "nbgrader": {
     "cell_type": "markdown",
     "checksum": "6bb758723a824c7d8b4e9db60c056364",
     "grade": false,
     "grade_id": "cell-5567ccb2a6c1d7cb",
     "locked": true,
     "schema_version": 3,
     "solution": false,
     "task": false
    }
   },
   "source": [
    "### Spectral Features of Windows Functions \n",
    "\n",
    "In the next text box explain the diferences observed is the magnitude spectrum resulting from the selection of the window. "
   ]
  },
  {
   "cell_type": "markdown",
   "id": "bf5848eb",
   "metadata": {
    "deletable": false,
    "nbgrader": {
     "cell_type": "markdown",
     "checksum": "534c25e677c390a6dfa4a1ca6a248f28",
     "grade": true,
     "grade_id": "T8",
     "locked": false,
     "points": 10,
     "schema_version": 3,
     "solution": true,
     "task": false
    }
   },
   "source": [
    "YOUR ANSWER HERE"
   ]
  },
  {
   "cell_type": "markdown",
   "id": "c6767ade",
   "metadata": {
    "deletable": false,
    "editable": false,
    "nbgrader": {
     "cell_type": "markdown",
     "checksum": "301ae4444caa05f780d7bbdcfbacda0f",
     "grade": false,
     "grade_id": "cell-a2877ff0af4dd48f",
     "locked": true,
     "schema_version": 3,
     "solution": false,
     "task": false
    }
   },
   "source": [
    "### Mel frequency spectrum\n",
    "\n",
    "The mel spectrum is a frequency representation where the frequencies are spaced acording to the mel scale and not evenly spaced like in the DFT. The mel is scales of frequencies such that each unit is judged by listeners to be equal in pitch distance from the next.\n",
    "\n",
    "The mel frequency scale can be approximated by:\n",
    "$$\n",
    "m(f) = 2595 \\log_{10} \\left( 1 + \\frac{f}{700} \\right)\n",
    "$$\n",
    "\n",
    "To compute a mel frequency spectrum, a series of overlapping triangle filters are applied to the magnitudes of the FFT spectrum. Each FFT value is multiplied by its corresponding value in each triangle filter. The resulting values are then summed up for each filter, creating a series of energy values in each mel frequency band. This process is often referred to as \"mel filtering\".\n",
    "\n",
    "The amplitudes of the filters can be normalized, so that each triangle has the same area, or not normalized, where all the filters have the same amplitude.\n",
    "\n"
   ]
  },
  {
   "cell_type": "code",
   "execution_count": null,
   "id": "8adda865",
   "metadata": {
    "deletable": false,
    "editable": false,
    "nbgrader": {
     "cell_type": "code",
     "checksum": "6d89b6107073496964c273921d2b3e7e",
     "grade": false,
     "grade_id": "cell-e963afd5e7227e4e",
     "locked": true,
     "schema_version": 3,
     "solution": false,
     "task": false
    }
   },
   "outputs": [],
   "source": [
    "def mel_spectrum_dB(x, fs, n_mels, fmin=0, fmax=0, ax=None):\n",
    "    \"\"\"\n",
    "    Plot the magnitude spectrum of sequence x\n",
    "    using the sampling frequency fs\n",
    "    \"\"\"\n",
    "\n",
    "    \n",
    "    # plot frequency range\n",
    "    if (fmin < 0 or fmin>fs):\n",
    "        fmin = 0\n",
    "    if (fmax <= 0 or fmax>fs):\n",
    "        fmax = fs/2\n",
    "\n",
    "    # mel scale spectrum  with n_mels bins, norm='slaney' does area normalization\n",
    "    X = librosa.feature.melspectrogram(y=x, sr=sr, norm=None, n_fft=N, hop_length=N, n_mels=n_mels, center=False)\n",
    "    X_mag_dB = 10*np.log10(np.abs(X))\n",
    "    \n",
    "    # mel scale frequencies\n",
    "    f = librosa.mel_frequencies(n_mels=n_mels, fmax=sr//2)\n",
    "\n",
    "    # plot\n",
    "    if ax == None:\n",
    "        fig, ax = plt.subplots(figsize=(10,6))\n",
    "    ax.set(xlim=(fmin, fmax))\n",
    "    ax.plot(f, X_mag_dB)\n",
    "    plt.xlabel('Frequency (Hz)')\n",
    "    plt.grid()\n",
    "    return ax"
   ]
  },
  {
   "cell_type": "markdown",
   "id": "e17434fa",
   "metadata": {
    "deletable": false,
    "editable": false,
    "nbgrader": {
     "cell_type": "markdown",
     "checksum": "c191004645717b2eff16f8c758324143",
     "grade": false,
     "grade_id": "cell-531865c4c179aac3",
     "locked": true,
     "schema_version": 3,
     "solution": false,
     "task": false
    }
   },
   "source": [
    "### Mel frequency resolution\n",
    "\n",
    "To represent a signal in a mel scale, one needs to define the number of filters in which to divide the frequency range.\n",
    "\n",
    "The number of filters used can vary depending on the specific application and the characteristics of the signal being analyzed. Typically, between 20 and 40 filters are used, with higher numbers of filters providing more detailed information about the frequency content of the signal. "
   ]
  },
  {
   "cell_type": "code",
   "execution_count": null,
   "id": "d91273ff",
   "metadata": {
    "deletable": false,
    "editable": false,
    "nbgrader": {
     "cell_type": "code",
     "checksum": "5f33b42f51df60710a2849ae2f8e3854",
     "grade": false,
     "grade_id": "cell-224561798862a66f",
     "locked": true,
     "schema_version": 3,
     "solution": false,
     "task": false
    }
   },
   "outputs": [],
   "source": [
    "n_mels = 16\n",
    "\n",
    "ax = mag_spectrum_dB(vowel1024, sr)\n",
    "mel_spectrum_dB(vowel1024, sr, n_mels, ax=ax)\n",
    "plt.show()"
   ]
  },
  {
   "cell_type": "markdown",
   "id": "198ba685",
   "metadata": {
    "deletable": false,
    "editable": false,
    "nbgrader": {
     "cell_type": "markdown",
     "checksum": "4b81ca4651cb92a3ff052242f75f6e30",
     "grade": false,
     "grade_id": "cell-0f760e30a47d8216",
     "locked": true,
     "schema_version": 3,
     "solution": false,
     "task": false
    }
   },
   "source": [
    "### Mel-frequency cepstral coefficients (MFCC)\n",
    "\n",
    "\n",
    "The computation of the MFCCs takes the following steps:\n",
    "\n",
    "1. Compute the discrete Fourier transform (DFT) of the signal\n",
    "$$\n",
    "X(k)=\\sum_{n=0}^{N-1} x(n) e^{-j\\frac{2\\pi}{N}kn},\\;0 \\leq k \\leq N-1\n",
    "$$\n",
    "\n",
    "2. Compute the mel-frequency spectrum:\n",
    "\n",
    "$$\n",
    "M(r) = \\frac{1}{A_{r}} \\sum_{k=L_{r}}^{U_{r}} |V_{r}(k) X(k)|\n",
    "$$\n",
    "where $V_{r}(k)$ is the triangular weighting function for the 𝑟-th filter, $L_{r}$ and $U_{r}$ are the lower and upper indices of the frequencies of the triangular filter, $A_r$ is the amplitude normalization factor of the filter. This groups the DFT values in critical bands.\n",
    "\n",
    "3. Compute the discrete cosine transform (DCT) of the logarithm of the magnitude of the filter outputs:\n",
    "\n",
    "$$\n",
    "MFCC(m) = \\frac{1}{R} \\sum_{r=1}^{R} \\ln(M(r)) \\cos\\left( \\frac{\\pi}{R}\\left( r + \\frac{1}{2} \\right)m \\right)\n",
    "$$\n",
    "where $R$ is the number of mel filters.\n",
    "\n",
    "The MFCC coefficients provide a more compact representation of the signal spectral contents when compared, for example, with the mel-frequency spectrum."
   ]
  },
  {
   "cell_type": "code",
   "execution_count": null,
   "id": "182828bc",
   "metadata": {
    "deletable": false,
    "editable": false,
    "nbgrader": {
     "cell_type": "code",
     "checksum": "15032537bc64d7a94374a881e4a3e45b",
     "grade": false,
     "grade_id": "cell-2a30627d1c676583",
     "locked": true,
     "schema_version": 3,
     "solution": false,
     "task": false
    }
   },
   "outputs": [],
   "source": [
    "def mfcc_dB(x, n_mfcc):\n",
    "    \"\"\"\n",
    "    Plot the mel frequency coefficients (MFCC) of sequence x\n",
    "    \"\"\"\n",
    "\n",
    "\n",
    "    # mel scale spectrum  with n_mels bins, norm='slaney' does area normalization\n",
    "    n_mels = n_mfcc\n",
    "    X = librosa.feature.melspectrogram(y=x, sr=sr, norm='slaney', n_fft=N, hop_length=N, n_mels=n_mels, center=False)\n",
    "    mfccs = librosa.feature.mfcc(S=librosa.power_to_db(X), n_mfcc=n_mfcc)\n",
    "\n",
    "    k = np.arange(0, n_mfcc, 1)\n",
    "\n",
    "    # plot\n",
    "\n",
    "    fig, ax = plt.subplots(figsize=(10,6))\n",
    "    ax.plot(k, mfccs)\n",
    "    plt.xlabel('MFCC')\n",
    "    plt.grid()\n",
    "    return ax"
   ]
  },
  {
   "cell_type": "markdown",
   "id": "133b3833",
   "metadata": {
    "deletable": false,
    "editable": false,
    "nbgrader": {
     "cell_type": "markdown",
     "checksum": "151be85a2ae7b220d0a66ec1a6347403",
     "grade": false,
     "grade_id": "cell-be823f3e9d2594d3",
     "locked": true,
     "schema_version": 3,
     "solution": false,
     "task": false
    }
   },
   "source": [
    "#### MFCC visualization"
   ]
  },
  {
   "cell_type": "code",
   "execution_count": null,
   "id": "06ea398f",
   "metadata": {
    "deletable": false,
    "editable": false,
    "nbgrader": {
     "cell_type": "code",
     "checksum": "781eeba973c07991e52d557986a868dd",
     "grade": false,
     "grade_id": "cell-29c0672db1b7d4fd",
     "locked": true,
     "schema_version": 3,
     "solution": false,
     "task": false
    }
   },
   "outputs": [],
   "source": [
    "\n",
    "n_mfcc = 20\n",
    "\n",
    "mfcc_dB(vowel1024, n_mfcc)\n",
    "plt.show()"
   ]
  },
  {
   "cell_type": "markdown",
   "id": "9b132706",
   "metadata": {
    "deletable": false,
    "editable": false,
    "nbgrader": {
     "cell_type": "markdown",
     "checksum": "e92e64280e24448ee3caa1213211f611",
     "grade": false,
     "grade_id": "cell-604fe68c6de34ca9",
     "locked": true,
     "schema_version": 3,
     "solution": false,
     "task": false
    }
   },
   "source": [
    "### short-time Fourier transform (STFT)\n",
    "\n",
    "The short-time Fourier transform is a type of Fourier analysis used to determine the frequency content of a signal over short, fixed-length time intervals. It is used in many applications, such as speech processing and musical analysis. The STFT is based on the conventional Fourier transform, but it divides the signal into overlapping segments and then performs a Fourier analysis for each segment. This results in a two-dimensional representation of the signal, where the frequency is on one axis and time on the other. Different resolutions can be obtained for analyzing different aspects of the signal by varying the size and position of the segments.\n",
    "\n",
    "The signal segmentation is performed by multiplying the signal by a window function $w(n)$ that is zero-valued outside a specified interval. For example the rectangular window:\n",
    "$$\n",
    "w_{r}(n) =\n",
    "\\begin{cases}\n",
    "1, & 0 \\le n \\le M-1 \\\\\n",
    "0, & \\text{otherwise}\n",
    "\\end{cases}\n",
    "$$\n",
    "\n",
    "The short-time Fourier transform, $X(n, \\omega)$ is a two-dimensional representation of the signal $x(n)$:\n",
    "$$\n",
    "X(n, \\omega) = \\sum_{m=-\\infty}^{+\\infty} x(n+m)w(m) e^{-j\\omega (n+m)} \n",
    "$$\n",
    "\n",
    "If we use the discrete Fourier transform (DFT):\n",
    "\n",
    "$$\n",
    "X(n,k) = \\sum_{m=0}^{M-1}x(n+m)w(m) e^{-j \\frac{2\\pi}{M}(n+m)},\\ 0\\le k \\le M-1\n",
    "$$\n"
   ]
  },
  {
   "cell_type": "markdown",
   "id": "abbcd9f3",
   "metadata": {
    "deletable": false,
    "editable": false,
    "nbgrader": {
     "cell_type": "markdown",
     "checksum": "9fcff3b90914d582965856a14234ee6e",
     "grade": false,
     "grade_id": "cell-c629cad63c5254e6",
     "locked": true,
     "schema_version": 3,
     "solution": false,
     "task": false
    }
   },
   "source": [
    "### Spectrogram of a signal\n",
    "\n",
    "The spectrogram of a time-domain signal is a representation of the magnitude of the short-time Fourier transform (STFT) ($X(n,k)$) of a signal.\n",
    "\n",
    "To facilitate the analysis of the signal, it is common to use the time axis in seconds or milliseconds and the frequency axis in Hz. The value of the amplitude of the spectrum at each point is represented with a darker color for low values and brighter color for higher values.\n",
    "\n",
    "For better visualization of the entire range of amplitudes, it is frequent to represent them in decibels (dB).\n",
    "\n",
    "The short-time Fourier transform can be computed with the `librosa.stft()` function. The resulting linear amplitudes need to be converted to dB. The function `librosa.display.specshow()` function can then be used to display the spectrogram as a frequency versus time representation of the signal."
   ]
  },
  {
   "cell_type": "code",
   "execution_count": null,
   "id": "11e796c5",
   "metadata": {
    "deletable": false,
    "editable": false,
    "nbgrader": {
     "cell_type": "code",
     "checksum": "f117806a7239e13f101e6be47eaf52c3",
     "grade": false,
     "grade_id": "cell-d3f27253635af599",
     "locked": true,
     "schema_version": 3,
     "solution": false,
     "task": false
    }
   },
   "outputs": [],
   "source": [
    "def spectrogram(x, fs, n_fft=512, win_length=512, hop_length=64, window='hann'):\n",
    "    D = librosa.stft(x, n_fft=n_fft, win_length=win_length, hop_length=hop_length, window=window)\n",
    "    DAbsdB = librosa.amplitude_to_db(np.abs(D), ref=np.max)\n",
    "    return DAbsdB\n",
    "\n"
   ]
  },
  {
   "cell_type": "markdown",
   "id": "fbdcd054",
   "metadata": {
    "deletable": false,
    "editable": false,
    "nbgrader": {
     "cell_type": "markdown",
     "checksum": "c345b1e66a93ef1bd68544553eedd658",
     "grade": false,
     "grade_id": "cell-49d6b56732220902",
     "locked": true,
     "schema_version": 3,
     "solution": false,
     "task": false
    }
   },
   "source": [
    "### Spectrogram of a Speech Segment\n",
    "\n",
    "Use the spectrogram() function to plot the spectrogram of the first words of `utt1`"
   ]
  },
  {
   "cell_type": "code",
   "execution_count": null,
   "id": "44001f7f",
   "metadata": {
    "deletable": false,
    "editable": false,
    "nbgrader": {
     "cell_type": "code",
     "checksum": "29df84f2f0815f528d17193ad6c84754",
     "grade": false,
     "grade_id": "cell-ec563aa369897cb8",
     "locked": true,
     "schema_version": 3,
     "solution": false,
     "task": false
    }
   },
   "outputs": [],
   "source": [
    "\n",
    "DAbsdB = spectrogram(seg, sr)\n",
    "fig, ax = plt.subplots(figsize=(10,8))\n",
    "img = librosa.display.specshow(DAbsdB, ax=ax, x_axis='time', y_axis='linear')\n",
    "ax.set(title='Linear-frequency power spectrogram')\n",
    "ax.label_outer()\n",
    "fig.colorbar(img, ax=ax, format=\"%+2.f dB\")\n",
    "\n",
    "Audio(data=seg, rate=sr)"
   ]
  },
  {
   "cell_type": "markdown",
   "id": "bcf60f08",
   "metadata": {
    "deletable": false,
    "editable": false,
    "nbgrader": {
     "cell_type": "markdown",
     "checksum": "e4860beff5c8cfeca0348d80a6daf8ae",
     "grade": false,
     "grade_id": "cell-caa422b8376c304d",
     "locked": true,
     "schema_version": 3,
     "solution": false,
     "task": false
    }
   },
   "source": [
    "### Waveform and Spectrogram\n",
    "\n",
    "It is frequently useful to have a simultaneous view of both the spectrogram and the time domain waveform aligned in time."
   ]
  },
  {
   "cell_type": "code",
   "execution_count": null,
   "id": "8485ab3c",
   "metadata": {
    "deletable": false,
    "editable": false,
    "nbgrader": {
     "cell_type": "code",
     "checksum": "0a57879ffc4a34f02e01c12b2fdf0117",
     "grade": false,
     "grade_id": "cell-b41d88635338bd24",
     "locked": true,
     "schema_version": 3,
     "solution": false,
     "task": false
    }
   },
   "outputs": [],
   "source": [
    "def spec_wave_show(x, fs, tmin=0, tmax=0, n_fft=1024, win_length=1024, hop_length=128, window='hann'):\n",
    "    \"\"\"\n",
    "    Plot a spectrogram and a waveform of a signal x\n",
    "    \"\"\"\n",
    "    if (tmax == 0):\n",
    "        tmax = x.shape[0]/fs\n",
    "    nseg = np.arange(np.floor(tmin*fs), np.floor(tmax*fs), dtype=int)\n",
    "\n",
    "    D = librosa.stft(x, n_fft=n_fft, win_length=win_length, hop_length=hop_length, window=window)\n",
    "    DAbsdB = librosa.amplitude_to_db(np.abs(D), ref=np.max)\n",
    "\n",
    "    fig, ax = plt.subplots(figsize=(10,8), nrows=2, sharex=True, gridspec_kw={'height_ratios': [4, 1]})\n",
    "    ax[0].set(xlim=[tmin, tmax])\n",
    "    librosa.display.specshow(DAbsdB, n_fft=n_fft, win_length=win_length, hop_length=hop_length, sr=fs, ax=ax[0], x_axis='time', y_axis='linear')\n",
    "    ax[0].set(title='Linear-frequency power spectrogram')\n",
    "    librosa.display.waveshow(x, sr=fs, axis='time')\n",
    "    display(Audio(data=x[nseg], rate=fs))\n",
    "    plt.tight_layout()\n",
    "    plt.show()\n",
    "    return fig, ax\n",
    "\n",
    "img, ax = spec_wave_show(seg, sr)"
   ]
  },
  {
   "cell_type": "markdown",
   "id": "9ff0b509",
   "metadata": {
    "deletable": false,
    "editable": false,
    "nbgrader": {
     "cell_type": "markdown",
     "checksum": "225c09bbbd5fec18e4fa2128bae5baad",
     "grade": false,
     "grade_id": "cell-22ddc06915514e28",
     "locked": true,
     "schema_version": 3,
     "solution": false,
     "task": false
    }
   },
   "source": [
    "### Visualization of Plosives (T10)\n",
    "\n",
    "In the previous spectrogram the plosives are not very visible in the spectrogram. Selected a different frame size to make it more noticeable.\n"
   ]
  },
  {
   "cell_type": "code",
   "execution_count": null,
   "id": "8f0f8b2d",
   "metadata": {
    "deletable": false,
    "nbgrader": {
     "cell_type": "code",
     "checksum": "b27773dd96f9d42b406d91ca63aa4c97",
     "grade": false,
     "grade_id": "T10",
     "locked": false,
     "schema_version": 3,
     "solution": true,
     "task": false
    }
   },
   "outputs": [],
   "source": [
    "# YOUR CODE HERE\n",
    "raise NotImplementedError()\n",
    "img, ax = spec_wave_show(seg, sr, n_fft=fsize, win_length=fsize, hop_length=fsize//4, window='hann')"
   ]
  },
  {
   "cell_type": "code",
   "execution_count": null,
   "id": "4a61d2be",
   "metadata": {
    "deletable": false,
    "editable": false,
    "nbgrader": {
     "cell_type": "code",
     "checksum": "216b9d1f0399f41ce5b9f63577eb0066",
     "grade": true,
     "grade_id": "T10t",
     "locked": true,
     "points": 10,
     "schema_version": 3,
     "solution": false,
     "task": false
    }
   },
   "outputs": [],
   "source": [
    "assert (fsize & (fsize-1) == 0) and fsize != 0"
   ]
  },
  {
   "cell_type": "markdown",
   "id": "14f3f05f",
   "metadata": {
    "deletable": false,
    "editable": false,
    "nbgrader": {
     "cell_type": "markdown",
     "checksum": "85991ba72a6ba4c6997126d209369e0b",
     "grade": false,
     "grade_id": "cell-f50bbd5d8d5d9cdb",
     "locked": true,
     "schema_version": 3,
     "solution": false,
     "task": false
    }
   },
   "source": [
    "### Mel Spectrogram\n",
    "\n",
    "All frequency analysis made for a segment of the vowel I can be represented in a spectrogram plot. Such is the case of the mel-frequency spectrum"
   ]
  },
  {
   "cell_type": "code",
   "execution_count": null,
   "id": "895efcec",
   "metadata": {
    "deletable": false,
    "editable": false,
    "nbgrader": {
     "cell_type": "code",
     "checksum": "49e5c3609783237c2e1eb1bfa07d7101",
     "grade": false,
     "grade_id": "cell-c5de14a5a8ba149f",
     "locked": true,
     "schema_version": 3,
     "solution": false,
     "task": false
    }
   },
   "outputs": [],
   "source": [
    "def mel_spectrogram(y, sr, n_mels=128):\n",
    "    # Compute mel-spectrogram\n",
    "    mel_spect = librosa.feature.melspectrogram(y=y, sr=sr, n_mels=n_mels)\n",
    "    # Convert power to dB\n",
    "    mel_spect_dB = librosa.power_to_db(mel_spect, ref=np.max)\n",
    "    return mel_spect_dB"
   ]
  },
  {
   "cell_type": "markdown",
   "id": "de41cfde",
   "metadata": {
    "deletable": false,
    "editable": false,
    "nbgrader": {
     "cell_type": "markdown",
     "checksum": "b67a1f7ed90f41038f58280c6239c0cf",
     "grade": false,
     "grade_id": "cell-e380400065d326c3",
     "locked": true,
     "schema_version": 3,
     "solution": false,
     "task": false
    }
   },
   "source": [
    "### Example of a Mel Spectrogram"
   ]
  },
  {
   "cell_type": "code",
   "execution_count": null,
   "id": "19e6151a",
   "metadata": {
    "deletable": false,
    "editable": false,
    "nbgrader": {
     "cell_type": "code",
     "checksum": "c63156a89ac9b4c8bb197d420b7af4cb",
     "grade": false,
     "grade_id": "cell-d1f5d4a3cf84522f",
     "locked": true,
     "schema_version": 3,
     "solution": false,
     "task": false
    }
   },
   "outputs": [],
   "source": [
    "mel_spect = mel_spectrogram(seg, sr, n_mels=64)\n",
    "plt.figure(figsize=(12, 4))\n",
    "librosa.display.specshow(mel_spect, y_axis='mel', x_axis='time')\n",
    "plt.title('Mel-Spectrogram')\n",
    "plt.colorbar(format='%+2.0f dB')\n",
    "plt.show()"
   ]
  },
  {
   "cell_type": "markdown",
   "id": "6c0e0ac2",
   "metadata": {
    "deletable": false,
    "editable": false,
    "nbgrader": {
     "cell_type": "markdown",
     "checksum": "756239155274e257247d44e60e3fdd11",
     "grade": false,
     "grade_id": "cell-a85ef9830755a5f6",
     "locked": true,
     "schema_version": 3,
     "solution": false,
     "task": false
    }
   },
   "source": [
    "### MFCC Spectrogram\n",
    "\n",
    "The mel-frequency cepstral coefficients (MFCC) can also be represented in a spectrogram."
   ]
  },
  {
   "cell_type": "code",
   "execution_count": null,
   "id": "5a52aa72",
   "metadata": {
    "deletable": false,
    "editable": false,
    "nbgrader": {
     "cell_type": "code",
     "checksum": "410d67287f3976ef32dda89026405e7f",
     "grade": false,
     "grade_id": "cell-736bddf12f51e8f9",
     "locked": true,
     "schema_version": 3,
     "solution": false,
     "task": false
    }
   },
   "outputs": [],
   "source": [
    "def mfcc(y, sr, n_mels=64, n_mfcc=13):\n",
    "    # Compute mel-spectrogram\n",
    "    mel_spect = librosa.feature.melspectrogram(y=y, sr=sr, n_mels=n_mels)\n",
    "    # Compute MFCCs from mel-spectrogram\n",
    "    mfccs = librosa.feature.mfcc(S=librosa.power_to_db(mel_spect), n_mfcc=n_mfcc)\n",
    "    return mfccs"
   ]
  },
  {
   "cell_type": "markdown",
   "id": "3915fdd6",
   "metadata": {
    "deletable": false,
    "editable": false,
    "nbgrader": {
     "cell_type": "markdown",
     "checksum": "034ed875f964c8cfbb15be0c05b39c21",
     "grade": false,
     "grade_id": "cell-bf4f987b528fb6d0",
     "locked": true,
     "schema_version": 3,
     "solution": false,
     "task": false
    }
   },
   "source": [
    "### Example of a MFCC Spectrogram\n",
    "\n",
    "The MFCCs can capture the spectral stability. They are also less sentive to variations of the fundamental frequency than other representations"
   ]
  },
  {
   "cell_type": "code",
   "execution_count": null,
   "id": "a0d5628f",
   "metadata": {
    "deletable": false,
    "editable": false,
    "nbgrader": {
     "cell_type": "code",
     "checksum": "411eb6c67917f5a5b2c5bf24c2aa1553",
     "grade": false,
     "grade_id": "cell-648ee27796f020fa",
     "locked": true,
     "schema_version": 3,
     "solution": false,
     "task": false
    }
   },
   "outputs": [],
   "source": [
    "mfccs = librosa.feature.mfcc(y=seg, sr=sr, n_mfcc=20)\n",
    "fig, ax = plt.subplots(figsize=(10,8), nrows=3, sharex=True, gridspec_kw={'height_ratios': [3, 3, 1]})\n",
    "librosa.display.specshow(mel_spect, ax=ax[0], x_axis='time', y_axis='mel')\n",
    "librosa.display.specshow(mfccs, ax=ax[1], x_axis='time')\n",
    "ax[1].set(ylabel='MFCC')\n",
    "librosa.display.waveshow(seg, sr=sr, axis='time', ax=ax[2])\n",
    "plt.tight_layout()"
   ]
  },
  {
   "cell_type": "markdown",
   "id": "96f732af",
   "metadata": {
    "deletable": false,
    "editable": false,
    "nbgrader": {
     "cell_type": "markdown",
     "checksum": "d53dd8208c5d6e9deae73b75accf29aa",
     "grade": false,
     "grade_id": "cell-15b7cc894b1bce59",
     "locked": true,
     "schema_version": 3,
     "solution": false,
     "task": false
    }
   },
   "source": [
    "### Fundamental Frequency Estimation and Voice/Unvoice Detection\n",
    "\n",
    "The fundamental frequency is the frequency of the first harmonic of a periodic signal. In speech processing the fundamental frequency is often referred by f0 or pitch.\n",
    "\n",
    "In this lab we will use the estimator pyin() provide by the libROSA package.\n",
    "\n",
    "To show the performance of the algorithm in tracking the first harmonic of the signal we can plot the spectrogram in a logarithmic frequency scale and overlap the f0 values produced by the estimator.\n",
    "\n",
    "You can see the f0 decay typical of a declarative utterance. You also observe the intonation breaks when the decaying pattern is interrupted.\n"
   ]
  },
  {
   "cell_type": "code",
   "execution_count": null,
   "id": "06c95113",
   "metadata": {
    "deletable": false,
    "editable": false,
    "nbgrader": {
     "cell_type": "code",
     "checksum": "02102c3cf22f65cca6d35bbe3afec1d6",
     "grade": false,
     "grade_id": "cell-2f36d35423b7a575",
     "locked": true,
     "schema_version": 3,
     "solution": false,
     "task": false
    }
   },
   "outputs": [],
   "source": [
    "f0, voiced_flag, voiced_probs = librosa.pyin(utt1, fmin=100, fmax=360)\n",
    "times = librosa.times_like(f0)\n",
    "D = librosa.amplitude_to_db(np.abs(librosa.stft(utt1)), ref=np.max)\n",
    "fig, ax = plt.subplots(figsize=(10,8), nrows=2, sharex=True, gridspec_kw={'height_ratios': [4, 1]})\n",
    "img = librosa.display.specshow(D, x_axis='time', y_axis='log', ax=ax[0])\n",
    "ax[0].set(title='pYIN fundamental frequency estimation')\n",
    "#fig.colorbar(img, ax=ax, format=\"%+2.f dB\")\n",
    "ax[0].plot(times, f0, label='f0', color='cyan', linewidth=4)\n",
    "ax[0].legend(loc='upper right')\n",
    "librosa.display.waveshow(utt1, sr=sr, axis='time', ax=ax[1])\n",
    "plt.tight_layout()\n",
    "display(Audio(data=utt1, rate=sr))"
   ]
  },
  {
   "cell_type": "markdown",
   "id": "a26b6bc9",
   "metadata": {
    "deletable": false,
    "editable": false,
    "nbgrader": {
     "cell_type": "markdown",
     "checksum": "5011a9b54ea15fea2b47bd6ec74dad4d",
     "grade": false,
     "grade_id": "cell-2657895e99c008f9",
     "locked": true,
     "schema_version": 3,
     "solution": false,
     "task": false
    }
   },
   "source": [
    "### Interpolation of F0 Values\n",
    "\n",
    "The frame-based fundamental frequency estimator produces a f0 value for every frame. We want to interpolate these values to have a value of f0 for every sample of the signal.\n",
    "\n",
    "The function scipy.interpolate.interp1d() can help with the interpolation."
   ]
  },
  {
   "cell_type": "code",
   "execution_count": null,
   "id": "dd05d856",
   "metadata": {
    "deletable": false,
    "editable": false,
    "nbgrader": {
     "cell_type": "code",
     "checksum": "f55638245768bdbbc21bb362ba1d1a8d",
     "grade": false,
     "grade_id": "cell-7ba7b6bf85014039",
     "locked": true,
     "schema_version": 3,
     "solution": false,
     "task": false
    }
   },
   "outputs": [],
   "source": [
    "from scipy.interpolate import interp1d\n",
    "\n",
    "def sig_f0(x, sr, frame_length, hop_length):\n",
    "    \"\"\"Estimates and interpolates the F0 for every time sample of given signal x\"\"\" \n",
    "    t = np.linspace(0, len(x)/sr, len(x))\n",
    "    x_pad = pad_signal(x, frame_length, hop_length)\n",
    "    f0, voiced_flag, voiced_probs = librosa.pyin(x_pad, fmin=60, fmax=360, sr=sr, \n",
    "                                                 frame_length=frame_length, \n",
    "                                                 hop_length=hop_length)\n",
    "    t_f0 = np.linspace(0, len(x)/sr, len(f0))\n",
    "    # Interpolate the F0 estimates to cover the entire time range\n",
    "    interpf0 = interp1d(t_f0, f0)\n",
    "    f0i = interpf0(t)\n",
    "    f0i = np.nan_to_num(f0i, nan=0)\n",
    "    return f0i\n",
    "\n"
   ]
  },
  {
   "cell_type": "markdown",
   "id": "5445b18f",
   "metadata": {
    "deletable": false,
    "editable": false,
    "nbgrader": {
     "cell_type": "markdown",
     "checksum": "436a18ed71b847a1c078c1e772d53763",
     "grade": false,
     "grade_id": "cell-fb614ff03a11f88f",
     "locked": true,
     "schema_version": 3,
     "solution": false,
     "task": false
    }
   },
   "source": [
    "### Visualization of the Interpolated F0"
   ]
  },
  {
   "cell_type": "code",
   "execution_count": null,
   "id": "d9012316",
   "metadata": {
    "deletable": false,
    "editable": false,
    "nbgrader": {
     "cell_type": "code",
     "checksum": "4e7cd7cb8722babb2f162926bbe5e100",
     "grade": false,
     "grade_id": "cell-f764199cf7f4d85b",
     "locked": true,
     "schema_version": 3,
     "solution": false,
     "task": false
    }
   },
   "outputs": [],
   "source": [
    "fsize = 1024\n",
    "hop = 256\n",
    "utt1_f0 = sig_f0(utt1, sr, fsize, hop)\n",
    "t = np.linspace(0, len(utt1)/sr, len(utt1))\n",
    "fig, ax = plt.subplots(nrows=2, sharex=True)\n",
    "ax[0].plot(t, utt1_f0, label='f0')\n",
    "librosa.display.waveshow(utt1, sr=sr, axis='time', ax=ax[1])\n",
    "plt.tight_layout()"
   ]
  },
  {
   "cell_type": "markdown",
   "id": "2f8b416b",
   "metadata": {
    "deletable": false,
    "editable": false,
    "jp-MarkdownHeadingCollapsed": true,
    "nbgrader": {
     "cell_type": "markdown",
     "checksum": "0a377835f748b4afb11403778d059089",
     "grade": false,
     "grade_id": "cell-fc85371c00544fa9",
     "locked": true,
     "schema_version": 3,
     "solution": false,
     "task": false
    }
   },
   "source": [
    "### Interpolated RMS Values (T11)\n",
    "\n",
    "\n",
    "The root mean square (RMS) of a sequence of $N$ values is the square root of the arithmetic mean of the squares of the values, that is\n",
    "$$\n",
    "x_{RMS}=\\sqrt{ \\frac{1}{N} \\sum_{n=0}^{N-1}\\left[x(n)\\right]^{2}}\n",
    "$$\n",
    "\n",
    "The value $(x_{RMS})^{2}$ is the _power_ of a signal, that is, its _energy_ over a period time.\n",
    "\n",
    "Write a function that computes the RMS value for each frame and then linearly interpolate the values to produce a vector with the same lenght as the speech signal. You may want to use the `pad_signal()` function previously defined."
   ]
  },
  {
   "cell_type": "code",
   "execution_count": null,
   "id": "11361525",
   "metadata": {
    "deletable": false,
    "nbgrader": {
     "cell_type": "code",
     "checksum": "60379b8d1fcb1ac9f12367032d6adc44",
     "grade": false,
     "grade_id": "T11",
     "locked": false,
     "schema_version": 3,
     "solution": true,
     "task": false
    }
   },
   "outputs": [],
   "source": [
    "def sig_rms(x, frame_length, hop_length):\n",
    "    \"\"\"Computes and interpolates RMS values for every sample of a given signal x\"\"\"\n",
    "# YOUR CODE HERE\n",
    "raise NotImplementedError()\n",
    "    return rmsi[0:N]"
   ]
  },
  {
   "cell_type": "code",
   "execution_count": null,
   "id": "a9b72952",
   "metadata": {
    "deletable": false,
    "editable": false,
    "nbgrader": {
     "cell_type": "code",
     "checksum": "d8ece786d5e9545b730487fef6924b2c",
     "grade": true,
     "grade_id": "T11t",
     "locked": true,
     "points": 10,
     "schema_version": 3,
     "solution": false,
     "task": false
    }
   },
   "outputs": [],
   "source": [
    "\n",
    "assert np.isclose(np.sum(sig_rms(np.ones(3), 2, 1)), 3)"
   ]
  },
  {
   "cell_type": "markdown",
   "id": "97b39adb",
   "metadata": {
    "deletable": false,
    "editable": false,
    "nbgrader": {
     "cell_type": "markdown",
     "checksum": "6634565c2efc2e0103ba7dc2177af50e",
     "grade": false,
     "grade_id": "cell-e1099a95baca36ae",
     "locked": true,
     "schema_version": 3,
     "solution": false,
     "task": false
    }
   },
   "source": [
    "### Visualization of the Interpolated RMS"
   ]
  },
  {
   "cell_type": "code",
   "execution_count": null,
   "id": "10465efd",
   "metadata": {
    "deletable": false,
    "editable": false,
    "nbgrader": {
     "cell_type": "code",
     "checksum": "fdc7ecc89b85bcb3132296f6af0e74c4",
     "grade": false,
     "grade_id": "cell-94efec3ba646c3dc",
     "locked": true,
     "schema_version": 3,
     "solution": false,
     "task": false
    }
   },
   "outputs": [],
   "source": [
    "fsize = 1024\n",
    "hop = 256\n",
    "utt1_rms = sig_rms(utt1, fsize, hop)\n",
    "fig, ax = plt.subplots(nrows=2, sharex=True)\n",
    "ax[0].plot(t, utt1_rms, label='RMS')\n",
    "librosa.display.waveshow(utt1, sr=sr, axis='time', ax=ax[1])\n",
    "plt.tight_layout()"
   ]
  },
  {
   "cell_type": "markdown",
   "id": "39f99283-0faf-443e-9e9f-b377c6980ad7",
   "metadata": {
    "deletable": false,
    "editable": false,
    "jp-MarkdownHeadingCollapsed": true,
    "nbgrader": {
     "cell_type": "markdown",
     "checksum": "4213ed6d56fe7b8a87ede2ce2b0a9980",
     "grade": false,
     "grade_id": "cell-7906afee38098cce",
     "locked": true,
     "schema_version": 3,
     "solution": false,
     "task": false
    }
   },
   "source": [
    "## Model of Speech Production"
   ]
  },
  {
   "cell_type": "markdown",
   "id": "ec22ddf9",
   "metadata": {
    "deletable": false,
    "editable": false,
    "nbgrader": {
     "cell_type": "markdown",
     "checksum": "244a27fbe26a0b6fecd628a64f5f161d",
     "grade": false,
     "grade_id": "cell-393d844e5e5d143f",
     "locked": true,
     "schema_version": 3,
     "solution": false,
     "task": false
    }
   },
   "source": [
    "### Formants\n",
    "\n",
    "The resonances of the vocal tract, known as formants, can be accurately approximated as second order resonant filters. These formants are created by the shaping of the vocal tract, which acts as a series of resonant cavities. Each of these cavities has a resonant frequency, which determines the frequency at which it will naturally vibrate.\n",
    "\n",
    "By using second order resonant filters to model these formants, the formant synthesizer can simulate the acoustic characteristics of the vocal tract, allowing it to produce vowel sounds and other vocal sounds.\n",
    "\n",
    "In this example we will model the vocal tract with a cascade of two second order resonant filters."
   ]
  },
  {
   "cell_type": "markdown",
   "id": "0ecf1473",
   "metadata": {
    "deletable": false,
    "editable": false,
    "nbgrader": {
     "cell_type": "markdown",
     "checksum": "751d84a34556977bb7e3931593579ffd",
     "grade": false,
     "grade_id": "cell-9619628eadba1f27",
     "locked": true,
     "schema_version": 3,
     "solution": false,
     "task": false
    }
   },
   "source": [
    "### Second-Order Discrete-Time System\n",
    "\n",
    "\n",
    "A second-order discrete-time system has the following transfer function\n",
    "$$\n",
    "H(z) = \\frac{K}{1-a_1 z^{-1} - a_2 z^{-2}}\n",
    "$$\n",
    "where $K$ is the static gain.\n",
    "\n",
    "The transfer function that can be written in terms of its poles:\n",
    "$$\n",
    "H(z) = K \\frac{(1-z_1 z^{-1})(1-z_2 z^{-1})}{(1-p_1 z^{-1})(1-p_2 z^{-1})}\n",
    "$$\n",
    "\n",
    "where $p_1$ and $p_2$ are the complex roots of the denominator of $H(z)$ known as poles.\n",
    "\n",
    "If $K=1$, the system can be implemented as\n",
    "$$\n",
    "y(n) = x(n) + a_1 y(n-1) + a_2 y(n-2)\n",
    "$$\n",
    "where\n",
    "$$\n",
    "\\begin{align}\n",
    "a_1 &= p_1 + p_2\\\\\n",
    "a_2 &= - p_1 p_2\n",
    "\\end{align}\n",
    "$$\n",
    "\n",
    "For this system to work as a resonator the poles must be complex conjugates of each other, that is, $p_1 = p_2^{\\ast}$. In this case:\n",
    "$$\n",
    "\\begin{align}\n",
    "a_1 &= 2\\Re{p_1}\\\\\n",
    "a_2 &= - |p_1|^2\n",
    "\\end{align}\n",
    "$$\n",
    "A resonator is characterized by its natural frequency $\\omega_n$ and damping ratio $zeta$. When $0<\\zeta<1$ the system is underdamped and the poles are complex conjugates. \n",
    "\n",
    "When modeling the vocal tract each formant is defined by a frequency and a bandwidth,\n",
    "\n",
    "The formant frequency is usually considered the undamped resonant frequency (or natural frequency):\n",
    "$$\n",
    "F = 2 \\pi \\omega_n\n",
    "$$\n",
    "\n",
    "The bandwidth is measured between the cutoff frequencies, most frequently defined as the frequencies at which the frequency response has fallen to half the value at its peak.\n",
    "$$\n",
    "B = f_{c_2} - f_{c_1} = \\frac{\\omega_n \\zeta}{\\pi}\n",
    "$$\n",
    "\n",
    "These continuous-time frequency values can be used to define the position of the poles of the continuous time transfer function:\n",
    "$$\n",
    "\\omega_{peak} = \\omega_n \\sqrt{1-2\\zeta^2}\n",
    "$$\n",
    "\n",
    "To find the corresponding discrete-time transfer function we need to map the poles into the z-plane:\n",
    "$$\n",
    "\\begin{align}\n",
    "p_1 &= e^{s_1 T}=e^{(-\\zeta \\omega_n + \\omega_n \\sqrt{\\zeta^2 -1})T}\\\\\n",
    "p_2 &= e^{s_2 T}=e^{(-\\zeta \\omega_n - \\omega_n \\sqrt{\\zeta^2 -1})T}\\\\\n",
    "\\end{align}\n",
    "$$\n",
    "\n"
   ]
  },
  {
   "cell_type": "code",
   "execution_count": null,
   "id": "5547a00a",
   "metadata": {
    "deletable": false,
    "editable": false,
    "nbgrader": {
     "cell_type": "code",
     "checksum": "f0146474f80d7da496f9b3d17383c031",
     "grade": false,
     "grade_id": "cell-b3b98482ef270caf",
     "locked": true,
     "schema_version": 3,
     "solution": false,
     "task": false
    }
   },
   "outputs": [],
   "source": [
    "\n",
    "def formant_filter_coeffs(F, B, sr):\n",
    "    T = 1/sr\n",
    "    wn = 2*np.pi*F\n",
    "    zeta = 2*np.pi*B/(2*wn)\n",
    "    s1 = -zeta*wn + 1j*wn*np.sqrt(1-zeta**2)\n",
    "    s2 = -zeta*wn - 1j*wn*np.sqrt(1-zeta**2)\n",
    "    p1 = np.exp(s1*T)\n",
    "    p2 = np.exp(s2*T)\n",
    "    a = np.poly([p1, p2])\n",
    "    b = np.array([np.sum(a)])\n",
    "    return b, a\n"
   ]
  },
  {
   "cell_type": "markdown",
   "id": "7feeded7",
   "metadata": {
    "deletable": false,
    "editable": false,
    "nbgrader": {
     "cell_type": "markdown",
     "checksum": "f406ada1b4b1fb8cf6913694602e11dd",
     "grade": false,
     "grade_id": "cell-98b1a3e7cca39904",
     "locked": true,
     "schema_version": 3,
     "solution": false,
     "task": false
    }
   },
   "source": [
    "### Formant Filter Frequency Response\n",
    "\n",
    "The function scypi.signal.freqz() can be used to get the samples of the frequency response of a system with a rational transfer function such as the formant filter."
   ]
  },
  {
   "cell_type": "code",
   "execution_count": null,
   "id": "5a87db7d",
   "metadata": {
    "deletable": false,
    "editable": false,
    "nbgrader": {
     "cell_type": "code",
     "checksum": "4cff0f1bc9575d468251ce2ffa02e890",
     "grade": false,
     "grade_id": "cell-bf4e60a2147dcb5f",
     "locked": true,
     "schema_version": 3,
     "solution": false,
     "task": false
    }
   },
   "outputs": [],
   "source": [
    "fsyn_sr = 8000\n",
    "F1 = 500\n",
    "B1 = 100\n",
    "\n",
    "b, a = formant_filter_coeffs(F1, B1, fsyn_sr)\n",
    "w, h = sig.freqz(b, a, worN=1024)\n",
    "f = w/(2*np.pi)*fsyn_sr\n",
    "plt.plot(f, 20*np.log10(abs(h)))\n",
    "plt.grid()"
   ]
  },
  {
   "cell_type": "markdown",
   "id": "47c9cdc4",
   "metadata": {
    "deletable": false,
    "editable": false,
    "nbgrader": {
     "cell_type": "markdown",
     "checksum": "0bbda09b7caa604c34b04b5f969c69da",
     "grade": false,
     "grade_id": "cell-a600b7fcc3f2a8cb",
     "locked": true,
     "schema_version": 3,
     "solution": false,
     "task": false
    }
   },
   "source": [
    "### Cascate of Two Formant Filters\n",
    "\n",
    "Connecting the output of one formant filter to another results in the product of the transfer function of both filters\n",
    "$$\n",
    "H(z) = \\frac{1}{1-a_{11} z^{-1} - a_{12} z^{-2}} \\frac{1}{1-a_{11} z^{-1} - a_{22} z^{-2}}\n",
    "$$\n",
    "The resulting filter coefficients are the convolution of the filter parameters\n",
    "$$\n",
    "H(z) = \\frac{1}{1 - \n",
    "(a_{11}+a_{12}) z^{-1} - \n",
    "(a_{12}-a_{11}a_{21}+a_{22}) z^{-2} -\n",
    "(-a_{11}a_{22}-a_{12}a_{21}) z^{-3} -\n",
    "(-a_{12}a_{22})z^{-4}}\n",
    "$$\n",
    "\n"
   ]
  },
  {
   "cell_type": "code",
   "execution_count": null,
   "id": "1fa51b57",
   "metadata": {
    "deletable": false,
    "editable": false,
    "nbgrader": {
     "cell_type": "code",
     "checksum": "fba0ba17ddc27e1023b28a58fa082876",
     "grade": false,
     "grade_id": "cell-1087c865f169c560",
     "locked": true,
     "schema_version": 3,
     "solution": false,
     "task": false
    }
   },
   "outputs": [],
   "source": [
    "\n",
    "F2 = 1500\n",
    "B2 = 100\n",
    "b1, a1 = formant_filter_coeffs(F1, B1, fsyn_sr)\n",
    "b2, a2 = formant_filter_coeffs(F2, B2, fsyn_sr)\n",
    "b = np.convolve(b1, b2)\n",
    "a = np.convolve(a1, a2)\n",
    "w, h = sig.freqz(b, a, worN=1024)\n",
    "f = w/(2*np.pi)*fsyn_sr\n",
    "plt.plot(f, 20*np.log10(abs(h)))\n",
    "plt.grid()\n"
   ]
  },
  {
   "cell_type": "markdown",
   "id": "d9481517",
   "metadata": {
    "deletable": false,
    "editable": false,
    "nbgrader": {
     "cell_type": "markdown",
     "checksum": "4b2b701dea52c5f5a44901df6e803cdd",
     "grade": false,
     "grade_id": "cell-1e9ad9d070503cbb",
     "locked": true,
     "schema_version": 3,
     "solution": false,
     "task": false
    }
   },
   "source": [
    "### Source Signal Generator (T12)\n",
    "\n",
    "For voiced sounds ($f_0>0$) the source signal is a train of impulses:\n",
    "$$\n",
    "e(n) = \\sqrt{P} \\sum_{k=-\\infty}^{+\\infty} \\delta(n-kP)\n",
    "$$\n",
    "where $P=1/f_0$ is the fundamental period, and $\\delta(n)$ is the unit impulse function.\n",
    "\n",
    "For unvoiced sounds ($f_0=0$) the source signal is zero-mean unit-variance Gaussian white noise:\n",
    "$$\n",
    "e(n) \\sim \\mathcal{N} (0,1)\n",
    "$$\n",
    "\n",
    "Write a function that takes a f0 vector generated by the function sig_f0() and returns a vector with the same lenght with pulses or noise depending on the f0 estimate. Use basic Python and NumPy functions.\n"
   ]
  },
  {
   "cell_type": "code",
   "execution_count": null,
   "id": "23589b31",
   "metadata": {
    "deletable": false,
    "nbgrader": {
     "cell_type": "code",
     "checksum": "648f33dca387eeeb59875cd9b3c6fdf2",
     "grade": false,
     "grade_id": "T12",
     "locked": false,
     "schema_version": 3,
     "solution": true,
     "task": false
    }
   },
   "outputs": [],
   "source": [
    "def source_generator(f0, sr):\n",
    "    \"\"\"Generates a periodic pulse train with given fundamental frequency or with random noise if f0=0\"\"\"\n",
    "# YOUR CODE HERE\n",
    "raise NotImplementedError()\n",
    "    return exc\n"
   ]
  },
  {
   "cell_type": "code",
   "execution_count": null,
   "id": "3892d96e",
   "metadata": {
    "deletable": false,
    "editable": false,
    "nbgrader": {
     "cell_type": "code",
     "checksum": "1d81dc50172139400b664e6318b3ce68",
     "grade": true,
     "grade_id": "T14t",
     "locked": true,
     "points": 20,
     "schema_version": 3,
     "solution": false,
     "task": false
    }
   },
   "outputs": [],
   "source": [
    "assert len(source_generator(np.ones(64), sr)) == 64"
   ]
  },
  {
   "cell_type": "markdown",
   "id": "711b6bd8",
   "metadata": {
    "deletable": false,
    "editable": false,
    "jp-MarkdownHeadingCollapsed": true,
    "nbgrader": {
     "cell_type": "markdown",
     "checksum": "15f21c1438442526f88c34c498cb858d",
     "grade": false,
     "grade_id": "cell-932be274058725db",
     "locked": true,
     "schema_version": 3,
     "solution": false,
     "task": false
    }
   },
   "source": [
    "### Synthesize 3 Vowels (T12)\n",
    "\n",
    "In the following code block generate 3 audio signals:\n",
    "- `vowel_a` with samples of a synthesized vowel [a]\n",
    "- `vowel_i` with samples of a synthesized vowel [I]\n",
    "- `vowel_u` with samples of a synthesized vowel [u]\n",
    "\n",
    "with the following characteristics\n",
    "\n",
    "- Sample rate: 16000 Hz\n",
    "- Use only two formants for each vowel\n",
    "- Duration: 0.5 s\n",
    "- Linearly decaying f0 from 220 Hz to 190 Hz\n",
    "- Raised cosine RMS: starts and ends in zero and maximum amplitude at the middle of the vowel.\n",
    "\n",
    "The values for the formant frequencies and bandwidths should be extracted from your recordings\n"
   ]
  },
  {
   "cell_type": "code",
   "execution_count": null,
   "id": "f358873d",
   "metadata": {
    "deletable": false,
    "editable": false,
    "nbgrader": {
     "cell_type": "code",
     "checksum": "a4b3df6777b5f719ee82de012ba385ae",
     "grade": false,
     "grade_id": "cell-39a67bf475b1533f",
     "locked": true,
     "schema_version": 3,
     "solution": false,
     "task": false
    }
   },
   "outputs": [],
   "source": [
    "fsyn_sr = 16000"
   ]
  },
  {
   "cell_type": "code",
   "execution_count": null,
   "id": "8ac59f61",
   "metadata": {
    "deletable": false,
    "nbgrader": {
     "cell_type": "code",
     "checksum": "eac9b984c5963f95b283503398321989",
     "grade": true,
     "grade_id": "T15",
     "locked": false,
     "points": 15,
     "schema_version": 3,
     "solution": true,
     "task": false
    }
   },
   "outputs": [],
   "source": [
    "# YOUR CODE HERE\n",
    "raise NotImplementedError()"
   ]
  },
  {
   "cell_type": "code",
   "execution_count": null,
   "id": "5260b6f2",
   "metadata": {
    "deletable": false,
    "editable": false,
    "nbgrader": {
     "cell_type": "code",
     "checksum": "b934caa8544f26cc5c101ba06d540b13",
     "grade": false,
     "grade_id": "cell-e81a988d88d55247",
     "locked": true,
     "schema_version": 3,
     "solution": false,
     "task": false
    }
   },
   "outputs": [],
   "source": [
    "display(Audio(vowel_a, rate=fsyn_sr))\n",
    "display(Audio(vowel_i, rate=fsyn_sr))\n",
    "display(Audio(vowel_u, rate=fsyn_sr))"
   ]
  },
  {
   "cell_type": "markdown",
   "id": "8728c022",
   "metadata": {
    "deletable": false,
    "editable": false,
    "nbgrader": {
     "cell_type": "markdown",
     "checksum": "c41c30745560bcf07cb22d6f0e9f9a55",
     "grade": false,
     "grade_id": "cell-999b5f5a58a17161",
     "locked": true,
     "schema_version": 3,
     "solution": false,
     "task": false
    }
   },
   "source": [
    "### Linear Prediction Analysis\n",
    "\n",
    "Linear prediction tries to predict a signal sample $\\hat{s}(n)$ using a linear combination of the signal's past samples:\n",
    "$$\n",
    "\\hat{s}(n) = \\sum_{k=1}^{P} a_k s(n-k)\n",
    "$$\n",
    "\n",
    "The prediction error $e(n)$ is called the residue:\n",
    "$$\n",
    "e(n) = s(n) - \\sum_{k=1}^{P} a_k s(n-k)\n",
    "$$\n",
    "\n",
    "This difference equation as the form of an all-zero filter with a transfer function $A(z)$ that is a polynomial in $z$:\n",
    "$$\n",
    "A(z) = 1 - \\sum_{k=1}^{P} a_k z^{-k}\n",
    "$$\n",
    "\n",
    "The inverse of this filter is an all-pole filter that can be seen as similar to the vocal tract transfer function. In this case the residue can also be seen as an estimate of the glottal excitation.\n",
    "\n",
    "If the signal is assumed to be quasi-stationary, the linear prediction coefficients $a_k$ can be found by finding the values that minimizes the energy of the prediction error (residue):\n",
    "$$\n",
    "a_k = \\text{argmin}  \\sum_{n=-\\infty}^{+\\infty} \\left( e(n) \\right)^2\n",
    "$$\n",
    "\n",
    "This is an optimization problem where we want to minimize the error function:\n",
    "$$\n",
    "\\cal{E} = \\sum_{n=-\\infty}^{+\\infty} \\left( s(n) - \\sum_{k=1}^{P} a_k s(n-k) \\right)^2\n",
    "$$\n",
    "\n",
    "Setting the derivative of the error to zero\n",
    "$$\n",
    "\\frac{d \\cal{E}}{d a_k} = 2 \\sum_{n=-\\infty}^{+\\infty} \\left( s(n) - \\sum_{k=1}^{P} a_k s(n-k) \\right) s(n-k) = 0\n",
    "$$\n",
    "\n",
    "Results in a set of $P$ equations with P unknowns ($a_k$). Using the autocorrelation function:\n",
    "$$\n",
    "R(k) = \\sum_{n=-\\infty}^{+\\infty} s(n) s(n-k)\n",
    "$$\n",
    "\n",
    "The system of equations becomes:\n",
    "$$\n",
    "\\mathbf{R} \\mathbf{a} = \\mathbf{\\gamma}\n",
    "$$\n",
    "where $\\mathbf{R}$ is a $P \\times P$ matrix with elements $R_{k,i}=R(|k-i|)$, $\\mathbf{a}$ is $P \\times 1$ vector with the lpc coefficients $a_k$ and $\\mathbf{\\gamma}$ is $P \\times 1$ vector with $\\gamma_k = R(k)$.\n",
    "\n",
    "The solution is:\n",
    "$$\n",
    "\\mathbf{a} = R^{-1} \\mathbf{\\gamma}\n",
    "$$\n",
    "\n",
    "All the elements along the diagonals of the $\\mathbf{R}$ matrix have the same value, that is, $\\mathbf{R}$ is a Toeplitz matrix. The system of equations can be solved using the Levinson-Durbin recursion."
   ]
  },
  {
   "cell_type": "code",
   "execution_count": null,
   "id": "e68ce70a",
   "metadata": {
    "deletable": false,
    "editable": false,
    "nbgrader": {
     "cell_type": "code",
     "checksum": "289956eeaf5690076a3075bd94dd9255",
     "grade": false,
     "grade_id": "cell-e6fef87019f406da",
     "locked": true,
     "schema_version": 3,
     "solution": false,
     "task": false
    }
   },
   "outputs": [],
   "source": [
    "def bias_autocorr(signal, order):\n",
    "    \"\"\"Computes the autocorrelation of signal up to the order of the LPC analysis\"\"\"\n",
    "    N = len(signal)\n",
    "    r = np.zeros(order+1)\n",
    "    r[0] = np.sum(signal**2)/N\n",
    "    for k in range(1,order+1):\n",
    "        r[k] = np.sum(signal[k:]*signal[:-k])/N\n",
    "    return r"
   ]
  },
  {
   "cell_type": "code",
   "execution_count": null,
   "id": "f52294af",
   "metadata": {
    "deletable": false,
    "editable": false,
    "nbgrader": {
     "cell_type": "code",
     "checksum": "d8c6dd1cd3e1edf761469ecf01f1f972",
     "grade": false,
     "grade_id": "cell-e9e82ce3cfc0239f",
     "locked": true,
     "schema_version": 3,
     "solution": false,
     "task": false
    }
   },
   "outputs": [],
   "source": [
    "def levison_durbin(r, order):\n",
    "    \"\"\"Solves the levinson-durbin recursion for the LPC analysis\"\"\"\n",
    "    g = r[1] / r[0]\n",
    "    a = np.array([g])\n",
    "    v = (1 - g**2) * r[0]\n",
    "    for m in range(1, order):\n",
    "        g = (r[m+1] - np.dot(a, r[1:m+1])) / v\n",
    "        a = np.r_[ g, a - g*a[m-1::-1] ]\n",
    "        v *= 1 - g**2\n",
    "    return np.r_[1, -a[::-1]]\n"
   ]
  },
  {
   "cell_type": "code",
   "execution_count": null,
   "id": "70a0c4c2",
   "metadata": {
    "deletable": false,
    "editable": false,
    "nbgrader": {
     "cell_type": "code",
     "checksum": "a745d4e7bbe3e05eec7b182cb65b2f1e",
     "grade": false,
     "grade_id": "cell-e1e02168153d25b4",
     "locked": true,
     "schema_version": 3,
     "solution": false,
     "task": false
    }
   },
   "outputs": [],
   "source": [
    "def lpc(signal, order):\n",
    "    \"\"\"Computes the LPC analysis of signal x up to order order\"\"\"\n",
    "    return levison_durbin(bias_autocorr(signal, order), order)"
   ]
  },
  {
   "cell_type": "markdown",
   "id": "d9c1e0f1",
   "metadata": {
    "deletable": false,
    "editable": false,
    "nbgrader": {
     "cell_type": "markdown",
     "checksum": "5492fa8097e5205d47ec1188338dc750",
     "grade": false,
     "grade_id": "cell-22b9c292c62312a7",
     "locked": true,
     "schema_version": 3,
     "solution": false,
     "task": false
    }
   },
   "source": [
    "### LPC Spectrum\n",
    "\n",
    "The LPC spectrum is the frequency response of the all-pole system with the coefficients resulting from LPC analysis. The transfer function of the system is:\n",
    "$$\n",
    "H(z) = \\frac{K}{A(z)}\n",
    "$$\n",
    "where $K$ is a gain factor.\n",
    "\n",
    "To find the frequency response $z=e^{j\\omega}$:\n",
    "$$\n",
    "H(e^{j\\omega}) = \\frac{K}{A(e^{j\\omega})}\n",
    "$$\n",
    "\n",
    "The inverse filter is an all-zero filter, that is, a finite impulse response filter:\n",
    "$$\n",
    "H^{-1}(e^{j\\omega}) = A(e^{j\\omega})\n",
    "$$\n",
    "with impulse response:\n",
    "$$\n",
    "h^{-1}(n) = 1 - \\sum_{k=1}^{P} a_k \\delta(n-k)\n",
    "$$\n",
    "where $\\delta(n)$ is the unit impulse.\n",
    "\n",
    "The frequency response can be computed by inverting the DFT of the impulse response of the inverse filter."
   ]
  },
  {
   "cell_type": "code",
   "execution_count": null,
   "id": "59b45291",
   "metadata": {
    "deletable": false,
    "editable": false,
    "nbgrader": {
     "cell_type": "code",
     "checksum": "b7942c3fa5f794a92c88fbf58f59df40",
     "grade": false,
     "grade_id": "cell-322c843967a5519b",
     "locked": true,
     "schema_version": 3,
     "solution": false,
     "task": false
    }
   },
   "outputs": [],
   "source": [
    "def lpc_spectrum_dB(x, fs, order, fmin=0, fmax=0, ax=None):\n",
    "    \"\"\"\n",
    "    Plot the magnitude spectrum of sequence x\n",
    "    using the sampling frequency fs\n",
    "    \"\"\"\n",
    "\n",
    "    X = np.divide(1.0, fft(lpc(x, order), len(x)))\n",
    "    X_mag_dB = 20*np.log10(np.abs(X))\n",
    "    \n",
    "    # the DFT samples the frequency range with N points\n",
    "    f = np.linspace(0,fs, X.size)\n",
    "    \n",
    "    # plot frequency range\n",
    "    if (fmin < 0 or fmin>fs):\n",
    "        fmin = 0\n",
    "    if (fmax <= 0 or fmax>fs):\n",
    "        fmax = fs/2\n",
    "    \n",
    "    # plot\n",
    "    if ax == None:\n",
    "        fig, ax = plt.subplots(figsize=(10,6))\n",
    "    ax.set(xlim=(fmin, fmax))\n",
    "    ax.plot(f, X_mag_dB)\n",
    "    plt.xlabel('Frequency (Hz)')\n",
    "    plt.grid()\n",
    "    return ax"
   ]
  },
  {
   "cell_type": "markdown",
   "id": "c6081206",
   "metadata": {
    "deletable": false,
    "editable": false,
    "nbgrader": {
     "cell_type": "markdown",
     "checksum": "57afac6cfb69c39a909c9f3e82a4d20c",
     "grade": false,
     "grade_id": "cell-67207c936d6aa816",
     "locked": true,
     "schema_version": 3,
     "solution": false,
     "task": false
    }
   },
   "source": [
    "### LPC Order\n",
    "\n",
    "The order of the LPC analysis should be adjusted in order to model the resonances of the vocal tract in the selected frequency range.\n",
    "\n",
    "The analysis of a lossless tube show that it has one resonance in every 1000 Hz frequency band. Since each ressonance requires 2 filter coefficients, it is common to chose an LPC order equal to sampling frequency divide by 1000 plus an addicional ressonance to allow the presence of a nasal zero."
   ]
  },
  {
   "cell_type": "code",
   "execution_count": null,
   "id": "ec5ab285",
   "metadata": {
    "deletable": false,
    "editable": false,
    "nbgrader": {
     "cell_type": "code",
     "checksum": "88178654574aa68fc6ea88c9b7910c14",
     "grade": false,
     "grade_id": "cell-1922ec31cb35e61b",
     "locked": true,
     "schema_version": 3,
     "solution": false,
     "task": false
    }
   },
   "outputs": [],
   "source": [
    "order = sr//1000 + 2\n",
    "\n",
    "ax = mag_spectrum_dB(vowel1024, sr)\n",
    "ax = lpc_spectrum_dB(vowel1024, sr, order, ax=ax)\n",
    "plt.show()"
   ]
  },
  {
   "cell_type": "markdown",
   "id": "9870cb68",
   "metadata": {
    "deletable": false,
    "editable": false,
    "nbgrader": {
     "cell_type": "markdown",
     "checksum": "8c0d15d12a82df96a0fb2889c7b3ca32",
     "grade": false,
     "grade_id": "cell-60d553966c087a4b",
     "locked": true,
     "schema_version": 3,
     "solution": false,
     "task": false
    }
   },
   "source": [
    "### LPC Error (T13)\n",
    "\n",
    "The all-zeros filter can be used to estimate the LPC error or residue. The residue signal should have less energy than the original signal and shows periodic pulses.\n",
    "\n",
    "If we assume that the LPC filter is an estimate of the vocal tract, residue signal is an estimate of the voicing source necessary to produce the vowel.\n",
    "\n",
    "The function scipy.signal.lfilter() implements a difference equation. Initialize the vectors `b` and `a` with the filter parameters"
   ]
  },
  {
   "cell_type": "code",
   "execution_count": null,
   "id": "febd5af7",
   "metadata": {
    "deletable": false,
    "nbgrader": {
     "cell_type": "code",
     "checksum": "457f1b9d29192d64c7611249dbf21cf9",
     "grade": false,
     "grade_id": "T9",
     "locked": false,
     "schema_version": 3,
     "solution": true,
     "task": false
    }
   },
   "outputs": [],
   "source": [
    "# YOUR CODE HERE\n",
    "raise NotImplementedError()\n",
    "vowel1024_resid = sig.lfilter(b, a, vowel1024)\n",
    "librosa.display.waveshow(vowel1024, sr=sr)\n",
    "librosa.display.waveshow(vowel1024_resid, sr=sr)\n",
    "plt.grid()\n"
   ]
  },
  {
   "cell_type": "code",
   "execution_count": null,
   "id": "2cd0cae0",
   "metadata": {
    "deletable": false,
    "editable": false,
    "nbgrader": {
     "cell_type": "code",
     "checksum": "29d70facbf8ba1bc45755d65d9408a7f",
     "grade": true,
     "grade_id": "T9t",
     "locked": true,
     "points": 10,
     "schema_version": 3,
     "solution": false,
     "task": false
    }
   },
   "outputs": [],
   "source": [
    "assert np.average(np.abs(vowel1024_resid)) < np.average(np.abs(vowel1024))"
   ]
  },
  {
   "cell_type": "markdown",
   "id": "17f4573a",
   "metadata": {
    "deletable": false,
    "editable": false,
    "nbgrader": {
     "cell_type": "markdown",
     "checksum": "ffff95b2b60d0f9cc75c76146c48d903",
     "grade": false,
     "grade_id": "cell-56469e77d43176b8",
     "locked": true,
     "schema_version": 3,
     "solution": false,
     "task": false
    }
   },
   "source": [
    "### LPC Vocoder\n",
    "\n",
    "An LPC (Linear Predictive Coding) vocoder combines the LPC analysis and LPC synthesis.\n",
    "\n",
    "We saw that in LPC analysis, the speech signal is modeled as a linear combination of past samples, and the model coefficients are a good estimation the signal's spectral envelope.\n",
    "\n",
    "In the source-filter model, the vocal tract is responsible for speech signal's spectral envelope. If we assume that the vocal tract is an all-pole filter, the LPC coefficients can be used as the parameters for that filter.\n",
    "\n",
    "Since the vocal tract changes in time, we need a filter that can also change in time\n",
    "\n",
    "\n",
    "\n",
    "\n"
   ]
  },
  {
   "cell_type": "markdown",
   "id": "6c40ca40",
   "metadata": {
    "deletable": false,
    "editable": false,
    "nbgrader": {
     "cell_type": "markdown",
     "checksum": "0bb409bbbed85db336b3ce6a80d31fe1",
     "grade": false,
     "grade_id": "cell-527080b4698d6ebd",
     "locked": true,
     "schema_version": 3,
     "solution": false,
     "task": false
    }
   },
   "source": [
    "### Time Varying Overlap-Add Filter\n",
    "\n",
    "Using the same approach that we used for analysing non-stationary signals, we can split the filtering process using a frame-based method.\n",
    "\n",
    "The only difference is that we need to make sure that the signal framing process does not modify the amplitude of the reconstructed signal. This can be achieved, for example, by using\n",
    "Hanning windows and an hop value equal to half of the frame length. This way, the sum of all windows equals one except in the first half of the first frame and in the last half of the last frame.\n",
    "\n",
    "This process is called overlap-add filtering. "
   ]
  },
  {
   "cell_type": "code",
   "execution_count": null,
   "id": "58227f0a",
   "metadata": {
    "deletable": false,
    "editable": false,
    "nbgrader": {
     "cell_type": "code",
     "checksum": "512b5e6b279d273bd5ad7e2c3c7d91ab",
     "grade": false,
     "grade_id": "cell-d8609976869cecac",
     "locked": true,
     "schema_version": 3,
     "solution": false,
     "task": false
    }
   },
   "outputs": [],
   "source": [
    "def variable_filter(b, a, x, frame_length=1024, hop_length=512):\n",
    "    \"\"\"Frame-based filtering with time-varying filter coefficients\"\"\"\n",
    "    N = len(x)\n",
    "    w = np.sin(np.linspace(0,np.pi,num=frame_length))\n",
    "    x_pad = pad_signal(x, hop_length, hop_length)\n",
    "    x_frames = librosa.util.frame(x_pad, frame_length=frame_length, hop_length=hop_length, axis=0)\n",
    "    y_frames = np.zeros(x_frames.shape)\n",
    "    min_frames = min(b.shape[0], a.shape[0], x_frames.shape[0])\n",
    "    for f in range(min_frames):\n",
    "        x = x_frames[f] * w\n",
    "        y_frames[f] = sig.lfilter(b[f], a[f], x_frames[f])\n",
    "    # overlap_add\n",
    "    y = np.zeros_like(x_pad)\n",
    "    for n in range(0, len(x_pad) - frame_length, hop_length):\n",
    "        y[n:n+frame_length] += y_frames[n//hop_length] * w\n",
    "    return y[:N]\n"
   ]
  },
  {
   "cell_type": "markdown",
   "id": "d928851c",
   "metadata": {
    "deletable": false,
    "editable": false,
    "nbgrader": {
     "cell_type": "markdown",
     "checksum": "c033bea0156cee325f59c7d11dc03cd7",
     "grade": false,
     "grade_id": "cell-82c4900238f1d82f",
     "locked": true,
     "schema_version": 3,
     "solution": false,
     "task": false
    }
   },
   "source": [
    "### Test the Overlap-Add Filter\n",
    "\n",
    "To test the time-varying filter we will use a fixed low pass filter "
   ]
  },
  {
   "cell_type": "code",
   "execution_count": null,
   "id": "461dbd52",
   "metadata": {
    "deletable": false,
    "editable": false,
    "nbgrader": {
     "cell_type": "code",
     "checksum": "b1515170a2f92eda0db582e11b380c51",
     "grade": false,
     "grade_id": "cell-4149ec50e598881f",
     "locked": true,
     "schema_version": 3,
     "solution": false,
     "task": false
    }
   },
   "outputs": [],
   "source": [
    "# 4th order Butterworth lowpass filter\n",
    "fc = 3000\n",
    "butter_b, butter_a = sig.butter(4, fc/sr, 'low')\n",
    "\n",
    "# Number of frames\n",
    "frame_length = 1024\n",
    "hop_length = frame_length//2\n",
    "nframes = len(utt1)//hop_length + (len(utt1)%hop_length >0)\n",
    "\n",
    "# time-varying filter coefficients\n",
    "b = np.tile(butter_b, (nframes, 1))\n",
    "a = np.tile(butter_a, (nframes, 1))\n",
    "\n",
    "# apply filter\n",
    "utt1_lowp = variable_filter(b, a, utt1, frame_length, hop_length)\n",
    "librosa.display.waveshow(utt1_lowp, sr=sr)\n",
    "plt.grid()\n",
    "display(Audio(utt1, rate=sr))\n",
    "display(Audio(utt1_lowp, rate=sr))"
   ]
  },
  {
   "cell_type": "markdown",
   "id": "449801ab",
   "metadata": {
    "deletable": false,
    "editable": false,
    "nbgrader": {
     "cell_type": "markdown",
     "checksum": "0a7d400ca2fcd5df8aa981345628cbb8",
     "grade": false,
     "grade_id": "cell-04a27d2173ad762a",
     "locked": true,
     "schema_version": 3,
     "solution": false,
     "task": false
    }
   },
   "source": [
    "### Frame-Based LPC Analysis (T14)\n",
    "\n",
    "To generate the parameters of the LPC filter we need to perform an LPC analysis for every frame of the signal.\n",
    "Use a Hanning window together with the lpc() function defined previously to compute the LPC parameters for each frame."
   ]
  },
  {
   "cell_type": "code",
   "execution_count": null,
   "id": "352972ab",
   "metadata": {
    "deletable": false,
    "nbgrader": {
     "cell_type": "code",
     "checksum": "5c6ac490bd88fb0bcc9297a4c42f51af",
     "grade": false,
     "grade_id": "T16",
     "locked": false,
     "schema_version": 3,
     "solution": true,
     "task": false
    }
   },
   "outputs": [],
   "source": [
    "def frame_based_lpc(x, order, frame_length, hop_length):\n",
    "    \"\"\"Computes frame-base LPC parameters of signal x\"\"\"\n",
    "# YOUR CODE HERE\n",
    "raise NotImplementedError()\n",
    "    return lpc_coeffs"
   ]
  },
  {
   "cell_type": "code",
   "execution_count": null,
   "id": "fcf1b4b5",
   "metadata": {
    "deletable": false,
    "editable": false,
    "nbgrader": {
     "cell_type": "code",
     "checksum": "3648db97f2c7e4787da29f93665fca37",
     "grade": true,
     "grade_id": "T16t",
     "locked": true,
     "points": 10,
     "schema_version": 3,
     "solution": false,
     "task": false
    }
   },
   "outputs": [],
   "source": [
    "assert (frame_based_lpc(np.sin(2*np.pi*np.arange(200)/20),10,100,50).shape[0] == 4)\n",
    "assert (frame_based_lpc(np.sin(2*np.pi*np.arange(200)/20),10,100,50).shape[1] == 11)"
   ]
  },
  {
   "cell_type": "markdown",
   "id": "e2a6120e",
   "metadata": {
    "deletable": false,
    "editable": false,
    "nbgrader": {
     "cell_type": "markdown",
     "checksum": "7f7505cbaa3466ab8c8e5d8e3ac93cdc",
     "grade": false,
     "grade_id": "cell-3710c6246f6b988d",
     "locked": true,
     "schema_version": 3,
     "solution": false,
     "task": false
    }
   },
   "source": [
    "### Test the Frame-Based LPC analysis\n",
    "\n",
    "A good way to test the LPC analysis is by estimating the LPC error or residual signal that can be obtained by filtering the original signal with an all-zeros filter.\n"
   ]
  },
  {
   "cell_type": "code",
   "execution_count": null,
   "id": "12b94d35",
   "metadata": {
    "deletable": false,
    "editable": false,
    "nbgrader": {
     "cell_type": "code",
     "checksum": "892495d18e064b9ce4b051365db0ea0e",
     "grade": false,
     "grade_id": "cell-2fa007fda1d8aa44",
     "locked": true,
     "schema_version": 3,
     "solution": false,
     "task": false
    }
   },
   "outputs": [],
   "source": [
    "order = 20\n",
    "frame_length = 2048\n",
    "hop_length = frame_length//2\n",
    "lpc_coeffs = frame_based_lpc(utt1, order, frame_length, hop_length)\n",
    "a = np.tile(1, (len(lpc_coeffs), 1))\n",
    "\n",
    "utt1_resid = variable_filter(lpc_coeffs, a, utt1, frame_length, hop_length)\n",
    "librosa.display.waveshow(utt1_resid, sr=sr)\n",
    "plt.grid()\n",
    "display(Audio(utt1_resid, rate=sr))"
   ]
  },
  {
   "cell_type": "markdown",
   "id": "f18b40f3",
   "metadata": {
    "deletable": false,
    "editable": false,
    "nbgrader": {
     "cell_type": "markdown",
     "checksum": "e6cfd0e669ca4d8a5003320ab6412ce2",
     "grade": false,
     "grade_id": "cell-7ce887687e9b1a74",
     "locked": true,
     "schema_version": 3,
     "solution": false,
     "task": false
    }
   },
   "source": [
    "### LPC Error Signal (T15)\n",
    "\n",
    "By listening to the LPC error signal (or residue) what can you conclude about the capacity of this LPC filter to model the vocal tract? What features may the model be missing?"
   ]
  },
  {
   "cell_type": "markdown",
   "id": "1b10b36f",
   "metadata": {
    "deletable": false,
    "nbgrader": {
     "cell_type": "markdown",
     "checksum": "bb66e2fc73ec3cbbc10922b322cb2518",
     "grade": true,
     "grade_id": "T17",
     "locked": false,
     "points": 10,
     "schema_version": 3,
     "solution": true,
     "task": false
    }
   },
   "source": [
    "YOUR ANSWER HERE"
   ]
  },
  {
   "cell_type": "markdown",
   "id": "d8aa3f66",
   "metadata": {
    "deletable": false,
    "editable": false,
    "nbgrader": {
     "cell_type": "markdown",
     "checksum": "a50d61b42cea14dc86c8bc26bf018142",
     "grade": false,
     "grade_id": "cell-60c0227736845f26",
     "locked": true,
     "schema_version": 3,
     "solution": false,
     "task": false
    }
   },
   "source": [
    "### LPC Synthesis (T16)\n",
    "\n",
    "You now have all the tools to generate a synthetic version of the residue signal that can be used at the input of the all-poles LPC filter to synthesize a version of the original file.\n",
    "\n",
    "In the second next code cell generate a synthetic version of the first Harvard sentence based on the LPC parameters, F0 and RMS estimation.\n",
    "\n",
    "Use a downsampled version of `utt1` to see the effect of the original signal bandwith in the final result. Adjust the LPC order to the signal's sampling rate.\n",
    "\n",
    "Repeat with the recordings of the sentence spoken by both students"
   ]
  },
  {
   "cell_type": "code",
   "execution_count": null,
   "id": "a731c7bf",
   "metadata": {
    "deletable": false,
    "editable": false,
    "nbgrader": {
     "cell_type": "code",
     "checksum": "b8d8fbb8171acb1f572dd17be3536c5a",
     "grade": false,
     "grade_id": "cell-3f7b283d2f1c8607",
     "locked": true,
     "schema_version": 3,
     "solution": false,
     "task": false
    }
   },
   "outputs": [],
   "source": [
    "new_sr = 16000\n",
    "utt1_rs = librosa.resample(utt1, orig_sr=sr, target_sr=new_sr)"
   ]
  },
  {
   "cell_type": "code",
   "execution_count": null,
   "id": "655c9050",
   "metadata": {
    "deletable": false,
    "nbgrader": {
     "cell_type": "code",
     "checksum": "e6cffb9390ce7d355246a42640e6a750",
     "grade": true,
     "grade_id": "T18",
     "locked": false,
     "points": 20,
     "schema_version": 3,
     "solution": true,
     "task": false
    }
   },
   "outputs": [],
   "source": [
    "# YOUR CODE HERE\n",
    "raise NotImplementedError()"
   ]
  },
  {
   "cell_type": "code",
   "execution_count": null,
   "id": "9d29a2ad",
   "metadata": {
    "deletable": false,
    "editable": false,
    "nbgrader": {
     "cell_type": "code",
     "checksum": "720e1ed6484b37547f0b16b993307faa",
     "grade": false,
     "grade_id": "cell-eedb570b6892c5ba",
     "locked": true,
     "schema_version": 3,
     "solution": false,
     "task": false
    }
   },
   "outputs": [],
   "source": [
    "librosa.display.waveshow(utt1_syn, sr=new_sr)\n",
    "plt.grid()\n",
    "\n",
    "display(Audio(utt1_rs, rate=new_sr))\n",
    "display(Audio(utt1_syn, rate=new_sr))\n",
    "display(Audio(student1_syn, rate=new_sr))\n",
    "display(Audio(student2_syn, rate=new_sr))"
   ]
  },
  {
   "cell_type": "markdown",
   "id": "916e7ed7",
   "metadata": {
    "deletable": false,
    "editable": false,
    "nbgrader": {
     "cell_type": "markdown",
     "checksum": "f4cb903458fddb8a03beda8dc0a715ae",
     "grade": false,
     "grade_id": "1234",
     "locked": true,
     "schema_version": 3,
     "solution": false,
     "task": false
    }
   },
   "source": [
    "### Robotic Voice (T17)\n",
    "\n",
    "Modify the previous code to generate an all voice signal with fixed fundamental frequency of $f_0 = 180 Hz$\n",
    "Produce 3 synthetics signals: the first Harvard sentence and your sentence spoken by both students"
   ]
  },
  {
   "cell_type": "code",
   "execution_count": null,
   "id": "b971a093",
   "metadata": {
    "deletable": false,
    "nbgrader": {
     "cell_type": "code",
     "checksum": "57f1873e6a938d3aca20e851d0a3e686",
     "grade": true,
     "grade_id": "T19",
     "locked": false,
     "points": 10,
     "schema_version": 3,
     "solution": true,
     "task": false
    }
   },
   "outputs": [],
   "source": [
    "# YOUR CODE HERE\n",
    "raise NotImplementedError()"
   ]
  },
  {
   "cell_type": "code",
   "execution_count": null,
   "id": "febc9036",
   "metadata": {
    "deletable": false,
    "editable": false,
    "nbgrader": {
     "cell_type": "code",
     "checksum": "3d1d34d88adacc1b2caca9b60a41ba39",
     "grade": false,
     "grade_id": "cell-2721628d2cdeb709",
     "locked": true,
     "schema_version": 3,
     "solution": false,
     "task": false
    }
   },
   "outputs": [],
   "source": [
    "librosa.display.waveshow(utt1_robotic, sr=new_sr)\n",
    "plt.grid()\n",
    "display(Audio(utt1_robotic, rate=new_sr))\n",
    "display(Audio(student1_robotic, rate=new_sr))\n",
    "display(Audio(student2_robotic, rate=new_sr))"
   ]
  },
  {
   "cell_type": "markdown",
   "id": "65a49640",
   "metadata": {
    "deletable": false,
    "editable": false,
    "nbgrader": {
     "cell_type": "markdown",
     "checksum": "a82d885a8243efa2615f9edbc9d24528",
     "grade": false,
     "grade_id": "cell-7041363c6940b3e3",
     "locked": true,
     "schema_version": 3,
     "solution": false,
     "task": false
    }
   },
   "source": [
    "### Whispered Voice (T18)\n",
    "\n",
    "Modify the previous code to generate a fully unvoice signal that simulates a whispered voice.\n",
    "Produce 3 synthetics signals: the first Harvard sentence and your sentence spoken by both students"
   ]
  },
  {
   "cell_type": "code",
   "execution_count": null,
   "id": "734d611e",
   "metadata": {
    "deletable": false,
    "nbgrader": {
     "cell_type": "code",
     "checksum": "63780f9ed5eaf5869cd937fa6689b2d0",
     "grade": true,
     "grade_id": "T20",
     "locked": false,
     "points": 10,
     "schema_version": 3,
     "solution": true,
     "task": false
    }
   },
   "outputs": [],
   "source": [
    "# YOUR CODE HERE\n",
    "raise NotImplementedError()"
   ]
  },
  {
   "cell_type": "code",
   "execution_count": null,
   "id": "3215519a",
   "metadata": {
    "deletable": false,
    "editable": false,
    "nbgrader": {
     "cell_type": "code",
     "checksum": "00e80a1f14043c0fb40bb7d1bd78c7ce",
     "grade": false,
     "grade_id": "cell-b78e57747fd5dc5f",
     "locked": true,
     "schema_version": 3,
     "solution": false,
     "task": false
    }
   },
   "outputs": [],
   "source": [
    "librosa.display.waveshow(utt1_whisper, sr=new_sr)\n",
    "plt.grid()\n",
    "display(Audio(utt1_whisper, rate=new_sr))\n",
    "display(Audio(student1_whisper, rate=new_sr))\n",
    "display(Audio(student2_whisper, rate=new_sr))"
   ]
  }
 ],
 "metadata": {
  "kernelspec": {
   "display_name": "Python 3 (ipykernel)",
   "language": "python",
   "name": "python3"
  },
  "language_info": {
   "codemirror_mode": {
    "name": "ipython",
    "version": 3
   },
   "file_extension": ".py",
   "mimetype": "text/x-python",
   "name": "python",
   "nbconvert_exporter": "python",
   "pygments_lexer": "ipython3",
   "version": "3.10.12"
  },
  "vscode": {
   "interpreter": {
    "hash": "49345cbd358e70c3061d915ca81696aa8f7e07e483518f8ab6512698c1722880"
   }
  }
 },
 "nbformat": 4,
 "nbformat_minor": 5
}
